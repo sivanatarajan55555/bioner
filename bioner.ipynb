{
  "cells": [
    {
      "cell_type": "code",
      "execution_count": null,
      "metadata": {
        "colab": {
          "base_uri": "https://localhost:8080/"
        },
        "id": "QkPH0RbVH5po",
        "outputId": "4cfa2928-c0e6-44f6-c164-d17f273d9370"
      },
      "outputs": [
        {
          "name": "stdout",
          "output_type": "stream",
          "text": [
            "Looking in indexes: https://pypi.org/simple, https://us-python.pkg.dev/colab-wheels/public/simple/\n",
            "Collecting sentencepiece\n",
            "  Downloading sentencepiece-0.1.98-cp39-cp39-manylinux_2_17_x86_64.manylinux2014_x86_64.whl (1.3 MB)\n",
            "\u001b[2K     \u001b[90m━━━━━━━━━━━━━━━━━━━━━━━━━━━━━━━━━━━━━━━━\u001b[0m \u001b[32m1.3/1.3 MB\u001b[0m \u001b[31m48.7 MB/s\u001b[0m eta \u001b[36m0:00:00\u001b[0m\n",
            "\u001b[?25hInstalling collected packages: sentencepiece\n",
            "Successfully installed sentencepiece-0.1.98\n"
          ]
        }
      ],
      "source": [
        "!pip install sentencepiece"
      ]
    },
    {
      "cell_type": "code",
      "execution_count": null,
      "metadata": {
        "colab": {
          "base_uri": "https://localhost:8080/"
        },
        "id": "MOsHUjgdIrIW",
        "outputId": "74964956-b9aa-4e79-82ef-d8b6d85ddd82"
      },
      "outputs": [
        {
          "name": "stdout",
          "output_type": "stream",
          "text": [
            "Looking in indexes: https://pypi.org/simple, https://us-python.pkg.dev/colab-wheels/public/simple/\n",
            "Collecting datasets\n",
            "  Downloading datasets-2.11.0-py3-none-any.whl (468 kB)\n",
            "\u001b[2K     \u001b[90m━━━━━━━━━━━━━━━━━━━━━━━━━━━━━━━━━━━━━━\u001b[0m \u001b[32m468.7/468.7 kB\u001b[0m \u001b[31m11.4 MB/s\u001b[0m eta \u001b[36m0:00:00\u001b[0m\n",
            "\u001b[?25hCollecting transformers\n",
            "  Downloading transformers-4.28.1-py3-none-any.whl (7.0 MB)\n",
            "\u001b[2K     \u001b[90m━━━━━━━━━━━━━━━━━━━━━━━━━━━━━━━━━━━━━━━━\u001b[0m \u001b[32m7.0/7.0 MB\u001b[0m \u001b[31m67.9 MB/s\u001b[0m eta \u001b[36m0:00:00\u001b[0m\n",
            "\u001b[?25hCollecting seqeval\n",
            "  Downloading seqeval-1.2.2.tar.gz (43 kB)\n",
            "\u001b[2K     \u001b[90m━━━━━━━━━━━━━━━━━━━━━━━━━━━━━━━━━━━━━━━━\u001b[0m \u001b[32m43.6/43.6 kB\u001b[0m \u001b[31m3.8 MB/s\u001b[0m eta \u001b[36m0:00:00\u001b[0m\n",
            "\u001b[?25h  Preparing metadata (setup.py) ... \u001b[?25l\u001b[?25hdone\n",
            "Collecting huggingface-hub<1.0.0,>=0.11.0\n",
            "  Downloading huggingface_hub-0.13.4-py3-none-any.whl (200 kB)\n",
            "\u001b[2K     \u001b[90m━━━━━━━━━━━━━━━━━━━━━━━━━━━━━━━━━━━━━━\u001b[0m \u001b[32m200.1/200.1 kB\u001b[0m \u001b[31m22.1 MB/s\u001b[0m eta \u001b[36m0:00:00\u001b[0m\n",
            "\u001b[?25hRequirement already satisfied: tqdm>=4.62.1 in /usr/local/lib/python3.9/dist-packages (from datasets) (4.65.0)\n",
            "Collecting aiohttp\n",
            "  Downloading aiohttp-3.8.4-cp39-cp39-manylinux_2_17_x86_64.manylinux2014_x86_64.whl (1.0 MB)\n",
            "\u001b[2K     \u001b[90m━━━━━━━━━━━━━━━━━━━━━━━━━━━━━━━━━━━━━━━━\u001b[0m \u001b[32m1.0/1.0 MB\u001b[0m \u001b[31m77.1 MB/s\u001b[0m eta \u001b[36m0:00:00\u001b[0m\n",
            "\u001b[?25hRequirement already satisfied: packaging in /usr/local/lib/python3.9/dist-packages (from datasets) (23.1)\n",
            "Collecting dill<0.3.7,>=0.3.0\n",
            "  Downloading dill-0.3.6-py3-none-any.whl (110 kB)\n",
            "\u001b[2K     \u001b[90m━━━━━━━━━━━━━━━━━━━━━━━━━━━━━━━━━━━━━━\u001b[0m \u001b[32m110.5/110.5 kB\u001b[0m \u001b[31m17.0 MB/s\u001b[0m eta \u001b[36m0:00:00\u001b[0m\n",
            "\u001b[?25hCollecting xxhash\n",
            "  Downloading xxhash-3.2.0-cp39-cp39-manylinux_2_17_x86_64.manylinux2014_x86_64.whl (212 kB)\n",
            "\u001b[2K     \u001b[90m━━━━━━━━━━━━━━━━━━━━━━━━━━━━━━━━━━━━━━\u001b[0m \u001b[32m212.2/212.2 kB\u001b[0m \u001b[31m31.4 MB/s\u001b[0m eta \u001b[36m0:00:00\u001b[0m\n",
            "\u001b[?25hRequirement already satisfied: pyyaml>=5.1 in /usr/local/lib/python3.9/dist-packages (from datasets) (6.0)\n",
            "Requirement already satisfied: requests>=2.19.0 in /usr/local/lib/python3.9/dist-packages (from datasets) (2.27.1)\n",
            "Requirement already satisfied: pyarrow>=8.0.0 in /usr/local/lib/python3.9/dist-packages (from datasets) (9.0.0)\n",
            "Requirement already satisfied: fsspec[http]>=2021.11.1 in /usr/local/lib/python3.9/dist-packages (from datasets) (2023.4.0)\n",
            "Collecting multiprocess\n",
            "  Downloading multiprocess-0.70.14-py39-none-any.whl (132 kB)\n",
            "\u001b[2K     \u001b[90m━━━━━━━━━━━━━━━━━━━━━━━━━━━━━━━━━━━━━━\u001b[0m \u001b[32m132.9/132.9 kB\u001b[0m \u001b[31m20.0 MB/s\u001b[0m eta \u001b[36m0:00:00\u001b[0m\n",
            "\u001b[?25hCollecting responses<0.19\n",
            "  Downloading responses-0.18.0-py3-none-any.whl (38 kB)\n",
            "Requirement already satisfied: pandas in /usr/local/lib/python3.9/dist-packages (from datasets) (1.5.3)\n",
            "Requirement already satisfied: numpy>=1.17 in /usr/local/lib/python3.9/dist-packages (from datasets) (1.22.4)\n",
            "Requirement already satisfied: regex!=2019.12.17 in /usr/local/lib/python3.9/dist-packages (from transformers) (2022.10.31)\n",
            "Collecting tokenizers!=0.11.3,<0.14,>=0.11.1\n",
            "  Downloading tokenizers-0.13.3-cp39-cp39-manylinux_2_17_x86_64.manylinux2014_x86_64.whl (7.8 MB)\n",
            "\u001b[2K     \u001b[90m━━━━━━━━━━━━━━━━━━━━━━━━━━━━━━━━━━━━━━━━\u001b[0m \u001b[32m7.8/7.8 MB\u001b[0m \u001b[31m102.0 MB/s\u001b[0m eta \u001b[36m0:00:00\u001b[0m\n",
            "\u001b[?25hRequirement already satisfied: filelock in /usr/local/lib/python3.9/dist-packages (from transformers) (3.11.0)\n",
            "Requirement already satisfied: scikit-learn>=0.21.3 in /usr/local/lib/python3.9/dist-packages (from seqeval) (1.2.2)\n",
            "Collecting multidict<7.0,>=4.5\n",
            "  Downloading multidict-6.0.4-cp39-cp39-manylinux_2_17_x86_64.manylinux2014_x86_64.whl (114 kB)\n",
            "\u001b[2K     \u001b[90m━━━━━━━━━━━━━━━━━━━━━━━━━━━━━━━━━━━━━━\u001b[0m \u001b[32m114.2/114.2 kB\u001b[0m \u001b[31m16.9 MB/s\u001b[0m eta \u001b[36m0:00:00\u001b[0m\n",
            "\u001b[?25hCollecting async-timeout<5.0,>=4.0.0a3\n",
            "  Downloading async_timeout-4.0.2-py3-none-any.whl (5.8 kB)\n",
            "Requirement already satisfied: attrs>=17.3.0 in /usr/local/lib/python3.9/dist-packages (from aiohttp->datasets) (23.1.0)\n",
            "Collecting aiosignal>=1.1.2\n",
            "  Downloading aiosignal-1.3.1-py3-none-any.whl (7.6 kB)\n",
            "Requirement already satisfied: charset-normalizer<4.0,>=2.0 in /usr/local/lib/python3.9/dist-packages (from aiohttp->datasets) (2.0.12)\n",
            "Collecting yarl<2.0,>=1.0\n",
            "  Downloading yarl-1.9.1-cp39-cp39-manylinux_2_17_x86_64.manylinux2014_x86_64.whl (269 kB)\n",
            "\u001b[2K     \u001b[90m━━━━━━━━━━━━━━━━━━━━━━━━━━━━━━━━━━━━━━\u001b[0m \u001b[32m269.3/269.3 kB\u001b[0m \u001b[31m34.2 MB/s\u001b[0m eta \u001b[36m0:00:00\u001b[0m\n",
            "\u001b[?25hCollecting frozenlist>=1.1.1\n",
            "  Downloading frozenlist-1.3.3-cp39-cp39-manylinux_2_5_x86_64.manylinux1_x86_64.manylinux_2_17_x86_64.manylinux2014_x86_64.whl (158 kB)\n",
            "\u001b[2K     \u001b[90m━━━━━━━━━━━━━━━━━━━━━━━━━━━━━━━━━━━━━━\u001b[0m \u001b[32m158.8/158.8 kB\u001b[0m \u001b[31m24.3 MB/s\u001b[0m eta \u001b[36m0:00:00\u001b[0m\n",
            "\u001b[?25hRequirement already satisfied: typing-extensions>=3.7.4.3 in /usr/local/lib/python3.9/dist-packages (from huggingface-hub<1.0.0,>=0.11.0->datasets) (4.5.0)\n",
            "Requirement already satisfied: urllib3<1.27,>=1.21.1 in /usr/local/lib/python3.9/dist-packages (from requests>=2.19.0->datasets) (1.26.15)\n",
            "Requirement already satisfied: certifi>=2017.4.17 in /usr/local/lib/python3.9/dist-packages (from requests>=2.19.0->datasets) (2022.12.7)\n",
            "Requirement already satisfied: idna<4,>=2.5 in /usr/local/lib/python3.9/dist-packages (from requests>=2.19.0->datasets) (3.4)\n",
            "Requirement already satisfied: scipy>=1.3.2 in /usr/local/lib/python3.9/dist-packages (from scikit-learn>=0.21.3->seqeval) (1.10.1)\n",
            "Requirement already satisfied: threadpoolctl>=2.0.0 in /usr/local/lib/python3.9/dist-packages (from scikit-learn>=0.21.3->seqeval) (3.1.0)\n",
            "Requirement already satisfied: joblib>=1.1.1 in /usr/local/lib/python3.9/dist-packages (from scikit-learn>=0.21.3->seqeval) (1.2.0)\n",
            "Requirement already satisfied: python-dateutil>=2.8.1 in /usr/local/lib/python3.9/dist-packages (from pandas->datasets) (2.8.2)\n",
            "Requirement already satisfied: pytz>=2020.1 in /usr/local/lib/python3.9/dist-packages (from pandas->datasets) (2022.7.1)\n",
            "Requirement already satisfied: six>=1.5 in /usr/local/lib/python3.9/dist-packages (from python-dateutil>=2.8.1->pandas->datasets) (1.16.0)\n",
            "Building wheels for collected packages: seqeval\n",
            "  Building wheel for seqeval (setup.py) ... \u001b[?25l\u001b[?25hdone\n",
            "  Created wheel for seqeval: filename=seqeval-1.2.2-py3-none-any.whl size=16180 sha256=db563f2160e7821d8ac327a16eacf16dbad46a972ac7bc3aad901e473c19e876\n",
            "  Stored in directory: /root/.cache/pip/wheels/e2/a5/92/2c80d1928733611c2747a9820e1324a6835524d9411510c142\n",
            "Successfully built seqeval\n",
            "Installing collected packages: tokenizers, xxhash, multidict, frozenlist, dill, async-timeout, yarl, responses, multiprocess, huggingface-hub, aiosignal, transformers, seqeval, aiohttp, datasets\n",
            "Successfully installed aiohttp-3.8.4 aiosignal-1.3.1 async-timeout-4.0.2 datasets-2.11.0 dill-0.3.6 frozenlist-1.3.3 huggingface-hub-0.13.4 multidict-6.0.4 multiprocess-0.70.14 responses-0.18.0 seqeval-1.2.2 tokenizers-0.13.3 transformers-4.28.1 xxhash-3.2.0 yarl-1.9.1\n"
          ]
        }
      ],
      "source": [
        "! pip install datasets transformers seqeval"
      ]
    },
    {
      "cell_type": "code",
      "execution_count": null,
      "metadata": {
        "colab": {
          "base_uri": "https://localhost:8080/"
        },
        "id": "HR6-jWLizHfo",
        "outputId": "0ad410ab-a655-40f5-d15f-a4dae6f81d67"
      },
      "outputs": [
        {
          "name": "stdout",
          "output_type": "stream",
          "text": [
            "Reading package lists... Done\n",
            "Building dependency tree       \n",
            "Reading state information... Done\n",
            "git-lfs is already the newest version (2.9.2-1).\n",
            "0 upgraded, 0 newly installed, 0 to remove and 24 not upgraded.\n"
          ]
        }
      ],
      "source": [
        "!apt install git-lfs"
      ]
    },
    {
      "cell_type": "code",
      "execution_count": null,
      "metadata": {
        "id": "ockeO5pBHd5D"
      },
      "outputs": [],
      "source": []
    },
    {
      "cell_type": "markdown",
      "metadata": {
        "id": "gSQ_WEF-zHfo"
      },
      "source": [
        "Make sure your version of Transformers is at least 4.11.0 since the functionality was introduced in that version:"
      ]
    },
    {
      "cell_type": "code",
      "execution_count": null,
      "metadata": {
        "colab": {
          "base_uri": "https://localhost:8080/"
        },
        "id": "Hdt28dgrzHfo",
        "outputId": "390784d0-991b-4b8a-a265-e621de2a4264"
      },
      "outputs": [
        {
          "name": "stdout",
          "output_type": "stream",
          "text": [
            "4.28.1\n"
          ]
        }
      ],
      "source": [
        "import transformers\n",
        "\n",
        "print(transformers.__version__)"
      ]
    },
    {
      "cell_type": "markdown",
      "metadata": {
        "id": "rEJBSTyZIrIb"
      },
      "source": [
        "# Fine-tuning a model on a token classification task"
      ]
    },
    {
      "cell_type": "code",
      "execution_count": null,
      "metadata": {
        "colab": {
          "base_uri": "https://localhost:8080/"
        },
        "id": "KN_Yp8runB7q",
        "outputId": "6d2269e2-1fe8-4833-bde2-dcbd95c3d603"
      },
      "outputs": [
        {
          "name": "stdout",
          "output_type": "stream",
          "text": [
            "--2023-04-21 16:35:21--  https://dl.fbaipublicfiles.com/biolm/RoBERTa-large-PM-M3-Voc-hf.tar.gz\n",
            "Resolving dl.fbaipublicfiles.com (dl.fbaipublicfiles.com)... 18.155.68.108, 18.155.68.81, 18.155.68.27, ...\n",
            "Connecting to dl.fbaipublicfiles.com (dl.fbaipublicfiles.com)|18.155.68.108|:443... connected.\n",
            "HTTP request sent, awaiting response... 200 OK\n",
            "Length: 839592355 (801M) [application/gzip]\n",
            "Saving to: ‘RoBERTa-large-PM-M3-Voc-hf.tar.gz’\n",
            "\n",
            "RoBERTa-large-PM-M3 100%[===================>] 800.70M  24.3MB/s    in 36s     \n",
            "\n",
            "2023-04-21 16:35:57 (22.4 MB/s) - ‘RoBERTa-large-PM-M3-Voc-hf.tar.gz’ saved [839592355/839592355]\n",
            "\n"
          ]
        }
      ],
      "source": [
        "!wget https://dl.fbaipublicfiles.com/biolm/RoBERTa-large-PM-M3-Voc-hf.tar.gz"
      ]
    },
    {
      "cell_type": "code",
      "execution_count": null,
      "metadata": {
        "id": "9WJBk_-CnPNz"
      },
      "outputs": [],
      "source": [
        "!tar -xf RoBERTa-large-PM-M3-Voc-hf.tar.gz"
      ]
    },
    {
      "cell_type": "code",
      "execution_count": null,
      "metadata": {
        "id": "zVvslsfMIrIh"
      },
      "outputs": [],
      "source": [
        "task = \"ner\" # Should be one of \"ner\", \"pos\" or \"chunk\"\n",
        "model_checkpoint = \"/content/RoBERTa-large-PM-M3-Voc/RoBERTa-large-PM-M3-Voc-hf\"\n",
        "batch_size = 16"
      ]
    },
    {
      "cell_type": "markdown",
      "metadata": {
        "id": "whPRbBNbIrIl"
      },
      "source": [
        "## Loading the dataset"
      ]
    },
    {
      "cell_type": "code",
      "execution_count": null,
      "metadata": {
        "id": "IreSlFmlIrIm"
      },
      "outputs": [],
      "source": [
        "from datasets import load_dataset, load_metric"
      ]
    },
    {
      "cell_type": "code",
      "execution_count": null,
      "metadata": {
        "colab": {
          "base_uri": "https://localhost:8080/",
          "height": 87,
          "referenced_widgets": [
            "711392aac3a94e3da786a92cc033fff9",
            "535f02ade1054337b83e8cd425542d87",
            "352986a5a8ea4f35a80b81cce037c4dd",
            "2f6efc5d9dbd4d3db80be249eb33bf0c",
            "1d355fda79754b019df130b4ae779b03",
            "f5094c36112644e68a0d4538a3acfb00",
            "cc4f19b368e247a181fc1f371ef5366a",
            "f453f7f8175249cf8426abb78e920528",
            "e69827a8b4bc42e6a6f73555d7a6f72c",
            "ab38b3f3ece64b54bb74c691ab5c39c2",
            "f3b83a67c8dc406a99bee689712fd709"
          ]
        },
        "id": "s_AY1ATSIrIq",
        "outputId": "94a6e7c9-a149-4640-9e87-7342239dd5e6"
      },
      "outputs": [
        {
          "name": "stderr",
          "output_type": "stream",
          "text": [
            "WARNING:datasets.builder:Found cached dataset json (/root/.cache/huggingface/datasets/ktgiahieu___json/ktgiahieu--maccrobat2018_2020-768e4d068e4e6de6/0.0.0/fe5dd6ea2639a6df622901539cb550cf8797e5a6b2dd7af1cf934bed8e233e6e)\n"
          ]
        },
        {
          "data": {
            "application/vnd.jupyter.widget-view+json": {
              "model_id": "711392aac3a94e3da786a92cc033fff9",
              "version_major": 2,
              "version_minor": 0
            },
            "text/plain": [
              "  0%|          | 0/1 [00:00<?, ?it/s]"
            ]
          },
          "metadata": {},
          "output_type": "display_data"
        }
      ],
      "source": [
        "datasets = load_dataset(\"ktgiahieu/maccrobat2018_2020\")\n",
        "datasets = datasets['train'].train_test_split(test_size=0.1)"
      ]
    },
    {
      "cell_type": "markdown",
      "metadata": {
        "id": "RzfPtOMoIrIu"
      },
      "source": [
        "The `datasets` object itself is [`DatasetDict`](https://huggingface.co/docs/datasets/package_reference/main_classes.html#datasetdict), which contains one key for the training, validation and test set."
      ]
    },
    {
      "cell_type": "code",
      "execution_count": null,
      "metadata": {
        "colab": {
          "base_uri": "https://localhost:8080/"
        },
        "id": "GWiVUF0jIrIv",
        "outputId": "3891ac1d-0fbe-4fa9-e8ba-80a79af35b39"
      },
      "outputs": [
        {
          "data": {
            "text/plain": [
              "DatasetDict({\n",
              "    train: Dataset({\n",
              "        features: ['tokens', 'tags'],\n",
              "        num_rows: 360\n",
              "    })\n",
              "    test: Dataset({\n",
              "        features: ['tokens', 'tags'],\n",
              "        num_rows: 40\n",
              "    })\n",
              "})"
            ]
          },
          "execution_count": 5,
          "metadata": {},
          "output_type": "execute_result"
        }
      ],
      "source": [
        "datasets"
      ]
    },
    {
      "cell_type": "code",
      "execution_count": null,
      "metadata": {
        "id": "_uqwjTDI2a5Q"
      },
      "outputs": [],
      "source": [
        "from datasets import Dataset, ClassLabel, Value, DatasetDict\n",
        "\n",
        "# Define the ClassLabel feature with the label names\n",
        "label_list = ['B-Activity', 'B-Administration', 'B-Age', 'B-Area', 'B-Biological_attribute', 'B-Biological_structure', 'B-Clinical_event', 'B-Color', 'B-Coreference', 'B-Date', 'B-Detailed_description', 'B-Diagnostic_procedure', 'B-Disease_disorder', 'B-Distance', 'B-Dosage', 'B-Duration', 'B-Family_history', 'B-Frequency', 'B-Height', 'B-History', 'B-Lab_value', 'B-Mass', 'B-Medication', 'B-Nonbiological_location', 'B-Occupation', 'B-Other_entity', 'B-Other_event', 'B-Outcome', 'B-Personal_background', 'B-Qualitative_concept', 'B-Quantitative_concept', 'B-Severity', 'B-Sex', 'B-Shape', 'B-Sign_symptom', 'B-Subject', 'B-Texture', 'B-Therapeutic_procedure', 'B-Time', 'B-Volume', 'B-Weight', 'I-Activity', 'I-Administration', 'I-Age', 'I-Area', 'I-Biological_attribute', 'I-Biological_structure', 'I-Clinical_event', 'I-Color', 'I-Coreference', 'I-Date', 'I-Detailed_description', 'I-Diagnostic_procedure', 'I-Disease_disorder', 'I-Distance', 'I-Dosage', 'I-Duration', 'I-Family_history', 'I-Frequency', 'I-Height', 'I-History', 'I-Lab_value', 'I-Mass', 'I-Medication', 'I-Nonbiological_location', 'I-Occupation', 'I-Other_entity', 'I-Other_event', 'I-Outcome', 'I-Personal_background', 'I-Qualitative_concept', 'I-Quantitative_concept', 'I-Severity', 'I-Shape', 'I-Sign_symptom', 'I-Subject', 'I-Texture', 'I-Therapeutic_procedure', 'I-Time', 'I-Volume', 'I-Weight', 'O']\n",
        "label = ClassLabel(names=label_list)\n",
        "# Define a new feature with the numeric labels\n",
        "numeric_labels_feature = Value(\"int32\")"
      ]
    },
    {
      "cell_type": "code",
      "execution_count": null,
      "metadata": {
        "colab": {
          "base_uri": "https://localhost:8080/",
          "height": 17,
          "referenced_widgets": [
            "1c1477e0cecf4d58865e7dfd3248f304",
            "5fc7e15733254ba390fd050ae3616b4f",
            "73a506f9fc414c1bb79d838ed16f650f",
            "f52a7931d8c54ebe8d1cf3881cb84dc7",
            "d2bc578a1e154ec184240b487c436731",
            "82e93704bae14ab188b939054c103c51",
            "ade05592e9824b8f82c39eef81891a1c",
            "cdba08001255495fbefdd55841bb0662",
            "94bb42f6204546b799d4b395a5a01aa8",
            "a4f12cee07d84feb896cafc14894bb6b",
            "3352e59f3b974d339b997a5a3b81c02e",
            "3ebe4ae4e5b942578db0db333f92c576",
            "3599ccf9946146108519513e2f3cef2a",
            "d153a775c0bf49939b438f9534c883cc",
            "3089dcebd7524527b885b87e9f8661b1",
            "e85e918c0d1c482e8861a0696df188c1",
            "c5aacec387d240fc91185a83f53965ce",
            "09551e1cd47d423ca053ddda582c040d",
            "eb64877861ad40df9e49d7663468eb6a",
            "e81b8b9c5de64c18824754b11e87f730",
            "21f538a04928432784cd8643d5bafae6",
            "270ba3f775484f90b690262f867330b9"
          ]
        },
        "id": "FFzWOIEz7lSw",
        "outputId": "bd172618-b394-49b1-c378-c321e2d99af0"
      },
      "outputs": [
        {
          "data": {
            "application/vnd.jupyter.widget-view+json": {
              "model_id": "1c1477e0cecf4d58865e7dfd3248f304",
              "version_major": 2,
              "version_minor": 0
            },
            "text/plain": [
              "Map:   0%|          | 0/360 [00:00<?, ? examples/s]"
            ]
          },
          "metadata": {},
          "output_type": "display_data"
        },
        {
          "data": {
            "application/vnd.jupyter.widget-view+json": {
              "model_id": "3ebe4ae4e5b942578db0db333f92c576",
              "version_major": 2,
              "version_minor": 0
            },
            "text/plain": [
              "Map:   0%|          | 0/40 [00:00<?, ? examples/s]"
            ]
          },
          "metadata": {},
          "output_type": "display_data"
        }
      ],
      "source": [
        "datasets = datasets.map(lambda example: {\"tokens\": example['tokens'],\n",
        "    \"tags\": example[\"tags\"],\n",
        "    \"numeric_tags\": [label.encode_example(x) for x in example[\"tags\"]],\n",
        "})"
      ]
    },
    {
      "cell_type": "code",
      "execution_count": null,
      "metadata": {
        "colab": {
          "base_uri": "https://localhost:8080/"
        },
        "id": "06DMUWn79CrA",
        "outputId": "9cd493b3-44c3-4c0d-a881-6a1ae7ea72b5"
      },
      "outputs": [
        {
          "data": {
            "text/plain": [
              "DatasetDict({\n",
              "    train: Dataset({\n",
              "        features: ['tokens', 'tags', 'numeric_tags'],\n",
              "        num_rows: 360\n",
              "    })\n",
              "    test: Dataset({\n",
              "        features: ['tokens', 'tags', 'numeric_tags'],\n",
              "        num_rows: 40\n",
              "    })\n",
              "})"
            ]
          },
          "execution_count": 8,
          "metadata": {},
          "output_type": "execute_result"
        }
      ],
      "source": [
        "datasets"
      ]
    },
    {
      "cell_type": "code",
      "execution_count": null,
      "metadata": {
        "id": "gUq7-ocTzHfs"
      },
      "outputs": [],
      "source": [
        "# label_list = datasets[\"train\"].features[f\"{task}_tags\"].feature.names\n",
        "# label_list"
      ]
    },
    {
      "cell_type": "code",
      "execution_count": null,
      "metadata": {
        "id": "i3j8APAoIrI3"
      },
      "outputs": [],
      "source": [
        "from datasets import ClassLabel, Sequence\n",
        "import random\n",
        "import pandas as pd\n",
        "from IPython.display import display, HTML\n",
        "\n",
        "def show_random_elements(dataset, num_examples=10):\n",
        "    assert num_examples <= len(dataset), \"Can't pick more elements than there are in the dataset.\"\n",
        "    picks = []\n",
        "    for _ in range(num_examples):\n",
        "        pick = random.randint(0, len(dataset)-1)\n",
        "        while pick in picks:\n",
        "            pick = random.randint(0, len(dataset)-1)\n",
        "        picks.append(pick)\n",
        "\n",
        "    df = pd.DataFrame(dataset[picks])\n",
        "    for column, typ in dataset.features.items():\n",
        "        if isinstance(typ, ClassLabel):\n",
        "            df[column] = df[column].transform(lambda i: typ.names[i])\n",
        "        elif isinstance(typ, Sequence) and isinstance(typ.feature, ClassLabel):\n",
        "            df[column] = df[column].transform(lambda x: [typ.feature.names[i] for i in x])\n",
        "    display(HTML(df.to_html()))"
      ]
    },
    {
      "cell_type": "code",
      "execution_count": null,
      "metadata": {
        "colab": {
          "base_uri": "https://localhost:8080/",
          "height": 1000
        },
        "id": "SZy5tRB_IrI7",
        "outputId": "fcd8d6e1-20b2-42d3-ee7d-4ac7374a1ba1",
        "scrolled": true
      },
      "outputs": [
        {
          "data": {
            "text/html": [
              "<table border=\"1\" class=\"dataframe\">\n",
              "  <thead>\n",
              "    <tr style=\"text-align: right;\">\n",
              "      <th></th>\n",
              "      <th>tokens</th>\n",
              "      <th>tags</th>\n",
              "      <th>numeric_tags</th>\n",
              "    </tr>\n",
              "  </thead>\n",
              "  <tbody>\n",
              "    <tr>\n",
              "      <th>0</th>\n",
              "      <td>[A, 31, -, year, -, old, man, developed, diabetes, insipidus, with, urine, volume, up, to, 10, to, 20,  , L, every, 24,  , hours, in, 2003, ., \\n, Four, years, later, ,, he, complained, of, fatigue, ,, anorexia, ,, jaundice, and, pruritus, ,, and, a, symptomatic, occipital, mass, ., \\n, Laboratory, tests, showed, an, abnormal, liver, enzyme, (, Table, ​1, ), ,, the, patient, was, negative, for, hepatitis, viruses, ., \\n, As, shown, in, Fig.1, ,, abdominal, MRI, showed, multiple, low, -, density, lesions, in, the, liver, on, the, T1, -, weighted, image, and, obvious, expansion, of, the, intrahepatic, bile, ...]</td>\n",
              "      <td>[O, B-Age, I-Age, I-Age, I-Age, I-Age, B-Sex, O, B-Disease_disorder, I-Disease_disorder, O, B-Diagnostic_procedure, I-Diagnostic_procedure, O, O, B-Volume, I-Volume, I-Volume, I-Volume, I-Volume, B-Frequency, I-Frequency, I-Frequency, I-Frequency, O, B-Date, O, O, B-Date, I-Date, I-Date, O, O, O, O, B-Sign_symptom, O, B-Sign_symptom, O, B-Sign_symptom, O, B-Sign_symptom, O, O, O, O, O, B-Sign_symptom, O, O, B-Diagnostic_procedure, I-Diagnostic_procedure, O, O, O, B-Diagnostic_procedure, I-Diagnostic_procedure, O, O, O, O, O, O, O, O, O, O, B-Diagnostic_procedure, I-Diagnostic_procedure, O, O, O, O, O, O, O, O, B-Diagnostic_procedure, O, O, O, O, O, B-Sign_symptom, O, O, B-Biological_structure, O, O, B-Diagnostic_procedure, I-Diagnostic_procedure, I-Diagnostic_procedure, I-Diagnostic_procedure, O, O, O, O, O, O, O, ...]</td>\n",
              "      <td>[81, 2, 43, 43, 43, 43, 32, 81, 12, 53, 81, 11, 52, 81, 81, 39, 79, 79, 79, 79, 17, 58, 58, 58, 81, 9, 81, 81, 9, 50, 50, 81, 81, 81, 81, 34, 81, 34, 81, 34, 81, 34, 81, 81, 81, 81, 81, 34, 81, 81, 11, 52, 81, 81, 81, 11, 52, 81, 81, 81, 81, 81, 81, 81, 81, 81, 81, 11, 52, 81, 81, 81, 81, 81, 81, 81, 81, 11, 81, 81, 81, 81, 81, 34, 81, 81, 5, 81, 81, 11, 52, 52, 52, 81, 81, 81, 81, 81, 81, 81, ...]</td>\n",
              "    </tr>\n",
              "    <tr>\n",
              "      <th>1</th>\n",
              "      <td>[A, 36-, year-, old, white, woman, at, 40, week, of, gestation, was, admitted, to, a, local, obstetric, clinic, for, elective, repeated, cesarean, delivery, due, to, slanting, position, of, the, fetus, ., \\n, Both, her, previous, and, current, pregnancy, were, uncomplicated, ., \\n, Her, past, medical, history, was, unremarkable, and, no, family, history, of, cardiac, disease, was, reported, ., \\n, The, caesarean, delivery, was, performed, following, the, administration, of, standard, spinal, anesthesia, ., \\n, During, surgery, the, patient, became, hypotensive, and, ephedrine, was, injected, to, maintain, her, blood, pressure, in, the, normal, range, ., \\n, Three, hours, after, delivery, of, healthy, ...]</td>\n",
              "      <td>[O, B-Age, I-Age, I-Age, B-Personal_background, B-Sex, O, O, O, O, O, O, B-Clinical_event, O, O, B-Nonbiological_location, I-Nonbiological_location, I-Nonbiological_location, O, O, O, O, O, O, O, O, O, O, O, O, O, O, O, O, B-History, I-History, I-History, I-History, I-History, I-History, O, O, O, B-History, I-History, I-History, I-History, I-History, O, B-Family_history, I-Family_history, I-Family_history, I-Family_history, I-Family_history, I-Family_history, I-Family_history, I-Family_history, O, O, O, B-Therapeutic_procedure, I-Therapeutic_procedure, O, O, O, O, O, O, O, O, B-Medication, O, O, O, O, O, O, O, B-Sign_symptom, O, B-Medication, O, B-Administration, O, O, O, O, O, O, O, O, O, O, O, O, O, O, O, O, O, ...]</td>\n",
              "      <td>[81, 2, 43, 43, 28, 32, 81, 81, 81, 81, 81, 81, 6, 81, 81, 23, 64, 64, 81, 81, 81, 81, 81, 81, 81, 81, 81, 81, 81, 81, 81, 81, 81, 81, 19, 60, 60, 60, 60, 60, 81, 81, 81, 19, 60, 60, 60, 60, 81, 16, 57, 57, 57, 57, 57, 57, 57, 81, 81, 81, 37, 77, 81, 81, 81, 81, 81, 81, 81, 81, 22, 81, 81, 81, 81, 81, 81, 81, 34, 81, 22, 81, 1, 81, 81, 81, 81, 81, 81, 81, 81, 81, 81, 81, 81, 81, 81, 81, 81, 81, ...]</td>\n",
              "    </tr>\n",
              "    <tr>\n",
              "      <th>2</th>\n",
              "      <td>[A, 21, -, year, -, old, male, presented, with, a, 2, -, year, history, of, progressive, shortness, of, breath, on, exertion, and, dry, cough, ., \\n, At, physical, examination, ,, auscultation, of, the, lungs, has, revealed, random, wheezes, and, coarse, crackles, ., \\n, Cardiac, auscultation, was, normal, ,, and, no, cyanosis, or, peripheral, edema, was, observed, ., \\n, There, was, no, history, of, smoking, or, previous, known, pulmonary, disease, ., \\n, On, routine, blood, examination, ,, blood, counts, and, serum, chemistries, were, found, to, be, normal, ., \\n, Arterial, blood, gas, analysis, and, echocardiography, showed, no, important, abnormalities, ., \\n, ...]</td>\n",
              "      <td>[O, B-Age, I-Age, I-Age, I-Age, I-Age, B-Sex, B-Clinical_event, O, O, B-Duration, I-Duration, I-Duration, O, O, O, B-Sign_symptom, I-Sign_symptom, I-Sign_symptom, O, B-Detailed_description, O, B-Sign_symptom, I-Sign_symptom, O, O, O, B-Diagnostic_procedure, I-Diagnostic_procedure, O, B-Diagnostic_procedure, O, O, B-Biological_structure, O, O, O, B-Sign_symptom, O, B-Sign_symptom, I-Sign_symptom, O, O, B-Biological_structure, B-Diagnostic_procedure, O, O, O, O, O, B-Sign_symptom, O, B-Sign_symptom, I-Sign_symptom, O, O, O, O, O, O, B-History, I-History, I-History, I-History, O, O, O, B-Disease_disorder, I-Disease_disorder, O, O, O, O, B-Diagnostic_procedure, I-Diagnostic_procedure, O, B-Diagnostic_procedure, I-Diagnostic_procedure, O, B-Diagnostic_procedure, I-Diagnostic_procedure, O, O, O, O, B-Lab_value, O, O, B-Diagnostic_procedure, I-Diagnostic_procedure, I-Diagnostic_procedure, I-Diagnostic_procedure, O, B-Diagnostic_procedure, O, O, O, O, O, O, ...]</td>\n",
              "      <td>[81, 2, 43, 43, 43, 43, 32, 6, 81, 81, 15, 56, 56, 81, 81, 81, 34, 74, 74, 81, 10, 81, 34, 74, 81, 81, 81, 11, 52, 81, 11, 81, 81, 5, 81, 81, 81, 34, 81, 34, 74, 81, 81, 5, 11, 81, 81, 81, 81, 81, 34, 81, 34, 74, 81, 81, 81, 81, 81, 81, 19, 60, 60, 60, 81, 81, 81, 12, 53, 81, 81, 81, 81, 11, 52, 81, 11, 52, 81, 11, 52, 81, 81, 81, 81, 20, 81, 81, 11, 52, 52, 52, 81, 11, 81, 81, 81, 81, 81, 81, ...]</td>\n",
              "    </tr>\n",
              "    <tr>\n",
              "      <th>3</th>\n",
              "      <td>[A, 5, -, year, -, old, Caucasian, male, presented, to, the, Children, ’s, Emergency, Department, with, epistaxis, ,, bleeding, from, the, dental, extraction, site, and, a, widespread, purpuric, rash, ,, secondary, to, acute, idiopathic, thrombocytopenia, ., \\n, Two, days, prior, to, this, ,, he, developed, a, generalised, chickenpox, rash, ., \\n, While, in, the, department, it, was, noted, that, his, heart, rate, ranged, between, 50, and, 60, beats, per, min, ,, he, was, otherwise, haemo, -, dynamically, stable, with, a, normal, blood, pressure, and, oxygen, saturations, in, air, ., \\n, He, had, a, short, systolic, murmur, grade, 2/6, at, the, ...]</td>\n",
              "      <td>[O, B-Age, I-Age, I-Age, I-Age, I-Age, B-Personal_background, B-Age, B-Clinical_event, O, O, B-Nonbiological_location, I-Nonbiological_location, I-Nonbiological_location, I-Nonbiological_location, O, B-Sign_symptom, O, B-Sign_symptom, O, O, O, O, O, O, O, O, O, B-Sign_symptom, O, O, O, O, O, O, O, O, O, O, O, O, O, O, O, O, O, O, B-Sign_symptom, I-Sign_symptom, O, O, O, O, O, O, O, O, O, O, O, B-Diagnostic_procedure, I-Diagnostic_procedure, O, B-Lab_value, I-Lab_value, I-Lab_value, I-Lab_value, I-Lab_value, I-Lab_value, I-Lab_value, O, O, O, O, B-Sign_symptom, I-Sign_symptom, I-Sign_symptom, I-Sign_symptom, O, O, O, B-Diagnostic_procedure, I-Diagnostic_procedure, O, B-Diagnostic_procedure, I-Diagnostic_procedure, O, B-Detailed_description, O, O, O, O, O, O, O, B-Sign_symptom, B-Lab_value, I-Lab_value, O, O, ...]</td>\n",
              "      <td>[81, 2, 43, 43, 43, 43, 28, 2, 6, 81, 81, 23, 64, 64, 64, 81, 34, 81, 34, 81, 81, 81, 81, 81, 81, 81, 81, 81, 34, 81, 81, 81, 81, 81, 81, 81, 81, 81, 81, 81, 81, 81, 81, 81, 81, 81, 81, 34, 74, 81, 81, 81, 81, 81, 81, 81, 81, 81, 81, 81, 11, 52, 81, 20, 61, 61, 61, 61, 61, 61, 81, 81, 81, 81, 34, 74, 74, 74, 81, 81, 81, 11, 52, 81, 11, 52, 81, 10, 81, 81, 81, 81, 81, 81, 81, 34, 20, 61, 81, 81, ...]</td>\n",
              "    </tr>\n",
              "    <tr>\n",
              "      <th>4</th>\n",
              "      <td>[A, 64, -, year, -, old, man, was, admitted, to, the, Department, of, Gastroenterology, of, the, Affiliated, Hospital, of, Qingdao, University, Medical, College, (, Qingdao, ,, China, ), due, to, epigastric, pains, ., \\n, Physical, examination, revealed, no, palpable, mass, ,, lymphadenopathy, ,, or, organomegaly, ., \\n, On, endoscopy, ,, several, submucosal, lesions, were, identified, in, the, gastric, antrum, and, the, duodenal, bulb, (, Fig.1, ), ., \\n, Endoscopic, ultrasonography, (, EUS, ), (, OLYMPUS, EUS, EU, -, ME2, ,, Miniprobe, sonography, ), demonstrated, that, the, lesions, were, almost, 0.5, -, cm, homogeneously, hypoechoic, neoplasms, originating, from, the, submucous, layer, ...]</td>\n",
              "      <td>[O, B-Age, I-Age, I-Age, I-Age, I-Age, B-Sex, O, B-Clinical_event, O, O, B-Nonbiological_location, I-Nonbiological_location, I-Nonbiological_location, O, O, B-Nonbiological_location, I-Nonbiological_location, I-Nonbiological_location, I-Nonbiological_location, I-Nonbiological_location, I-Nonbiological_location, I-Nonbiological_location, I-Nonbiological_location, I-Nonbiological_location, I-Nonbiological_location, I-Nonbiological_location, I-Nonbiological_location, O, O, O, B-Sign_symptom, O, O, B-Diagnostic_procedure, I-Diagnostic_procedure, O, O, O, B-Sign_symptom, O, B-Sign_symptom, O, O, B-Sign_symptom, O, O, O, B-Diagnostic_procedure, O, O, O, B-Sign_symptom, O, O, O, O, B-Biological_structure, I-Biological_structure, O, O, B-Biological_structure, I-Biological_structure, O, O, O, O, O, B-Diagnostic_procedure, I-Diagnostic_procedure, O, B-Diagnostic_procedure, O, O, B-Detailed_description, I-Detailed_description, I-Detailed_description, I-Detailed_description, I-Detailed_description, O, B-Detailed_description, I-Detailed_description, O, O, O, O, B-Sign_symptom, O, B-Distance, I-Distance, I-Distance, I-Distance, O, B-Detailed_description, B-Sign_symptom, O, O, O, B-Biological_structure, I-Biological_structure, ...]</td>\n",
              "      <td>[81, 2, 43, 43, 43, 43, 32, 81, 6, 81, 81, 23, 64, 64, 81, 81, 23, 64, 64, 64, 64, 64, 64, 64, 64, 64, 64, 64, 81, 81, 81, 34, 81, 81, 11, 52, 81, 81, 81, 34, 81, 34, 81, 81, 34, 81, 81, 81, 11, 81, 81, 81, 34, 81, 81, 81, 81, 5, 46, 81, 81, 5, 46, 81, 81, 81, 81, 81, 11, 52, 81, 11, 81, 81, 10, 51, 51, 51, 51, 81, 10, 51, 81, 81, 81, 81, 34, 81, 13, 54, 54, 54, 81, 10, 34, 81, 81, 81, 5, 46, ...]</td>\n",
              "    </tr>\n",
              "    <tr>\n",
              "      <th>5</th>\n",
              "      <td>[A, 66, -, year, -, old, man, was, admitted, into, our, Hospital, in, November, 2008, with, splenomegaly, ,, a, high, red, cell, count, ,, and, subnormal, serum, erythropoietin, levels, ., \\n, Cytogenetic, analysis, showed, a, normal, male, karyotype, ., \\n, Molecular, studies, were, negative, for, the, BCR, -, ABL1, rearrangement, ,, but, revealed, the, JAK2V617F, mutation, with, an, allele, burden, of, 44.9, %, ., \\n, A, diagnosis, of, PV, was, made, on, the, basis, of, a, morphological, bone, marrow, analysis, according, to, the, WHO, 2008, criteria, ., \\n, The, patient, was, started, on, aspirin, ,, hydroxyurea, ,, and, phlebotomies, ,, ...]</td>\n",
              "      <td>[O, B-Age, I-Age, I-Age, I-Age, I-Age, B-Sex, O, B-Clinical_event, O, O, B-Nonbiological_location, O, B-Date, I-Date, O, B-Sign_symptom, O, O, O, B-Diagnostic_procedure, I-Diagnostic_procedure, I-Diagnostic_procedure, O, O, O, B-Diagnostic_procedure, I-Diagnostic_procedure, O, O, O, B-Diagnostic_procedure, I-Diagnostic_procedure, O, O, O, O, B-Diagnostic_procedure, O, O, B-Diagnostic_procedure, I-Diagnostic_procedure, O, O, O, O, O, O, O, O, O, O, O, O, O, O, O, O, O, O, O, O, O, O, O, O, O, O, B-Disease_disorder, O, O, O, O, O, O, O, O, B-Diagnostic_procedure, I-Diagnostic_procedure, I-Diagnostic_procedure, O, O, O, B-Detailed_description, I-Detailed_description, I-Detailed_description, O, O, O, O, O, O, O, B-Medication, O, B-Medication, O, O, B-Therapeutic_procedure, O, ...]</td>\n",
              "      <td>[81, 2, 43, 43, 43, 43, 32, 81, 6, 81, 81, 23, 81, 9, 50, 81, 34, 81, 81, 81, 11, 52, 52, 81, 81, 81, 11, 52, 81, 81, 81, 11, 52, 81, 81, 81, 81, 11, 81, 81, 11, 52, 81, 81, 81, 81, 81, 81, 81, 81, 81, 81, 81, 81, 81, 81, 81, 81, 81, 81, 81, 81, 81, 81, 81, 81, 81, 81, 12, 81, 81, 81, 81, 81, 81, 81, 81, 11, 52, 52, 81, 81, 81, 10, 51, 51, 81, 81, 81, 81, 81, 81, 81, 22, 81, 22, 81, 81, 37, 81, ...]</td>\n",
              "    </tr>\n",
              "    <tr>\n",
              "      <th>6</th>\n",
              "      <td>[A, 69, -, year, -, old, man, became, aware, of, the, onset, of, exertional, dyspnea, in, July, 2010, ., \\n, He, had, a, history, of, smoking, for, more, than, 40, years, ,, 20, cigarettes, per, day, ., \\n, His, parents, and, 1, brother, had, lung, cancer, ., \\n, His, past, medical, history, was, unremarkable, ., \\n, He, had, no, occupational, exposure, ., \\n, Due, to, the, exertional, dyspnea, ,, he, was, admitted, to, the, People, 's, Hospital, of, Shunde, District, for, echocardiography, and, computed, tomography, pulmonary, angiography, (, CTPA, ), ., \\n, Echocardiography, indicated, that, he, had, severe, PAH, ,, ...]</td>\n",
              "      <td>[O, O, O, O, O, O, O, O, O, O, O, O, O, O, B-Sign_symptom, O, B-Date, I-Date, O, O, O, O, O, O, O, B-History, I-History, I-History, I-History, I-History, I-History, I-History, I-History, I-History, I-History, I-History, O, O, O, B-Family_history, I-Family_history, I-Family_history, I-Family_history, I-Family_history, I-Family_history, I-Family_history, O, O, O, B-History, I-History, I-History, I-History, I-History, O, O, O, O, B-History, I-History, I-History, O, O, O, O, O, O, B-Sign_symptom, O, O, O, B-Clinical_event, O, O, B-Nonbiological_location, I-Nonbiological_location, I-Nonbiological_location, I-Nonbiological_location, I-Nonbiological_location, I-Nonbiological_location, O, B-Diagnostic_procedure, O, B-Diagnostic_procedure, I-Diagnostic_procedure, I-Diagnostic_procedure, I-Diagnostic_procedure, O, B-Diagnostic_procedure, O, O, O, B-Diagnostic_procedure, O, O, O, O, O, B-Disease_disorder, O, ...]</td>\n",
              "      <td>[81, 81, 81, 81, 81, 81, 81, 81, 81, 81, 81, 81, 81, 81, 34, 81, 9, 50, 81, 81, 81, 81, 81, 81, 81, 19, 60, 60, 60, 60, 60, 60, 60, 60, 60, 60, 81, 81, 81, 16, 57, 57, 57, 57, 57, 57, 81, 81, 81, 19, 60, 60, 60, 60, 81, 81, 81, 81, 19, 60, 60, 81, 81, 81, 81, 81, 81, 34, 81, 81, 81, 6, 81, 81, 23, 64, 64, 64, 64, 64, 81, 11, 81, 11, 52, 52, 52, 81, 11, 81, 81, 81, 11, 81, 81, 81, 81, 81, 12, 81, ...]</td>\n",
              "    </tr>\n",
              "    <tr>\n",
              "      <th>7</th>\n",
              "      <td>[A, 59, -, year, -, old, man, was, referred, to, the, general, surgery, department, of, our, hospital, for, a, one, -, month, history, of, progressive, dysphagia, for, solids, ,, which, was, not, associated, with, malnutrition, or, significant, weight, loss, ., \\n, The, patient, had, recently, undergone, esophagogastroduodenoscopy, in, another, hospital, ,, which, revealed, a, bleeding, ,, ulcerative, lesion, in, the, middle, third, of, the, esophagus, ,, but, no, biopsy, had, been, collected, ., \\n, The, medical, past, history, included, COPD, diagnosed, in, 1999, and, a, myocardial, infarction, in, 2002, ., \\n, The, patient, had, smoked, approximately, 25, cigarettes, per, day, ...]</td>\n",
              "      <td>[O, B-Age, I-Age, I-Age, I-Age, I-Age, B-Sex, O, B-Clinical_event, O, O, O, O, O, O, O, O, O, O, O, O, O, O, O, O, O, O, O, O, O, O, O, O, O, O, O, O, O, O, O, O, O, O, O, O, O, O, O, O, O, O, O, O, O, O, O, O, O, O, O, O, O, O, O, O, O, O, O, O, O, O, O, O, O, O, O, O, O, O, O, O, O, O, O, O, O, O, O, O, O, O, O, O, O, O, O, O, O, O, O, ...]</td>\n",
              "      <td>[81, 2, 43, 43, 43, 43, 32, 81, 6, 81, 81, 81, 81, 81, 81, 81, 81, 81, 81, 81, 81, 81, 81, 81, 81, 81, 81, 81, 81, 81, 81, 81, 81, 81, 81, 81, 81, 81, 81, 81, 81, 81, 81, 81, 81, 81, 81, 81, 81, 81, 81, 81, 81, 81, 81, 81, 81, 81, 81, 81, 81, 81, 81, 81, 81, 81, 81, 81, 81, 81, 81, 81, 81, 81, 81, 81, 81, 81, 81, 81, 81, 81, 81, 81, 81, 81, 81, 81, 81, 81, 81, 81, 81, 81, 81, 81, 81, 81, 81, 81, ...]</td>\n",
              "    </tr>\n",
              "    <tr>\n",
              "      <th>8</th>\n",
              "      <td>[A, 62, -, year, -, old, female, presented, to, the, outpatient, department, of, Wuhan, Central, Hospital, of, Tongji, Medical, College, in, September, 2015with, a, complaint, of, recurrent, infections, in, the, umbilical, region, ., \\n, She, reported, abdominal, pain, similar, to, a, burning, sensation, that, accompanied, the, discharge, of, faecal, matter, ., \\n, These, symptoms, and, signs, waxed, and, waned, but, lasted, for, 5years, ., \\n, Our, attention, was, piqued, by, the, fact, that, the, patient, ’s, family, described, the, patient, as, an, individual, who, cried, easily, ., \\n, The, patient, had, no, history, of, diarrhoea, ,, constipation, or, other, abdominal, ...]</td>\n",
              "      <td>[O, B-Age, I-Age, I-Age, I-Age, I-Age, B-Sex, B-Clinical_event, O, O, B-Nonbiological_location, I-Nonbiological_location, O, B-Nonbiological_location, I-Nonbiological_location, I-Nonbiological_location, I-Nonbiological_location, I-Nonbiological_location, I-Nonbiological_location, I-Nonbiological_location, O, O, O, O, O, O, O, B-Disease_disorder, O, O, B-Biological_structure, I-Biological_structure, O, O, O, O, O, B-Sign_symptom, O, O, O, O, O, O, O, O, B-Activity, I-Activity, I-Activity, I-Activity, O, O, O, O, O, O, O, O, O, O, B-Duration, I-Duration, I-Duration, O, O, O, O, O, O, O, O, O, O, O, O, O, O, O, O, O, O, O, O, O, O, O, O, O, O, O, O, O, O, O, B-Sign_symptom, O, B-Sign_symptom, O, B-Sign_symptom, I-Sign_symptom, ...]</td>\n",
              "      <td>[81, 2, 43, 43, 43, 43, 32, 6, 81, 81, 23, 64, 81, 23, 64, 64, 64, 64, 64, 64, 81, 81, 81, 81, 81, 81, 81, 12, 81, 81, 5, 46, 81, 81, 81, 81, 81, 34, 81, 81, 81, 81, 81, 81, 81, 81, 0, 41, 41, 41, 81, 81, 81, 81, 81, 81, 81, 81, 81, 81, 15, 56, 56, 81, 81, 81, 81, 81, 81, 81, 81, 81, 81, 81, 81, 81, 81, 81, 81, 81, 81, 81, 81, 81, 81, 81, 81, 81, 81, 81, 81, 81, 81, 81, 34, 81, 34, 81, 34, 74, ...]</td>\n",
              "    </tr>\n",
              "    <tr>\n",
              "      <th>9</th>\n",
              "      <td>[A, 53, -, year, -, old, man, came, to, our, hospital, with, signs, and, symptoms, of, acute, heart, failure, after, a, 2, -, week, history, of, progressive, breathlessness, ., \\n, He, had, a, history, of, recurrent, skin, abscesses, and, atopic, dermatitis, and, regularly, visited, a, dermatologist, in, our, hospital, ., \\n, On, arriving, at, our, hospital, ,, his, extremities, were, warm, and, dry, ., \\n, According, to, the, New, York, Heart, Association, criteria, ,, he, had, class, III, congestive, heart, failure, (, CHF, ), ., \\n, An, electrocardiogram, revealed, diffuse, nonspecific, T, -, wave, changes, ,, low, voltage, (, &lt;, ...]</td>\n",
              "      <td>[O, B-Age, I-Age, I-Age, I-Age, I-Age, B-Sex, B-Clinical_event, O, O, B-Nonbiological_location, O, O, O, O, O, O, B-Disease_disorder, I-Disease_disorder, O, O, B-Duration, I-Duration, I-Duration, I-Duration, O, O, B-Sign_symptom, O, O, O, O, O, O, O, O, O, B-Sign_symptom, O, O, B-Disease_disorder, O, O, B-Clinical_event, O, B-Nonbiological_location, O, O, O, O, O, O, B-Clinical_event, O, O, B-Nonbiological_location, O, O, O, O, B-Sign_symptom, O, B-Sign_symptom, O, O, O, O, O, B-Diagnostic_procedure, I-Diagnostic_procedure, I-Diagnostic_procedure, I-Diagnostic_procedure, I-Diagnostic_procedure, O, O, O, O, O, B-Disease_disorder, I-Disease_disorder, I-Disease_disorder, O, B-Disease_disorder, O, O, O, O, B-Diagnostic_procedure, O, O, O, B-Sign_symptom, I-Sign_symptom, I-Sign_symptom, I-Sign_symptom, O, O, O, O, O, ...]</td>\n",
              "      <td>[81, 2, 43, 43, 43, 43, 32, 6, 81, 81, 23, 81, 81, 81, 81, 81, 81, 12, 53, 81, 81, 15, 56, 56, 56, 81, 81, 34, 81, 81, 81, 81, 81, 81, 81, 81, 81, 34, 81, 81, 12, 81, 81, 6, 81, 23, 81, 81, 81, 81, 81, 81, 6, 81, 81, 23, 81, 81, 81, 81, 34, 81, 34, 81, 81, 81, 81, 81, 11, 52, 52, 52, 52, 81, 81, 81, 81, 81, 12, 53, 53, 81, 12, 81, 81, 81, 81, 11, 81, 81, 81, 34, 74, 74, 74, 81, 81, 81, 81, 81, ...]</td>\n",
              "    </tr>\n",
              "  </tbody>\n",
              "</table>"
            ],
            "text/plain": [
              "<IPython.core.display.HTML object>"
            ]
          },
          "metadata": {},
          "output_type": "display_data"
        }
      ],
      "source": [
        "show_random_elements(datasets[\"train\"])"
      ]
    },
    {
      "cell_type": "code",
      "execution_count": null,
      "metadata": {
        "colab": {
          "base_uri": "https://localhost:8080/"
        },
        "id": "eXNLu_-nIrJI",
        "outputId": "737a2a29-8a7b-4c3a-bcdf-bbd28ee16e0e"
      },
      "outputs": [
        {
          "name": "stderr",
          "output_type": "stream",
          "text": [
            "Special tokens have been added in the vocabulary, make sure the associated word embeddings are fine-tuned or trained.\n",
            "Special tokens have been added in the vocabulary, make sure the associated word embeddings are fine-tuned or trained.\n"
          ]
        }
      ],
      "source": [
        "from transformers import AutoTokenizer\n",
        "\n",
        "tokenizer = AutoTokenizer.from_pretrained(model_checkpoint, add_prefix_space=True)"
      ]
    },
    {
      "cell_type": "code",
      "execution_count": null,
      "metadata": {
        "id": "OncMDKxVzHft"
      },
      "outputs": [],
      "source": [
        "import transformers\n",
        "assert isinstance(tokenizer, transformers.PreTrainedTokenizerFast)"
      ]
    },
    {
      "cell_type": "code",
      "execution_count": null,
      "metadata": {
        "colab": {
          "base_uri": "https://localhost:8080/"
        },
        "id": "oUA4qacuzHfv",
        "outputId": "b1054e5f-1f42-4b36-bffc-1850ab119b60"
      },
      "outputs": [
        {
          "data": {
            "text/plain": [
              "{'input_ids': [0, 427, 24017, 3267, 491, 345, 818, 17812, 9490, 860, 6786, 2245, 2], 'attention_mask': [1, 1, 1, 1, 1, 1, 1, 1, 1, 1, 1, 1, 1]}"
            ]
          },
          "execution_count": 15,
          "metadata": {},
          "output_type": "execute_result"
        }
      ],
      "source": [
        "tokenizer([\"Hello\", \",\", \"this\", \"is\", \"one\", \"sentence\", \"split\", \"into\", \"words\", \".\"], is_split_into_words=True)"
      ]
    },
    {
      "cell_type": "code",
      "execution_count": null,
      "metadata": {
        "colab": {
          "base_uri": "https://localhost:8080/"
        },
        "id": "5iKUwzIIzHfv",
        "outputId": "394ed3a0-2ca5-4cd0-cc18-104c0e96a0c0"
      },
      "outputs": [
        {
          "name": "stdout",
          "output_type": "stream",
          "text": [
            "['The', 'patient', ',', 'a', '4', '-', 'year', '-', 'old', 'boy', ',', 'was', 'diagnosed', 'as', 'having', 'Blau', 'syndrome', 'based', 'on', 'the', 'manifestation', 'of', 'typical', 'clinical', 'features', '(', 'ankle', 'and', 'wrist', 'arthritis', '/', 'tenosynovitis', ',', 'diffuse', 'eczematous', 'rash', ',', 'and', 'uveitis', ')', ',', 'histologic', 'evidence', 'of', 'noncaseating', 'granulomas', ',', 'and', 'a', 'heterozygous', 'NOD2', 'mutation', '(', 'p.', 'R334W', ')', '.', '\\n', 'Ocular', 'involvement', 'was', 'initially', 'controlled', 'by', 'topical', 'and', 'oral', 'corticosteroids', ',', 'but', 'over', 'the', 'years', 'visual', 'impairment', 'progressed', '.', '\\n', 'Other', 'manifestations', 'of', 'Blau', 'syndrome', '(', 'arthritis', 'and', 'rash', ')', 'subsided', 'over', 'time', '.', '\\n', 'Bilateral', 'panuveitis', 'progressed', 'after', 'age', '5', 'years', ',', 'and', 'was', 'initially', 'treated', 'with', 'methotrexate', '.', '\\n', 'However', ',', 'ocular', 'inflammation', 'persisted', 'despite', 'the', 'addition', 'of', 'local', 'steroid', 'injections', 'and', 'repeated', 'intravenous', '(', 'IV', ')', 'bolus', 'methylprednisolone', 'treatment', ';', 'therefore', ',', 'when', 'the', 'patient', 'was', 'age', '10', 'years', ',', 'infliximab', '(', 'initially', 'at', '5', 'mg', '/', 'kg', 'increased', 'to', '10', 'mg', '/', 'kg', 'IV', 'every', '4', 'to', '6', 'weeks', ')', 'was', 'initiated', '.', '\\n', 'Although', 'there', 'was', 'an', 'initial', 'improvement', ',', '1', 'year', 'after', 'this', 'treatment', 'was', 'started', 'uveitis', 'worsened', ',', 'and', 'at', 'age', '12', 'years', 'infliximab', 'was', 'discontinued', '.', '\\n', 'Adalimumab', '(', '24', 'mg', '/', 'm2', 'every', '2', 'weeks', ')', 'was', 'then', 'initiated', 'and', 'the', 'dosage', 'of', 'methotrexate', '(', '15', 'mg', '/', 'm2', '/', 'weekly', ')', 'was', 'increased', '.', '\\n', 'However', ',', 'ocular', 'disease', 'remained', 'active', '.', '\\n', 'Mycophenolate', 'mofetil', '(', '750', 'mg', '/', 'm2', ')', 'and', 'then', 'abatacept', '(', '10', 'mg', '/', 'kg', '/', 'month', 'IV', ')', 'were', 'sequentially', 'administered', ',', 'without', 'significant', 'improvement', '.', '\\n', 'At', 'age', '16', 'years', 'the', 'patient', 'still', 'had', 'granulomatous', 'retinal', 'lesions', 'and', 'anterior', 'chamber', 'inflammation', ',', 'and', 'macular', 'edema', 'developed', ',', 'which', 'led', 'to', 'retinal', 'detachment', '.', '\\n', 'In', 'addition', 'to', 'the', 'other', 'steroid', 'therapy', ',', 'corticosteroid', 'pulse', 'therapy', 'was', 'necessary', 'to', 'control', 'disease', 'flares', ',', 'with', 'an', 'average', 'of', '3', 'boluses', '/', 'month', 'for', '6', 'consecutive', 'months', '.', '\\n', 'Because', 'of', 'the', 'supposed', 'autoinflammatory', 'nature', 'of', 'Blau', 'syndrome', ',', 'we', 'initiated', 'a', 'trial', 'of', 'IL-1', 'antibody', 'administration', '(', '2', 'mg', '/', 'kg', '/', 'month', 'of', 'canakinumab', ')', '.', '\\n', 'During', 'the', '6', 'months', 'that', 'followed', ',', 'no', 'ocular', 'flare', 'occurred', 'and', 'no', 'steroid', 'pulse', 'therapy', 'was', 'necessary', '.', '\\n', 'Concomitant', 'treatment', 'with', 'oral', 'methotrexate', 'and', 'low', '-', 'dose', 'prednisone', '(', '0.2', 'mg', '/', 'kg', '/', 'day', ')', 'remained', 'unchanged', '.', '\\n', 'Figure', '1', 'shows', 'fluorangiograms', 'before', 'treatment', 'and', 'after', 'the', 'first', '6', 'injections', '.', '\\n', 'The', 'drug', 'was', 'well', 'tolerated', 'with', 'no', 'side', 'effects', ',', 'and', 'findings', 'on', 'laboratory', 'tests', '(', 'performed', 'monthly', ')', 'were', 'normal', '.']\n"
          ]
        }
      ],
      "source": [
        "example = datasets[\"train\"][4]\n",
        "print(example[\"tokens\"])"
      ]
    },
    {
      "cell_type": "code",
      "execution_count": null,
      "metadata": {
        "colab": {
          "base_uri": "https://localhost:8080/"
        },
        "id": "giup_EbhzHfv",
        "outputId": "4be7af4f-0b26-4c68-9699-54d966308e9e"
      },
      "outputs": [
        {
          "name": "stdout",
          "output_type": "stream",
          "text": [
            "['<s>', 'ĠThe', 'Ġpatient', 'Ġ,', 'Ġa', 'Ġ4', 'Ġ-', 'Ġyear', 'Ġ-', 'Ġold', 'Ġboy', 'Ġ,', 'Ġwas', 'Ġdiagnosed', 'Ġas', 'Ġhaving', 'ĠBl', 'au', 'Ġsyndrome', 'Ġbased', 'Ġon', 'Ġthe', 'Ġmanifestation', 'Ġof', 'Ġtypical', 'Ġclinical', 'Ġfeatures', 'Ġ(', 'Ġankle', 'Ġand', 'Ġwrist', 'Ġarthritis', 'Ġ/', 'Ġten', 'osyn', 'ovi', 'tis', 'Ġ,', 'Ġdiffuse', 'Ġec', 'z', 'ematous', 'Ġrash', 'Ġ,', 'Ġand', 'Ġuveitis', 'Ġ)', 'Ġ,', 'Ġhistologic', 'Ġevidence', 'Ġof', 'Ġnon', 'case', 'ating', 'Ġgranulomas', 'Ġ,', 'Ġand', 'Ġa', 'Ġheterozygous', 'ĠNOD', '2', 'Ġmutation', 'Ġ(', 'Ġp', '.', 'ĠR', '334', 'W', 'Ġ)', 'Ġ.', 'Ġ', 'Ċ', 'ĠOc', 'ular', 'Ġinvolvement', 'Ġwas', 'Ġinitially', 'Ġcontrolled', 'Ġby', 'Ġtopical', 'Ġand', 'Ġoral', 'Ġcorticosteroids', 'Ġ,', 'Ġbut', 'Ġover', 'Ġthe', 'Ġyears', 'Ġvisual', 'Ġimpairment', 'Ġprogressed', 'Ġ.', 'Ġ', 'Ċ', 'ĠOther', 'Ġmanifestations', 'Ġof', 'ĠBl', 'au', 'Ġsyndrome', 'Ġ(', 'Ġarthritis', 'Ġand', 'Ġrash', 'Ġ)', 'Ġsubsided', 'Ġover', 'Ġtime', 'Ġ.', 'Ġ', 'Ċ', 'ĠB', 'ilateral', 'Ġpan', 'u', 've', 'itis', 'Ġprogressed', 'Ġafter', 'Ġage', 'Ġ5', 'Ġyears', 'Ġ,', 'Ġand', 'Ġwas', 'Ġinitially', 'Ġtreated', 'Ġwith', 'Ġmethotrexate', 'Ġ.', 'Ġ', 'Ċ', 'ĠHowever', 'Ġ,', 'Ġocular', 'Ġinflammation', 'Ġpersisted', 'Ġdespite', 'Ġthe', 'Ġaddition', 'Ġof', 'Ġlocal', 'Ġsteroid', 'Ġinjections', 'Ġand', 'Ġrepeated', 'Ġintravenous', 'Ġ(', 'ĠIV', 'Ġ)', 'Ġbolus', 'Ġmethylprednisolone', 'Ġtreatment', 'Ġ;', 'Ġtherefore', 'Ġ,', 'Ġwhen', 'Ġthe', 'Ġpatient', 'Ġwas', 'Ġage', 'Ġ10', 'Ġyears', 'Ġ,', 'Ġinfliximab', 'Ġ(', 'Ġinitially', 'Ġat', 'Ġ5', 'Ġmg', 'Ġ/', 'Ġkg', 'Ġincreased', 'Ġto', 'Ġ10', 'Ġmg', 'Ġ/', 'Ġkg', 'ĠIV', 'Ġevery', 'Ġ4', 'Ġto', 'Ġ6', 'Ġweeks', 'Ġ)', 'Ġwas', 'Ġinitiated', 'Ġ.', 'Ġ', 'Ċ', 'ĠAlthough', 'Ġthere', 'Ġwas', 'Ġan', 'Ġinitial', 'Ġimprovement', 'Ġ,', 'Ġ1', 'Ġyear', 'Ġafter', 'Ġthis', 'Ġtreatment', 'Ġwas', 'Ġstarted', 'Ġuveitis', 'Ġworsened', 'Ġ,', 'Ġand', 'Ġat', 'Ġage', 'Ġ12', 'Ġyears', 'Ġinfliximab', 'Ġwas', 'Ġdiscontinued', 'Ġ.', 'Ġ', 'Ċ', 'ĠAd', 'alimumab', 'Ġ(', 'Ġ24', 'Ġmg', 'Ġ/', 'Ġm', '2', 'Ġevery', 'Ġ2', 'Ġweeks', 'Ġ)', 'Ġwas', 'Ġthen', 'Ġinitiated', 'Ġand', 'Ġthe', 'Ġdosage', 'Ġof', 'Ġmethotrexate', 'Ġ(', 'Ġ15', 'Ġmg', 'Ġ/', 'Ġm', '2', 'Ġ/', 'Ġweekly', 'Ġ)', 'Ġwas', 'Ġincreased', 'Ġ.', 'Ġ', 'Ċ', 'ĠHowever', 'Ġ,', 'Ġocular', 'Ġdisease', 'Ġremained', 'Ġactive', 'Ġ.', 'Ġ', 'Ċ', 'ĠMyc', 'ophen', 'olate', 'Ġmofetil', 'Ġ(', 'Ġ750', 'Ġmg', 'Ġ/', 'Ġm', '2', 'Ġ)', 'Ġand', 'Ġthen', 'Ġab', 'atac', 'ept', 'Ġ(', 'Ġ10', 'Ġmg', 'Ġ/', 'Ġkg', 'Ġ/', 'Ġmonth', 'ĠIV', 'Ġ)', 'Ġwere', 'Ġsequentially', 'Ġadministered', 'Ġ,', 'Ġwithout', 'Ġsignificant', 'Ġimprovement', 'Ġ.', 'Ġ', 'Ċ', 'ĠAt', 'Ġage', 'Ġ16', 'Ġyears', 'Ġthe', 'Ġpatient', 'Ġstill', 'Ġhad', 'Ġgranulomatous', 'Ġretinal', 'Ġlesions', 'Ġand', 'Ġanterior', 'Ġchamber', 'Ġinflammation', 'Ġ,', 'Ġand', 'Ġmacular', 'Ġedema', 'Ġdeveloped', 'Ġ,', 'Ġwhich', 'Ġled', 'Ġto', 'Ġretinal', 'Ġdetachment', 'Ġ.', 'Ġ', 'Ċ', 'ĠIn', 'Ġaddition', 'Ġto', 'Ġthe', 'Ġother', 'Ġsteroid', 'Ġtherapy', 'Ġ,', 'Ġcorticosteroid', 'Ġpulse', 'Ġtherapy', 'Ġwas', 'Ġnecessary', 'Ġto', 'Ġcontrol', 'Ġdisease', 'Ġflares', 'Ġ,', 'Ġwith', 'Ġan', 'Ġaverage', 'Ġof', 'Ġ3', 'Ġbolus', 'es', 'Ġ/', 'Ġmonth', 'Ġfor', 'Ġ6', 'Ġconsecutive', 'Ġmonths', 'Ġ.', 'Ġ', 'Ċ', 'ĠBecause', 'Ġof', 'Ġthe', 'Ġsupposed', 'Ġauto', 'inflammatory', 'Ġnature', 'Ġof', 'ĠBl', 'au', 'Ġsyndrome', 'Ġ,', 'Ġwe', 'Ġinitiated', 'Ġa', 'Ġtrial', 'Ġof', 'ĠIL', '-', '1', 'Ġantibody', 'Ġadministration', 'Ġ(', 'Ġ2', 'Ġmg', 'Ġ/', 'Ġkg', 'Ġ/', 'Ġmonth', 'Ġof', 'Ġcan', 'akin', 'umab', 'Ġ)', 'Ġ.', 'Ġ', 'Ċ', 'ĠDuring', 'Ġthe', 'Ġ6', 'Ġmonths', 'Ġthat', 'Ġfollowed', 'Ġ,', 'Ġno', 'Ġocular', 'Ġflare', 'Ġoccurred', 'Ġand', 'Ġno', 'Ġsteroid', 'Ġpulse', 'Ġtherapy', 'Ġwas', 'Ġnecessary', 'Ġ.', 'Ġ', 'Ċ', 'ĠCon', 'comitant', 'Ġtreatment', 'Ġwith', 'Ġoral', 'Ġmethotrexate', 'Ġand', 'Ġlow', 'Ġ-', 'Ġdose', 'Ġprednisone', 'Ġ(', 'Ġ0', '.', '2', 'Ġmg', 'Ġ/', 'Ġkg', 'Ġ/', 'Ġday', 'Ġ)', 'Ġremained', 'Ġunchanged', 'Ġ.', 'Ġ', 'Ċ', 'ĠFigure', 'Ġ1', 'Ġshows', 'Ġfluor', 'angi', 'ograms', 'Ġbefore', 'Ġtreatment', 'Ġand', 'Ġafter', 'Ġthe', 'Ġfirst', 'Ġ6', 'Ġinjections', 'Ġ.', 'Ġ', 'Ċ', 'ĠThe', 'Ġdrug', 'Ġwas', 'Ġwell', 'Ġtolerated', 'Ġwith', 'Ġno', 'Ġside', 'Ġeffects', 'Ġ,', 'Ġand', 'Ġfindings', 'Ġon', 'Ġlaboratory', 'Ġtests', 'Ġ(', 'Ġperformed', 'Ġmonthly', 'Ġ)', 'Ġwere', 'Ġnormal', 'Ġ.', '</s>']\n"
          ]
        }
      ],
      "source": [
        "tokenized_input = tokenizer(example[\"tokens\"], is_split_into_words=True)\n",
        "tokens = tokenizer.convert_ids_to_tokens(tokenized_input[\"input_ids\"])\n",
        "print(tokens)"
      ]
    },
    {
      "cell_type": "code",
      "execution_count": null,
      "metadata": {
        "colab": {
          "base_uri": "https://localhost:8080/"
        },
        "id": "0AiMTftczHfv",
        "outputId": "1ff5d41f-815d-4df7-e8a4-0a4c9f074851"
      },
      "outputs": [
        {
          "data": {
            "text/plain": [
              "(428, 483)"
            ]
          },
          "execution_count": 18,
          "metadata": {},
          "output_type": "execute_result"
        }
      ],
      "source": [
        "len(example[f\"numeric_tags\"]), len(tokenized_input[\"input_ids\"])"
      ]
    },
    {
      "cell_type": "code",
      "execution_count": null,
      "metadata": {
        "colab": {
          "base_uri": "https://localhost:8080/"
        },
        "id": "W_9Rjj4wzHfw",
        "outputId": "52145582-6fe3-4af3-8fb3-55998e958ff2"
      },
      "outputs": [
        {
          "name": "stdout",
          "output_type": "stream",
          "text": [
            "[None, 0, 1, 2, 3, 4, 5, 6, 7, 8, 9, 10, 11, 12, 13, 14, 15, 15, 16, 17, 18, 19, 20, 21, 22, 23, 24, 25, 26, 27, 28, 29, 30, 31, 31, 31, 31, 32, 33, 34, 34, 34, 35, 36, 37, 38, 39, 40, 41, 42, 43, 44, 44, 44, 45, 46, 47, 48, 49, 50, 50, 51, 52, 53, 53, 54, 54, 54, 55, 56, 57, 57, 58, 58, 59, 60, 61, 62, 63, 64, 65, 66, 67, 68, 69, 70, 71, 72, 73, 74, 75, 76, 77, 77, 78, 79, 80, 81, 81, 82, 83, 84, 85, 86, 87, 88, 89, 90, 91, 92, 92, 93, 93, 94, 94, 94, 94, 95, 96, 97, 98, 99, 100, 101, 102, 103, 104, 105, 106, 107, 108, 108, 109, 110, 111, 112, 113, 114, 115, 116, 117, 118, 119, 120, 121, 122, 123, 124, 125, 126, 127, 128, 129, 130, 131, 132, 133, 134, 135, 136, 137, 138, 139, 140, 141, 142, 143, 144, 145, 146, 147, 148, 149, 150, 151, 152, 153, 154, 155, 156, 157, 158, 159, 160, 161, 162, 163, 164, 165, 165, 166, 167, 168, 169, 170, 171, 172, 173, 174, 175, 176, 177, 178, 179, 180, 181, 182, 183, 184, 185, 186, 187, 188, 189, 190, 191, 192, 192, 193, 193, 194, 195, 196, 197, 198, 198, 199, 200, 201, 202, 203, 204, 205, 206, 207, 208, 209, 210, 211, 212, 213, 214, 215, 215, 216, 217, 218, 219, 220, 221, 222, 222, 223, 224, 225, 226, 227, 228, 229, 230, 230, 231, 231, 231, 232, 233, 234, 235, 236, 237, 237, 238, 239, 240, 241, 241, 241, 242, 243, 244, 245, 246, 247, 248, 249, 250, 251, 252, 253, 254, 255, 256, 257, 258, 259, 259, 260, 261, 262, 263, 264, 265, 266, 267, 268, 269, 270, 271, 272, 273, 274, 275, 276, 277, 278, 279, 280, 281, 282, 283, 284, 285, 286, 287, 287, 288, 289, 290, 291, 292, 293, 294, 295, 296, 297, 298, 299, 300, 301, 302, 303, 304, 305, 306, 307, 308, 309, 310, 311, 311, 312, 313, 314, 315, 316, 317, 318, 319, 319, 320, 321, 322, 323, 324, 324, 325, 326, 327, 327, 328, 329, 330, 331, 332, 333, 334, 335, 335, 335, 336, 337, 338, 339, 340, 341, 342, 343, 344, 345, 346, 346, 346, 347, 348, 349, 349, 350, 351, 352, 353, 354, 355, 356, 357, 358, 359, 360, 361, 362, 363, 364, 365, 366, 367, 368, 369, 369, 370, 370, 371, 372, 373, 374, 375, 376, 377, 378, 379, 380, 381, 381, 381, 382, 383, 384, 385, 386, 387, 388, 389, 390, 391, 391, 392, 393, 394, 395, 395, 395, 396, 397, 398, 399, 400, 401, 402, 403, 404, 405, 405, 406, 407, 408, 409, 410, 411, 412, 413, 414, 415, 416, 417, 418, 419, 420, 421, 422, 423, 424, 425, 426, 427, None]\n"
          ]
        }
      ],
      "source": [
        "print(tokenized_input.word_ids())"
      ]
    },
    {
      "cell_type": "code",
      "execution_count": null,
      "metadata": {
        "colab": {
          "base_uri": "https://localhost:8080/"
        },
        "id": "uhYbPFs_zHfw",
        "outputId": "b1632abb-569a-430f-dd19-66de4ae233de"
      },
      "outputs": [
        {
          "name": "stdout",
          "output_type": "stream",
          "text": [
            "483 483\n"
          ]
        }
      ],
      "source": [
        "word_ids = tokenized_input.word_ids()\n",
        "aligned_labels = [-100 if i is None else example[f\"numeric_tags\"][i] for i in word_ids]\n",
        "print(len(aligned_labels), len(tokenized_input[\"input_ids\"]))"
      ]
    },
    {
      "cell_type": "code",
      "execution_count": null,
      "metadata": {
        "id": "aNFvssvTzHfw"
      },
      "outputs": [],
      "source": [
        "label_all_tokens = True"
      ]
    },
    {
      "cell_type": "code",
      "execution_count": null,
      "metadata": {
        "id": "vc0BSBLIIrJQ"
      },
      "outputs": [],
      "source": [
        "def tokenize_and_align_labels(examples):\n",
        "    tokenized_inputs = tokenizer(examples[\"tokens\"], truncation=True, is_split_into_words=True, max_length=512)\n",
        "\n",
        "    labels = []\n",
        "    for i, label in enumerate(examples[f\"numeric_tags\"]):\n",
        "        word_ids = tokenized_inputs.word_ids(batch_index=i)\n",
        "        previous_word_idx = None\n",
        "        label_ids = []\n",
        "        for word_idx in word_ids:\n",
        "            # Special tokens have a word id that is None. We set the label to -100 so they are automatically\n",
        "            # ignored in the loss function.\n",
        "            if word_idx is None:\n",
        "                label_ids.append(-100)\n",
        "            # We set the label for the first token of each word.\n",
        "            elif word_idx != previous_word_idx:\n",
        "                label_ids.append(label[word_idx])\n",
        "            # For the other tokens in a word, we set the label to either the current label or -100, depending on\n",
        "            # the label_all_tokens flag.\n",
        "            else:\n",
        "                label_ids.append(label[word_idx] if label_all_tokens else -100)\n",
        "            previous_word_idx = word_idx\n",
        "\n",
        "        labels.append(label_ids)\n",
        "\n",
        "    tokenized_inputs[\"labels\"] = labels\n",
        "    return tokenized_inputs"
      ]
    },
    {
      "cell_type": "code",
      "execution_count": null,
      "metadata": {
        "colab": {
          "base_uri": "https://localhost:8080/"
        },
        "id": "-b70jh26IrJS",
        "outputId": "ae690a25-ff05-4163-d7b4-c367527672d0"
      },
      "outputs": [
        {
          "data": {
            "text/plain": [
              "{'input_ids': [[0, 362, 3607, 1878, 2520, 1878, 4013, 779, 343, 5476, 302, 875, 2144, 329, 4612, 996, 358, 343, 1730, 841, 3041, 382, 12022, 42168, 11478, 28411, 6255, 301, 41418, 6970, 2245, 224, 202, 3759, 609, 2186, 2819, 343, 1281, 3267, 4535, 2385, 6878, 2523, 382, 6517, 9111, 2245, 224, 202, 20963, 3550, 653, 925, 261, 1779, 640, 281, 21526, 281, 4183, 17, 22, 4382, 10184, 4145, 301, 1222, 1648, 13588, 541, 1878, 1430, 4382, 10184, 4145, 6970, 3267, 720, 689, 691, 12862, 3267, 530, 1408, 691, 1294, 2791, 3267, 853, 340, 3267, 41217, 3319, 301, 16648, 6970, 290, 9885, 3319, 971, 1878, 811, 301, 2571, 1311, 1878, 811, 6970, 2245, 224, 202, 41418, 1720, 261, 545, 1878, 3203, 8072, 1560, 1468, 696, 2000, 358, 343, 7894, 281, 991, 49268, 14441, 276, 270, 1970, 13952, 281, 270, 4612, 39021, 2245, 224, 202, 362, 5172, 3352, 281, 8853, 5159, 2312, 2413, 270, 1401, 281, 10683, 6875, 11164, 8226, 2245, 224, 202, 20463, 47809, 39892, 4825, 5985, 8287, 261, 4612, 2000, 324, 4478, 22225, 276, 270, 4612, 39021, 324, 445, 319, 13245, 1959, 4647, 15784, 2245, 224, 202, 3759, 5445, 2803, 352, 929, 276, 270, 1991, 3267, 2152, 397, 27544, 3267, 290, 6744, 18821, 925, 689, 609, 1477, 2245, 224, 202, 15431, 407, 40247, 21765, 324, 457, 21, 1959, 4647, 9268, 290, 24257, 287, 399, 2229, 5324, 77, 43763, 352, 986, 2245, 224, 202, 28448, 323, 3267, 270, 14432, 8431, 4158, 3557, 2803, 13588, 270, 1024, 343, 261, 545, 17, 27, 3203, 2846, 465, 17, 21, 3203, 8072, 1560, 1468, 696, 2000, 276, 270, 39021, 3267, 324, 5293, 8672, 290, 2201, 8584, 5368, 6045, 290, 270, 1339, 343, 261, 15962, 369, 17, 24, 3203, 2846, 369, 17, 19, 3203, 20541, 4154, 301, 1531, 1022, 237, 20, 6970, 2245, 224, 202, 11434, 23370, 3267, 11545, 3261, 281, 32307, 3267, 293, 449, 295, 263, 1294, 509, 324, 8672, 301, 48911, 14397, 9481, 290, 1218, 14397, 9481, 6970, 352, 929, 276, 270, 1024, 4154, 2245, 224, 202, 39180, 290, 7771, 301, 6966, 2184, 10706, 2312, 1720, 261, 293, 436, 4730, 17760, 4403, 290, 14346, 6055, 405, 261, 10312, 281, 2285, 2846, 301, 1531, 1022, 237, 21, 36, 6970, 290, 1586, 2846, 301, 1531, 1022, 237, 21, 37, 6970, 2245, 224, 202, 403, 1294, 1733, 270, 1712, 2211, 3442, 301, 330, 21, 68, 6970, 290, 4425, 343, 834, 276, 1551, 281, 6312, 6109, 1959, 4634, 301, 476, 20, 6970, 2245, 224, 202, 30898, 2934, 925, 1432, 12016, 329, 2280, 1878, 1026, 31383, 21741, 301, 45177, 6970, 301, 1531, 1022, 237, 22, 36, 6970, 290, 7467, 12037, 329, 21526, 301, 1531, 1022, 237, 22, 37, 6970, 2245, 224, 202, 1427, 1477, 2413, 270, 1401, 281, 4612, 30058, 7307, 358, 4158, 1284, 10657, 281, 280, 21526, 1878, 7365, 8226, 2245, 224, 202, 403, 1339, 4154, 343, 10683, 6875, 11164, 8226, 3267, 530, 5315, 302, 270, 23347, 3442, 301, 330, 20, 69, 6970, 2245, 224, 202, 1499, 343, 3980, 302, 3267, 720, 3186, 414, 270, 1024, 4154, 3267, 530, 343, 1844, 382, 10697, 2934, 329, 2280, 1878, 45177, 290, 21526, 2245, 2], [0, 362, 8474, 19511, 281, 2473, 848, 9736, 42943, 5144, 343, 7058, 405, 2635, 2267, 46507, 9376, 382, 19981, 3812, 2245, 224, 202, 9445, 4320, 301, 1078, 492, 7782, 3267, 4183, 1147, 4013, 6970, 807, 641, 7683, 302, 875, 2144, 369, 2267, 1588, 1492, 281, 1452, 5039, 18567, 7098, 290, 2824, 7363, 911, 8442, 316, 2245, 224, 202, 403, 1246, 46507, 86, 28042, 343, 369, 15, 24778, 326, 301, 1239, 790, 399, 12227, 6970, 3267, 2250, 6504, 3203, 3267, 290, 3061, 12342, 4383, 17, 21, 3203, 301, 1839, 399, 12227, 6970, 2245, 224, 202, 2164, 807, 713, 1878, 1149, 22262, 290, 6350, 22303, 17815, 2245, 224, 202, 37480, 2456, 352, 369, 3267, 674, 3267, 290, 775, 405, 350, 3267, 545, 3267, 290, 790, 4019, 2245, 224, 202, 403, 1246, 1846, 324, 2202, 2821, 4446, 290, 9468, 2211, 11483, 3267, 7616, 24113, 12872, 290, 1111, 19194, 8533, 2245, 224, 202, 1124, 13887, 5686, 1492, 281, 10640, 3635, 8141, 290, 3965, 18620, 2245, 224, 202, 427, 9307, 1910, 343, 1730, 382, 7965, 9681, 8282, 3267, 1267, 13321, 4335, 925, 21809, 13263, 22838, 290, 43721, 13873, 2245, 224, 202, 5229, 1500, 690, 4006, 3267, 270, 7293, 1846, 324, 2202, 5395, 30275, 324, 261, 14151, 2219, 7719, 2245, 224, 202, 4335, 1720, 3549, 4668, 17019, 1351, 4287, 9008, 2245, 224, 202, 10050, 6535, 925, 15373, 301, 3636, 1764, 10184, 291, 47, 6970, 3267, 904, 307, 930, 279, 2613, 301, 541, 17, 4106, 6659, 10184, 539, 6970, 3267, 290, 47122, 301, 369, 17, 23, 6659, 10184, 539, 6970, 2245, 224, 202, 11542, 8880, 343, 1222, 301, 350, 17, 22, 6659, 10184, 539, 3267, 1222, 1648, 541, 17, 24, 619, 21, 17, 21, 6659, 10184, 539, 6970, 290, 1991, 3687, 352, 29976, 2245, 224, 202, 362, 6331, 2211, 5159, 343, 986, 290, 925, 15854, 3267, 19445, 9314, 273, 10189, 301, 9776, 2184, 6872, 290, 20573, 8578, 3428, 1432, 2211, 5862, 301, 6704, 6970, 3267, 2548, 261, 3528, 3752, 2245, 224, 202, 13234, 1990, 771, 1720, 3549, 11061, 6624, 276, 2211, 301, 9457, 5625, 2180, 340, 851, 302, 1058, 1878, 6100, 2052, 6970, 3267, 1267, 261, 2193, 329, 11061, 14863, 1096, 1162, 9776, 1878, 1432, 290, 9776, 1878, 9968, 5862, 23, 343, 1844, 2245, 224, 202, 1124, 7622, 270, 4121, 5704, 1512, 290, 11218, 1878, 7169, 11265, 281, 270, 32011, 42, 20, 796, 3267, 6054, 710, 981, 9926, 15837, 2568, 276, 2006, 273, 17, 47684, 38, 2368, 330, 7703, 275, 17, 473, 25475, 58, 290, 273, 17, 1376, 2860, 42, 2368, 362, 7703, 275, 17, 516, 36799, 54, 17, 224, 202, 20495, 281, 6686, 1178, 2413, 14187, 16507, 2245, 224, 202, 403, 7293, 6899, 405, 1262, 1500, 281, 3965, 2977, 2245, 224, 202, 2536, 16539, 3267, 270, 1603, 1238, 481, 526, 10382, 1237, 363, 11447, 3352, 2245, 224, 202, 10551, 1008, 343, 481, 12435, 1234, 302, 2567, 11751, 281, 1410, 6045, 871, 343, 689, 1541, 281, 4220, 2891, 276, 270, 4796, 5420, 2245, 224, 202, 403, 1991, 925, 8356, 35865, 3267, 2489, 324, 1111, 19194, 8533, 6045, 16732, 17064, 3267, 5900, 3267, 397, 1991, 5368, 352, 481, 929, 2], [0, 2374, 7642, 3083, 3267, 3081, 3267, 261, 3607, 1878, 2520, 1878, 4013, 779, 45652, 281, 5395, 1901, 3267, 25978, 3267, 290, 12757, 343, 5476, 302, 270, 2164, 3388, 76, 12397, 5182, 3267, 2164, 3388, 76, 3267, 3991, 2245, 224, 202, 47595, 5162, 925, 10064, 16156, 20541, 2803, 12150, 414, 270, 4612, 1875, 302, 270, 10914, 13952, 290, 40766, 8459, 281, 270, 10370, 2245, 224, 202, 516, 13245, 5159, 1720, 8226, 2245, 224, 202, 2374, 6646, 775, 3267, 3187, 3267, 12753, 21765, 4810, 40407, 1878, 463, 1878, 1932, 4270, 12022, 19911, 43763, 352, 986, 2245, 224, 202, 17385, 3727, 13263, 7684, 1878, 6222, 290, 4003, 5056, 5218, 1959, 4634, 3267, 340, 918, 340, 1959, 4634, 3185, 270, 1398, 4808, 3576, 3267, 960, 481, 365, 14432, 2245, 224, 202, 32195, 5972, 1570, 10683, 6875, 4612, 8226, 301, 1003, 17, 20, 36, 6970, 2245, 224, 202, 34039, 925, 270, 1391, 13588, 1026, 9622, 1310, 1437, 1851, 369, 301, 8178, 16, 21, 6970, 301, 1702, 6970, 3267, 3066, 3793, 1310, 1437, 301, 6337, 6970, 301, 1702, 6970, 3267, 1209, 2448, 301, 1702, 6970, 3267, 1209, 8962, 301, 1702, 6970, 301, 1003, 17, 20, 37, 3428, 478, 6970, 3267, 8419, 1432, 301, 6929, 6970, 301, 1702, 6970, 3267, 9366, 376, 1878, 19658, 13598, 301, 9465, 1878, 13598, 6970, 301, 1702, 1702, 1702, 6970, 3267, 24840, 2696, 2229, 2502, 301, 20588, 50, 1397, 2502, 6970, 3267, 394, 2541, 301, 3428, 6970, 3267, 290, 10175, 16, 3178, 301, 3607, 5625, 6970, 2245, 224, 202, 403, 1798, 343, 2262, 3825, 4612, 8226, 324, 1703, 1959, 81, 2512, 6396, 301, 330, 23, 49, 21, 48, 20, 6970, 2245, 224, 202, 403, 1092, 343, 4023, 350, 2786, 281, 3754, 324, 25363, 290, 376, 16, 20, 6045, 1957, 3267, 270, 699, 343, 18245, 3267, 340, 270, 1092, 960, 481, 22729, 270, 893, 6733, 11523, 2245, 224, 202, 2374, 12009, 369, 3267, 3187, 3267, 8185, 7097, 343, 4023, 2245, 224, 202, 14057, 7097, 3267, 19101, 1878, 4890, 5985, 4825, 5985, 301, 7233, 1878, 2410, 6970, 925, 5293, 9067, 4425, 301, 2113, 31075, 45126, 290, 19700, 1959, 4634, 3267, 290, 1959, 4634, 3978, 270, 5395, 6973, 6970, 2245, 224, 202, 403, 1092, 4702, 86, 15383, 34423, 20434, 4690, 301, 42491, 6970, 1962, 2105, 343, 369, 3267, 290, 4225, 1875, 2000, 2409, 301, 4461, 6970, 343, 971, 6045, 2361, 3267, 470, 343, 1630, 302, 365, 405, 989, 281, 15859, 2245, 224, 202, 22307, 519, 10901, 35444, 1022, 236, 1764, 4972, 261, 1811, 2715, 324, 290, 1391, 7097, 343, 8741, 2245, 224, 202, 25784, 4631, 343, 1280, 414, 270, 1092, 2128, 302, 699, 2245, 224, 202, 531, 280, 7625, 302, 1634, 5268, 302, 699, 3267, 12753, 2929, 9768, 3911, 1528, 301, 21380, 6970, 343, 628, 2245, 224, 202, 403, 1092, 2499, 261, 1843, 281, 6749, 10472, 276, 1409, 6073, 302, 270, 35853, 290, 3788, 281, 6338, 10472, 276, 3431, 6073, 302, 270, 691, 5395, 5445, 2803, 301, 312, 1022, 236, 729, 1022, 236, 545, 6970, 2245, 224, 202, 403, 2113, 31075, 45126, 1959, 4647, 343, 1497, 324, 519, 10901, 3058, 301, 13070, 17, 21, 290, 2], [0, 362, 8794, 1878, 2520, 1878, 4013, 779, 343, 5476, 302, 875, 2144, 276, 11952, 3967, 1492, 281, 1991, 4105, 1730, 841, 261, 2186, 4378, 390, 2245, 224, 202, 403, 1092, 807, 641, 3540, 324, 31492, 3098, 276, 7944, 2245, 224, 202, 10050, 8756, 925, 3346, 1779, 41986, 3687, 290, 11025, 3267, 290, 270, 1401, 281, 5290, 285, 17253, 2463, 2245, 224, 202, 6069, 2889, 2791, 329, 32844, 464, 290, 359, 5483, 352, 1844, 2245, 224, 202, 10551, 14452, 3352, 281, 261, 1991, 5159, 8431, 1280, 405, 22174, 1720, 848, 1878, 2173, 42144, 22495, 30585, 276, 270, 9853, 1819, 301, 1531, 1022, 237, 20, 6970, 2245, 224, 202, 403, 1798, 281, 26491, 301, 30405, 41111, 2262, 465, 6970, 343, 2413, 290, 44275, 43215, 1082, 3267, 19392, 1764, 3243, 3267, 343, 6459, 2245, 224, 202, 531, 6646, 290, 8910, 5080, 3267, 270, 1092, 3511, 8853, 47744, 11464, 4810, 8853, 3139, 7234, 2275, 340, 918, 340, 23345, 2078, 11351, 329, 15165, 10114, 32584, 2245, 224, 202, 531, 10266, 3515, 3267, 270, 1092, 343, 7683, 329, 270, 699, 281, 6098, 10114, 32584, 2245, 224, 202, 403, 6267, 2411, 807, 5481, 570, 6338, 2846, 14422, 10184, 539, 290, 8542, 2846, 14422, 10184, 539, 329, 1559, 1147, 3267, 720, 537, 343, 3708, 302, 2180, 414, 7504, 2846, 14422, 10184, 539, 276, 8910, 3515, 302, 869, 2846, 14422, 10184, 539, 5343, 1568, 5008, 2245, 224, 202, 14057, 270, 11867, 281, 17111, 3267, 270, 1092, 807, 689, 6652, 2204, 290, 2499, 689, 691, 4838, 2245, 224, 202, 2374, 5008, 3267, 270, 1092, 807, 7445, 40063, 3731, 5712, 8093, 2245, 224, 202, 1683, 350, 2070, 270, 3550, 653, 363, 5008, 2245, 224, 202, 403, 6267, 1878, 893, 4139, 640, 343, 6574, 673, 2245, 224, 202, 23164, 5665, 5159, 1720, 4317, 9929, 5665, 1351, 2433, 35720, 2245, 224, 202, 10690, 42081, 290, 4231, 5428, 2334, 1720, 261, 25564, 1991, 324, 34591, 3267, 17377, 3267, 290, 42018, 2245, 224, 202, 403, 7526, 1445, 807, 3899, 8682, 414, 1049, 2334, 8756, 2245, 224, 202, 6024, 363, 647, 1477, 3267, 270, 1912, 281, 26491, 301, 37339, 1991, 10021, 6970, 324, 33325, 343, 3540, 2245, 224, 202, 8232, 11429, 3319, 301, 6887, 6970, 11537, 1623, 382, 6155, 3662, 2146, 1878, 3594, 1878, 1189, 17548, 397, 6155, 3662, 2146, 1878, 1799, 1145, 4926, 301, 48832, 3267, 3647, 17, 3267, 11950, 3267, 4149, 6970, 1730, 362, 13, 19, 2835, 586, 586, 3267, 464, 13, 7699, 2835, 3267, 359, 13, 24656, 33421, 3267, 359, 13, 42386, 2835, 586, 3267, 10180, 37, 20, 3119, 541, 36798, 3267, 21837, 36, 20, 3119, 541, 10375, 3267, 21837, 36, 20, 3119, 541, 22183, 586, 3267, 21837, 37, 20, 3119, 541, 1496, 2835, 3267, 21837, 37, 20, 3119, 42502, 586, 586, 3267, 26730, 20, 3119, 541, 2187, 2835, 3267, 290, 26730, 20, 3119, 541, 2187, 29273, 2245, 224, 202, 403, 1789, 38, 10489, 11990, 979, 329, 427, 9586, 1529, 343, 1844, 2245, 224, 202, 1531, 1022, 237, 21, 2070, 270, 934, 3444, 2245, 224, 202, 22307, 21272, 3267, 1409, 1764, 3243, 3267, 329, 33325, 343, 6459, 363, 1811, 2080, 3267, 290, 29972, 2], [0, 403, 1092, 3267, 261, 550, 1878, 2520, 1878, 4013, 19511, 3267, 343, 3540, 340, 3173, 4520, 3494, 3098, 1189, 363, 270, 14093, 281, 4776, 934, 2384, 301, 11604, 290, 15870, 7440, 10184, 5568, 4252, 8881, 1618, 3267, 8356, 4380, 93, 28055, 19349, 3267, 290, 22344, 6970, 3267, 12287, 1541, 281, 848, 14361, 696, 27337, 3267, 290, 261, 9926, 15004, 21, 3100, 301, 275, 17, 473, 38777, 58, 6970, 2245, 224, 202, 9525, 543, 4213, 343, 5678, 3459, 382, 10742, 290, 3147, 13382, 3267, 720, 786, 270, 1147, 2284, 4921, 15740, 2245, 224, 202, 5412, 9054, 281, 4520, 3494, 3098, 301, 7440, 290, 19349, 6970, 48460, 786, 797, 2245, 224, 202, 464, 7016, 3032, 88, 325, 2580, 15740, 690, 1058, 545, 1147, 3267, 290, 343, 5678, 1497, 324, 19000, 2245, 224, 202, 1141, 3267, 9263, 3090, 14711, 4371, 270, 1273, 281, 1611, 8960, 8159, 290, 3907, 5761, 301, 3825, 6970, 13943, 29806, 699, 6045, 2361, 3267, 966, 270, 1092, 343, 1058, 790, 1147, 3267, 25506, 301, 5678, 405, 545, 1764, 10184, 5737, 900, 302, 790, 1764, 10184, 5737, 3825, 3364, 550, 302, 674, 2267, 6970, 343, 7152, 2245, 224, 202, 2739, 871, 343, 280, 2327, 3287, 3267, 350, 2520, 690, 491, 699, 343, 6459, 22344, 24285, 3267, 290, 405, 1058, 1121, 1147, 25506, 343, 16159, 2245, 224, 202, 2199, 25656, 301, 1532, 1764, 10184, 289, 21, 3364, 369, 2267, 6970, 343, 1315, 7152, 290, 270, 8732, 281, 19000, 301, 1430, 1764, 10184, 289, 21, 10184, 9416, 6970, 343, 900, 2245, 224, 202, 1141, 3267, 9263, 953, 3899, 2114, 2245, 224, 202, 9256, 10060, 9629, 45919, 301, 21876, 1764, 10184, 289, 21, 6970, 290, 1315, 551, 45842, 4276, 301, 790, 1764, 10184, 5737, 10184, 4590, 3825, 6970, 352, 16505, 4023, 3267, 1351, 609, 3287, 2245, 224, 202, 2536, 1058, 1727, 1147, 270, 1092, 2417, 807, 25423, 5968, 2803, 290, 4003, 6751, 3090, 3267, 290, 14633, 8819, 1823, 3267, 530, 3787, 302, 5968, 16104, 2245, 224, 202, 531, 1273, 302, 270, 691, 8960, 1528, 3267, 17188, 6266, 1528, 343, 3282, 302, 708, 953, 42536, 3267, 324, 280, 1886, 281, 465, 13943, 279, 10184, 4590, 329, 674, 5833, 1748, 2245, 224, 202, 5546, 281, 270, 17754, 4640, 3776, 3900, 281, 4520, 3494, 3098, 3267, 479, 7152, 261, 2655, 281, 1565, 16, 20, 2291, 2881, 301, 369, 1764, 10184, 5737, 10184, 4590, 281, 500, 29145, 5763, 6970, 2245, 224, 202, 5855, 270, 674, 1748, 358, 1928, 3267, 689, 9263, 26854, 3112, 290, 689, 8960, 6266, 1528, 343, 3282, 2245, 224, 202, 2493, 35209, 699, 324, 3147, 19000, 290, 713, 1878, 1843, 22136, 301, 541, 17, 21, 1764, 10184, 5737, 10184, 1811, 6970, 3899, 8682, 2245, 224, 202, 1531, 350, 2070, 5607, 6560, 7885, 1568, 699, 290, 690, 270, 1024, 674, 8159, 2245, 224, 202, 403, 1285, 343, 918, 11092, 324, 689, 2760, 990, 3267, 290, 1477, 363, 3550, 2559, 301, 986, 11775, 6970, 352, 1222, 2245, 2]], 'attention_mask': [[1, 1, 1, 1, 1, 1, 1, 1, 1, 1, 1, 1, 1, 1, 1, 1, 1, 1, 1, 1, 1, 1, 1, 1, 1, 1, 1, 1, 1, 1, 1, 1, 1, 1, 1, 1, 1, 1, 1, 1, 1, 1, 1, 1, 1, 1, 1, 1, 1, 1, 1, 1, 1, 1, 1, 1, 1, 1, 1, 1, 1, 1, 1, 1, 1, 1, 1, 1, 1, 1, 1, 1, 1, 1, 1, 1, 1, 1, 1, 1, 1, 1, 1, 1, 1, 1, 1, 1, 1, 1, 1, 1, 1, 1, 1, 1, 1, 1, 1, 1, 1, 1, 1, 1, 1, 1, 1, 1, 1, 1, 1, 1, 1, 1, 1, 1, 1, 1, 1, 1, 1, 1, 1, 1, 1, 1, 1, 1, 1, 1, 1, 1, 1, 1, 1, 1, 1, 1, 1, 1, 1, 1, 1, 1, 1, 1, 1, 1, 1, 1, 1, 1, 1, 1, 1, 1, 1, 1, 1, 1, 1, 1, 1, 1, 1, 1, 1, 1, 1, 1, 1, 1, 1, 1, 1, 1, 1, 1, 1, 1, 1, 1, 1, 1, 1, 1, 1, 1, 1, 1, 1, 1, 1, 1, 1, 1, 1, 1, 1, 1, 1, 1, 1, 1, 1, 1, 1, 1, 1, 1, 1, 1, 1, 1, 1, 1, 1, 1, 1, 1, 1, 1, 1, 1, 1, 1, 1, 1, 1, 1, 1, 1, 1, 1, 1, 1, 1, 1, 1, 1, 1, 1, 1, 1, 1, 1, 1, 1, 1, 1, 1, 1, 1, 1, 1, 1, 1, 1, 1, 1, 1, 1, 1, 1, 1, 1, 1, 1, 1, 1, 1, 1, 1, 1, 1, 1, 1, 1, 1, 1, 1, 1, 1, 1, 1, 1, 1, 1, 1, 1, 1, 1, 1, 1, 1, 1, 1, 1, 1, 1, 1, 1, 1, 1, 1, 1, 1, 1, 1, 1, 1, 1, 1, 1, 1, 1, 1, 1, 1, 1, 1, 1, 1, 1, 1, 1, 1, 1, 1, 1, 1, 1, 1, 1, 1, 1, 1, 1, 1, 1, 1, 1, 1, 1, 1, 1, 1, 1, 1, 1, 1, 1, 1, 1, 1, 1, 1, 1, 1, 1, 1, 1, 1, 1, 1, 1, 1, 1, 1, 1, 1, 1, 1, 1, 1, 1, 1, 1, 1, 1, 1, 1, 1, 1, 1, 1, 1, 1, 1, 1, 1, 1, 1, 1, 1, 1, 1, 1, 1, 1, 1, 1, 1, 1, 1, 1, 1, 1, 1, 1, 1, 1, 1, 1, 1, 1, 1, 1, 1, 1, 1, 1, 1, 1, 1, 1, 1, 1, 1, 1, 1, 1, 1, 1, 1, 1, 1, 1, 1, 1, 1, 1, 1, 1, 1, 1, 1, 1, 1, 1, 1, 1, 1, 1, 1, 1, 1, 1, 1, 1, 1, 1, 1, 1, 1, 1, 1, 1, 1, 1, 1, 1, 1, 1, 1, 1, 1, 1, 1, 1, 1, 1, 1, 1, 1, 1, 1, 1, 1, 1, 1, 1, 1, 1, 1, 1, 1, 1, 1, 1, 1, 1, 1, 1, 1, 1, 1, 1, 1, 1, 1, 1], [1, 1, 1, 1, 1, 1, 1, 1, 1, 1, 1, 1, 1, 1, 1, 1, 1, 1, 1, 1, 1, 1, 1, 1, 1, 1, 1, 1, 1, 1, 1, 1, 1, 1, 1, 1, 1, 1, 1, 1, 1, 1, 1, 1, 1, 1, 1, 1, 1, 1, 1, 1, 1, 1, 1, 1, 1, 1, 1, 1, 1, 1, 1, 1, 1, 1, 1, 1, 1, 1, 1, 1, 1, 1, 1, 1, 1, 1, 1, 1, 1, 1, 1, 1, 1, 1, 1, 1, 1, 1, 1, 1, 1, 1, 1, 1, 1, 1, 1, 1, 1, 1, 1, 1, 1, 1, 1, 1, 1, 1, 1, 1, 1, 1, 1, 1, 1, 1, 1, 1, 1, 1, 1, 1, 1, 1, 1, 1, 1, 1, 1, 1, 1, 1, 1, 1, 1, 1, 1, 1, 1, 1, 1, 1, 1, 1, 1, 1, 1, 1, 1, 1, 1, 1, 1, 1, 1, 1, 1, 1, 1, 1, 1, 1, 1, 1, 1, 1, 1, 1, 1, 1, 1, 1, 1, 1, 1, 1, 1, 1, 1, 1, 1, 1, 1, 1, 1, 1, 1, 1, 1, 1, 1, 1, 1, 1, 1, 1, 1, 1, 1, 1, 1, 1, 1, 1, 1, 1, 1, 1, 1, 1, 1, 1, 1, 1, 1, 1, 1, 1, 1, 1, 1, 1, 1, 1, 1, 1, 1, 1, 1, 1, 1, 1, 1, 1, 1, 1, 1, 1, 1, 1, 1, 1, 1, 1, 1, 1, 1, 1, 1, 1, 1, 1, 1, 1, 1, 1, 1, 1, 1, 1, 1, 1, 1, 1, 1, 1, 1, 1, 1, 1, 1, 1, 1, 1, 1, 1, 1, 1, 1, 1, 1, 1, 1, 1, 1, 1, 1, 1, 1, 1, 1, 1, 1, 1, 1, 1, 1, 1, 1, 1, 1, 1, 1, 1, 1, 1, 1, 1, 1, 1, 1, 1, 1, 1, 1, 1, 1, 1, 1, 1, 1, 1, 1, 1, 1, 1, 1, 1, 1, 1, 1, 1, 1, 1, 1, 1, 1, 1, 1, 1, 1, 1, 1, 1, 1, 1, 1, 1, 1, 1, 1, 1, 1, 1, 1, 1, 1, 1, 1, 1, 1, 1, 1, 1, 1, 1, 1, 1, 1, 1, 1, 1, 1, 1, 1, 1, 1, 1, 1, 1, 1, 1, 1, 1, 1, 1, 1, 1, 1, 1, 1, 1, 1, 1, 1, 1, 1, 1, 1, 1, 1, 1, 1, 1, 1, 1, 1, 1, 1, 1, 1, 1, 1, 1, 1, 1, 1, 1, 1, 1, 1, 1, 1, 1, 1, 1, 1, 1, 1, 1, 1, 1, 1, 1, 1, 1, 1, 1, 1, 1, 1, 1, 1, 1, 1, 1, 1, 1, 1, 1, 1, 1, 1, 1, 1, 1, 1, 1, 1, 1, 1, 1, 1, 1, 1, 1, 1, 1, 1, 1, 1, 1, 1, 1, 1, 1, 1, 1, 1, 1, 1, 1, 1, 1, 1, 1, 1, 1, 1, 1, 1, 1, 1, 1, 1, 1, 1, 1, 1, 1, 1, 1, 1, 1, 1, 1, 1, 1, 1, 1], [1, 1, 1, 1, 1, 1, 1, 1, 1, 1, 1, 1, 1, 1, 1, 1, 1, 1, 1, 1, 1, 1, 1, 1, 1, 1, 1, 1, 1, 1, 1, 1, 1, 1, 1, 1, 1, 1, 1, 1, 1, 1, 1, 1, 1, 1, 1, 1, 1, 1, 1, 1, 1, 1, 1, 1, 1, 1, 1, 1, 1, 1, 1, 1, 1, 1, 1, 1, 1, 1, 1, 1, 1, 1, 1, 1, 1, 1, 1, 1, 1, 1, 1, 1, 1, 1, 1, 1, 1, 1, 1, 1, 1, 1, 1, 1, 1, 1, 1, 1, 1, 1, 1, 1, 1, 1, 1, 1, 1, 1, 1, 1, 1, 1, 1, 1, 1, 1, 1, 1, 1, 1, 1, 1, 1, 1, 1, 1, 1, 1, 1, 1, 1, 1, 1, 1, 1, 1, 1, 1, 1, 1, 1, 1, 1, 1, 1, 1, 1, 1, 1, 1, 1, 1, 1, 1, 1, 1, 1, 1, 1, 1, 1, 1, 1, 1, 1, 1, 1, 1, 1, 1, 1, 1, 1, 1, 1, 1, 1, 1, 1, 1, 1, 1, 1, 1, 1, 1, 1, 1, 1, 1, 1, 1, 1, 1, 1, 1, 1, 1, 1, 1, 1, 1, 1, 1, 1, 1, 1, 1, 1, 1, 1, 1, 1, 1, 1, 1, 1, 1, 1, 1, 1, 1, 1, 1, 1, 1, 1, 1, 1, 1, 1, 1, 1, 1, 1, 1, 1, 1, 1, 1, 1, 1, 1, 1, 1, 1, 1, 1, 1, 1, 1, 1, 1, 1, 1, 1, 1, 1, 1, 1, 1, 1, 1, 1, 1, 1, 1, 1, 1, 1, 1, 1, 1, 1, 1, 1, 1, 1, 1, 1, 1, 1, 1, 1, 1, 1, 1, 1, 1, 1, 1, 1, 1, 1, 1, 1, 1, 1, 1, 1, 1, 1, 1, 1, 1, 1, 1, 1, 1, 1, 1, 1, 1, 1, 1, 1, 1, 1, 1, 1, 1, 1, 1, 1, 1, 1, 1, 1, 1, 1, 1, 1, 1, 1, 1, 1, 1, 1, 1, 1, 1, 1, 1, 1, 1, 1, 1, 1, 1, 1, 1, 1, 1, 1, 1, 1, 1, 1, 1, 1, 1, 1, 1, 1, 1, 1, 1, 1, 1, 1, 1, 1, 1, 1, 1, 1, 1, 1, 1, 1, 1, 1, 1, 1, 1, 1, 1, 1, 1, 1, 1, 1, 1, 1, 1, 1, 1, 1, 1, 1, 1, 1, 1, 1, 1, 1, 1, 1, 1, 1, 1, 1, 1, 1, 1, 1, 1, 1, 1, 1, 1, 1, 1, 1, 1, 1, 1, 1, 1, 1, 1, 1, 1, 1, 1, 1, 1, 1, 1, 1, 1, 1, 1, 1, 1, 1, 1, 1, 1, 1, 1, 1, 1, 1, 1, 1, 1, 1, 1, 1, 1, 1, 1, 1, 1, 1, 1, 1, 1, 1, 1, 1, 1, 1, 1, 1, 1, 1, 1, 1, 1, 1, 1, 1, 1, 1, 1, 1, 1, 1, 1, 1, 1, 1, 1, 1, 1, 1, 1, 1, 1, 1, 1, 1, 1, 1, 1, 1, 1, 1], [1, 1, 1, 1, 1, 1, 1, 1, 1, 1, 1, 1, 1, 1, 1, 1, 1, 1, 1, 1, 1, 1, 1, 1, 1, 1, 1, 1, 1, 1, 1, 1, 1, 1, 1, 1, 1, 1, 1, 1, 1, 1, 1, 1, 1, 1, 1, 1, 1, 1, 1, 1, 1, 1, 1, 1, 1, 1, 1, 1, 1, 1, 1, 1, 1, 1, 1, 1, 1, 1, 1, 1, 1, 1, 1, 1, 1, 1, 1, 1, 1, 1, 1, 1, 1, 1, 1, 1, 1, 1, 1, 1, 1, 1, 1, 1, 1, 1, 1, 1, 1, 1, 1, 1, 1, 1, 1, 1, 1, 1, 1, 1, 1, 1, 1, 1, 1, 1, 1, 1, 1, 1, 1, 1, 1, 1, 1, 1, 1, 1, 1, 1, 1, 1, 1, 1, 1, 1, 1, 1, 1, 1, 1, 1, 1, 1, 1, 1, 1, 1, 1, 1, 1, 1, 1, 1, 1, 1, 1, 1, 1, 1, 1, 1, 1, 1, 1, 1, 1, 1, 1, 1, 1, 1, 1, 1, 1, 1, 1, 1, 1, 1, 1, 1, 1, 1, 1, 1, 1, 1, 1, 1, 1, 1, 1, 1, 1, 1, 1, 1, 1, 1, 1, 1, 1, 1, 1, 1, 1, 1, 1, 1, 1, 1, 1, 1, 1, 1, 1, 1, 1, 1, 1, 1, 1, 1, 1, 1, 1, 1, 1, 1, 1, 1, 1, 1, 1, 1, 1, 1, 1, 1, 1, 1, 1, 1, 1, 1, 1, 1, 1, 1, 1, 1, 1, 1, 1, 1, 1, 1, 1, 1, 1, 1, 1, 1, 1, 1, 1, 1, 1, 1, 1, 1, 1, 1, 1, 1, 1, 1, 1, 1, 1, 1, 1, 1, 1, 1, 1, 1, 1, 1, 1, 1, 1, 1, 1, 1, 1, 1, 1, 1, 1, 1, 1, 1, 1, 1, 1, 1, 1, 1, 1, 1, 1, 1, 1, 1, 1, 1, 1, 1, 1, 1, 1, 1, 1, 1, 1, 1, 1, 1, 1, 1, 1, 1, 1, 1, 1, 1, 1, 1, 1, 1, 1, 1, 1, 1, 1, 1, 1, 1, 1, 1, 1, 1, 1, 1, 1, 1, 1, 1, 1, 1, 1, 1, 1, 1, 1, 1, 1, 1, 1, 1, 1, 1, 1, 1, 1, 1, 1, 1, 1, 1, 1, 1, 1, 1, 1, 1, 1, 1, 1, 1, 1, 1, 1, 1, 1, 1, 1, 1, 1, 1, 1, 1, 1, 1, 1, 1, 1, 1, 1, 1, 1, 1, 1, 1, 1, 1, 1, 1, 1, 1, 1, 1, 1, 1, 1, 1, 1, 1, 1, 1, 1, 1, 1, 1, 1, 1, 1, 1, 1, 1, 1, 1, 1, 1, 1, 1, 1, 1, 1, 1, 1, 1, 1, 1, 1, 1, 1, 1, 1, 1, 1, 1, 1, 1, 1, 1, 1, 1, 1, 1, 1, 1, 1, 1, 1, 1, 1, 1, 1, 1, 1, 1, 1, 1, 1, 1, 1, 1, 1, 1, 1, 1, 1, 1, 1, 1, 1, 1, 1, 1, 1, 1, 1, 1, 1, 1, 1, 1], [1, 1, 1, 1, 1, 1, 1, 1, 1, 1, 1, 1, 1, 1, 1, 1, 1, 1, 1, 1, 1, 1, 1, 1, 1, 1, 1, 1, 1, 1, 1, 1, 1, 1, 1, 1, 1, 1, 1, 1, 1, 1, 1, 1, 1, 1, 1, 1, 1, 1, 1, 1, 1, 1, 1, 1, 1, 1, 1, 1, 1, 1, 1, 1, 1, 1, 1, 1, 1, 1, 1, 1, 1, 1, 1, 1, 1, 1, 1, 1, 1, 1, 1, 1, 1, 1, 1, 1, 1, 1, 1, 1, 1, 1, 1, 1, 1, 1, 1, 1, 1, 1, 1, 1, 1, 1, 1, 1, 1, 1, 1, 1, 1, 1, 1, 1, 1, 1, 1, 1, 1, 1, 1, 1, 1, 1, 1, 1, 1, 1, 1, 1, 1, 1, 1, 1, 1, 1, 1, 1, 1, 1, 1, 1, 1, 1, 1, 1, 1, 1, 1, 1, 1, 1, 1, 1, 1, 1, 1, 1, 1, 1, 1, 1, 1, 1, 1, 1, 1, 1, 1, 1, 1, 1, 1, 1, 1, 1, 1, 1, 1, 1, 1, 1, 1, 1, 1, 1, 1, 1, 1, 1, 1, 1, 1, 1, 1, 1, 1, 1, 1, 1, 1, 1, 1, 1, 1, 1, 1, 1, 1, 1, 1, 1, 1, 1, 1, 1, 1, 1, 1, 1, 1, 1, 1, 1, 1, 1, 1, 1, 1, 1, 1, 1, 1, 1, 1, 1, 1, 1, 1, 1, 1, 1, 1, 1, 1, 1, 1, 1, 1, 1, 1, 1, 1, 1, 1, 1, 1, 1, 1, 1, 1, 1, 1, 1, 1, 1, 1, 1, 1, 1, 1, 1, 1, 1, 1, 1, 1, 1, 1, 1, 1, 1, 1, 1, 1, 1, 1, 1, 1, 1, 1, 1, 1, 1, 1, 1, 1, 1, 1, 1, 1, 1, 1, 1, 1, 1, 1, 1, 1, 1, 1, 1, 1, 1, 1, 1, 1, 1, 1, 1, 1, 1, 1, 1, 1, 1, 1, 1, 1, 1, 1, 1, 1, 1, 1, 1, 1, 1, 1, 1, 1, 1, 1, 1, 1, 1, 1, 1, 1, 1, 1, 1, 1, 1, 1, 1, 1, 1, 1, 1, 1, 1, 1, 1, 1, 1, 1, 1, 1, 1, 1, 1, 1, 1, 1, 1, 1, 1, 1, 1, 1, 1, 1, 1, 1, 1, 1, 1, 1, 1, 1, 1, 1, 1, 1, 1, 1, 1, 1, 1, 1, 1, 1, 1, 1, 1, 1, 1, 1, 1, 1, 1, 1, 1, 1, 1, 1, 1, 1, 1, 1, 1, 1, 1, 1, 1, 1, 1, 1, 1, 1, 1, 1, 1, 1, 1, 1, 1, 1, 1, 1, 1, 1, 1, 1, 1, 1, 1, 1, 1, 1, 1, 1, 1, 1, 1, 1, 1, 1, 1, 1, 1, 1, 1, 1, 1, 1, 1, 1, 1, 1, 1, 1, 1, 1, 1, 1, 1, 1, 1, 1]], 'labels': [[-100, 81, 2, 43, 43, 43, 43, 32, 81, 6, 81, 81, 23, 81, 5, 12, 81, 81, 81, 81, 81, 81, 11, 11, 11, 11, 11, 11, 52, 52, 81, 81, 81, 19, 60, 60, 60, 81, 81, 81, 81, 34, 34, 10, 51, 51, 51, 81, 81, 81, 81, 11, 81, 81, 81, 11, 52, 52, 52, 81, 20, 20, 20, 61, 61, 61, 81, 81, 81, 81, 81, 81, 81, 81, 81, 81, 81, 81, 81, 81, 81, 81, 81, 81, 81, 81, 81, 81, 81, 81, 81, 81, 11, 52, 11, 52, 52, 81, 11, 52, 52, 52, 52, 11, 52, 52, 52, 52, 52, 81, 81, 81, 8, 81, 81, 81, 81, 81, 81, 81, 81, 81, 34, 81, 81, 10, 51, 51, 51, 51, 5, 46, 46, 46, 46, 46, 46, 46, 81, 81, 81, 81, 11, 52, 81, 5, 46, 46, 81, 81, 81, 81, 81, 81, 81, 12, 81, 81, 81, 81, 81, 81, 11, 52, 81, 81, 81, 34, 10, 51, 51, 5, 46, 46, 46, 10, 51, 51, 51, 51, 51, 51, 81, 81, 81, 81, 34, 74, 81, 81, 81, 81, 5, 81, 5, 81, 5, 81, 81, 5, 11, 81, 34, 74, 74, 81, 81, 81, 81, 81, 81, 37, 81, 5, 5, 46, 46, 37, 81, 81, 81, 81, 81, 37, 37, 37, 81, 81, 81, 81, 81, 81, 81, 81, 81, 81, 81, 81, 81, 81, 81, 81, 81, 81, 81, 81, 81, 81, 81, 81, 81, 81, 81, 81, 81, 81, 81, 81, 81, 81, 81, 81, 81, 81, 81, 81, 81, 81, 81, 81, 81, 81, 81, 81, 81, 81, 81, 81, 81, 81, 81, 81, 81, 81, 81, 81, 81, 81, 81, 81, 81, 81, 81, 81, 81, 81, 81, 81, 81, 81, 81, 81, 81, 81, 81, 81, 81, 81, 81, 81, 81, 81, 81, 81, 81, 81, 81, 81, 81, 81, 81, 81, 81, 81, 81, 81, 81, 81, 81, 81, 81, 81, 81, 81, 81, 81, 81, 81, 81, 81, 81, 81, 81, 81, 81, 81, 81, 81, 81, 81, 81, 81, 81, 81, 81, 81, 81, 81, 81, 81, 81, 81, 81, 81, 81, 81, 81, 81, 81, 81, 81, 81, 81, 81, 81, 81, 81, 81, 81, 81, 81, 81, 81, 81, 81, 81, 81, 81, 81, 81, 81, 81, 81, 81, 81, 81, 81, 81, 81, 81, 81, 81, 81, 81, 81, 81, 81, 81, 81, 81, 81, 81, 81, 81, 81, 81, 81, 81, 81, 81, 81, 81, 81, 81, 81, 81, 81, 81, 81, 81, 81, 81, 81, 81, 81, 81, 81, 81, 81, 81, 81, 81, 81, 81, 81, 81, 81, 81, 81, 81, 81, 81, 81, 81, 81, 81, 81, 81, 81, 81, 81, 81, 81, 81, 81, 81, 81, 81, 81, 81, 81, 81, 81, 81, 81, 81, 81, 81, 81, 81, 81, 81, 81, 81, 81, 81, 81, 81, 81, 81, 81, 81, 81, 81, 81, 81, 81, 81, 81, 81, 81, 81, 81, 81, 81, 81, 81, 81, 81, 81, 81, -100], [-100, 81, 2, 32, 81, 16, 57, 57, 57, 57, 81, 6, 81, 9, 50, 50, 50, 81, 37, 77, 81, 81, 81, 81, 35, 81, 81, 81, 81, 81, 16, 57, 57, 81, 81, 81, 6, 81, 81, 23, 9, 50, 50, 81, 81, 81, 34, 74, 74, 81, 34, 34, 34, 34, 34, 81, 81, 81, 81, 81, 81, 81, 11, 81, 20, 20, 20, 61, 81, 20, 61, 61, 61, 81, 81, 11, 20, 61, 81, 81, 11, 52, 20, 20, 20, 61, 81, 81, 81, 81, 81, 81, 81, 81, 81, 81, 34, 74, 74, 74, 81, 34, 74, 74, 81, 81, 81, 11, 52, 81, 81, 81, 81, 81, 81, 81, 81, 38, 81, 81, 81, 81, 81, 38, 81, 81, 81, 81, 81, 81, 81, 81, 34, 34, 81, 34, 74, 74, 81, 81, 37, 77, 81, 37, 77, 77, 81, 81, 81, 81, 81, 81, 81, 81, 81, 81, 81, 81, 12, 53, 81, 81, 81, 34, 34, 74, 81, 81, 81, 11, 52, 52, 81, 81, 81, 11, 81, 20, 61, 5, 81, 5, 46, 81, 81, 81, 9, 50, 50, 50, 81, 81, 81, 81, 81, 81, 34, 74, 81, 81, 34, 34, 74, 81, 81, 81, 11, 81, 81, 34, 74, 81, 34, 74, 81, 81, 81, 11, 52, 81, 81, 81, 20, 61, 61, 61, 61, 81, 81, 34, 34, 34, 34, 34, 81, 20, 20, 20, 61, 61, 61, 81, 81, 81, 81, 81, 20, 20, 20, 61, 61, 61, 81, 81, 81, 81, 11, 52, 81, 81, 81, 20, 20, 20, 61, 61, 61, 81, 81, 81, 81, 81, 81, 81, 81, 81, 81, 81, 81, 81, 81, 81, 11, 52, 81, 20, 81, 81, 81, 81, 81, 81, 11, 81, 81, 81, 81, 81, 81, 81, 81, 81, 81, 81, 81, 81, 81, 81, 81, 81, 81, 81, 81, 81, 81, 81, 81, 81, 81, 81, 12, 53, 81, 81, 81, 11, 52, 52, 81, 81, 34, 74, 81, 81, 81, 20, 61, 61, 81, 10, 51, 51, 51, 51, 51, 81, 81, 81, 81, 11, 52, 52, 52, 81, 5, 46, 46, 46, 81, 81, 81, 81, 81, 81, 81, 20, 81, 81, 81, 81, 11, 81, 81, 81, 81, 81, 81, 81, 81, 81, 81, 81, 5, 5, 5, 46, 81, 81, 81, 81, 34, 74, 74, 81, 81, 34, 34, 34, 34, 74, 74, 74, 74, 74, 74, 74, 74, 81, 81, 81, 81, 81, 81, 81, 81, 81, 81, 81, 81, 81, 81, 81, 81, 81, 11, 52, 52, 52, 81, 34, 74, 81, 81, 81, 81, 81, 27, 81, 9, 50, 81, 12, 53, 81, 81, 81, 81, 11, 81, 81, 81, 81, 81, 81, 81, 81, 81, 11, 52, 81, 81, 81, 11, 11, 81, 81, 81, 81, 81, 81, 81, 81, 81, 81, 81, 81, 81, 81, 81, 34, 74, 81, 81, 5, 46, 81, 81, 81, 81, 81, 81, 81, 34, 81, 81, 81, 81, 81, 81, 81, 81, 34, 81, 34, 81, 81, 81, 34, 81, 81, 81, -100], [-100, 81, 9, 50, 50, 50, 81, 81, 2, 43, 43, 43, 43, 32, 81, 81, 81, 34, 81, 34, 81, 81, 34, 81, 81, 81, 81, 23, 23, 23, 64, 64, 64, 64, 64, 64, 64, 64, 81, 81, 81, 11, 11, 81, 81, 81, 12, 53, 81, 81, 81, 5, 46, 81, 81, 5, 46, 81, 12, 53, 81, 81, 5, 81, 81, 81, 81, 81, 11, 81, 12, 81, 81, 81, 81, 9, 50, 50, 50, 81, 81, 37, 81, 37, 77, 77, 77, 77, 81, 37, 37, 37, 81, 81, 81, 81, 81, 81, 81, 81, 81, 81, 81, 81, 81, 81, 5, 46, 46, 81, 81, 81, 81, 81, 81, 81, 81, 81, 81, 81, 81, 81, 81, 81, 37, 81, 81, 81, 81, 11, 81, 81, 81, 12, 53, 81, 81, 81, 81, 81, 81, 81, 81, 81, 11, 81, 81, 81, 81, 11, 52, 52, 52, 52, 52, 81, 11, 11, 11, 81, 81, 20, 81, 81, 11, 52, 52, 52, 81, 11, 81, 81, 20, 81, 81, 11, 11, 81, 20, 81, 81, 11, 11, 81, 20, 81, 81, 81, 81, 81, 81, 81, 81, 81, 81, 11, 52, 81, 11, 81, 81, 20, 81, 81, 11, 52, 52, 52, 52, 81, 11, 52, 52, 81, 81, 20, 61, 61, 81, 81, 11, 52, 52, 52, 81, 11, 11, 11, 52, 81, 81, 11, 11, 81, 20, 81, 81, 81, 11, 11, 11, 81, 20, 61, 81, 81, 81, 81, 81, 81, 81, 81, 81, 12, 53, 81, 29, 5, 5, 5, 12, 81, 31, 31, 31, 31, 31, 31, 81, 81, 81, 81, 81, 81, 81, 81, 81, 37, 77, 77, 81, 22, 81, 22, 22, 22, 81, 81, 81, 81, 81, 81, 81, 81, 81, 81, 81, 81, 81, 81, 81, 81, 34, 74, 81, 81, 81, 81, 9, 50, 50, 50, 81, 37, 77, 81, 81, 81, 81, 81, 81, 81, 81, 11, 52, 52, 52, 52, 52, 81, 11, 52, 52, 81, 81, 31, 10, 12, 81, 81, 81, 81, 81, 81, 5, 46, 81, 81, 5, 46, 81, 81, 5, 46, 81, 81, 81, 81, 81, 81, 81, 81, 11, 52, 52, 52, 81, 11, 81, 81, 81, 81, 20, 81, 81, 81, 11, 52, 52, 81, 11, 81, 81, 20, 81, 81, 81, 81, 81, 81, 81, 81, 81, 81, 81, 34, 81, 81, 81, 1, 22, 22, 14, 55, 55, 55, 17, 58, 58, 81, 81, 81, 81, 37, 81, 81, 81, 81, 81, 81, 81, 81, 81, 81, 81, 81, 81, 81, 81, 81, 81, 81, 81, 81, 81, 81, 81, 81, 81, 81, 81, 81, 37, 77, 77, 77, 81, 37, 81, 81, 81, 81, 81, 81, 81, 81, 81, 81, 81, 81, 14, 55, 55, 55, 55, 81, 81, 5, 81, 81, 81, 14, 55, 55, 55, 55, 81, 81, 81, 81, 12, 53, 81, 81, 81, 81, 81, 81, 81, 81, 81, 81, 81, 81, 81, 81, 81, 81, 5, 46, 81, 81, 81, 22, 22, 81, 81, 81, 81, 81, 81, -100], [-100, 81, 2, 43, 43, 43, 43, 32, 81, 6, 81, 81, 23, 81, 9, 50, 81, 81, 34, 74, 81, 81, 81, 81, 81, 81, 81, 81, 81, 81, 81, 81, 81, 81, 81, 12, 53, 81, 9, 81, 81, 81, 11, 52, 81, 81, 11, 52, 52, 81, 11, 81, 81, 81, 81, 81, 11, 11, 11, 52, 81, 81, 81, 81, 81, 81, 81, 11, 52, 81, 11, 81, 81, 20, 81, 81, 81, 11, 11, 52, 81, 81, 81, 11, 52, 81, 81, 37, 81, 81, 81, 81, 81, 81, 12, 81, 81, 5, 46, 81, 81, 81, 81, 81, 81, 81, 81, 81, 81, 81, 81, 12, 81, 12, 12, 53, 53, 81, 81, 81, 81, 22, 22, 63, 81, 14, 55, 17, 81, 81, 81, 81, 81, 81, 81, 9, 50, 50, 50, 81, 81, 81, 81, 37, 77, 77, 81, 37, 77, 77, 77, 81, 81, 81, 37, 77, 77, 81, 81, 34, 74, 81, 81, 81, 81, 9, 50, 81, 81, 81, 81, 6, 81, 81, 81, 81, 81, 34, 74, 81, 81, 81, 81, 11, 52, 81, 81, 81, 20, 61, 61, 61, 61, 81, 20, 61, 61, 61, 61, 81, 15, 56, 81, 81, 81, 81, 81, 81, 20, 81, 20, 61, 61, 61, 61, 81, 9, 50, 81, 20, 61, 61, 61, 61, 9, 50, 50, 81, 81, 81, 81, 81, 81, 81, 34, 81, 81, 81, 81, 81, 12, 53, 81, 81, 81, 81, 22, 81, 81, 81, 81, 9, 81, 81, 81, 81, 81, 34, 81, 34, 74, 81, 81, 81, 81, 81, 81, 81, 81, 81, 81, 81, 81, 81, 81, 81, 11, 52, 52, 52, 52, 81, 81, 20, 81, 81, 81, 81, 81, 11, 81, 34, 34, 74, 81, 34, 74, 81, 81, 81, 11, 11, 81, 11, 52, 52, 81, 81, 34, 5, 81, 34, 81, 34, 81, 81, 34, 81, 81, 81, 81, 11, 52, 81, 81, 20, 81, 10, 11, 52, 81, 81, 81, 81, 81, 81, 81, 81, 81, 81, 81, 12, 81, 12, 53, 53, 81, 81, 12, 81, 81, 81, 81, 81, 11, 52, 52, 52, 52, 52, 52, 81, 81, 11, 52, 52, 52, 52, 52, 52, 52, 81, 11, 52, 52, 52, 52, 52, 52, 81, 81, 81, 81, 81, 81, 81, 81, 81, 81, 81, 34, 34, 34, 34, 34, 34, 81, 34, 34, 34, 34, 81, 34, 34, 34, 34, 81, 34, 34, 34, 34, 34, 81, 34, 34, 34, 74, 74, 74, 81, 34, 34, 34, 74, 74, 74, 81, 34, 34, 34, 74, 74, 74, 74, 81, 34, 34, 34, 74, 74, 74, 74, 81, 34, 34, 34, 74, 74, 74, 74, 81, 34, 34, 74, 74, 74, 74, 81, 81, 34, 34, 74, 74, 74, 74, 81, 81, 81, 81, 11, 11, 52, 52, 52, 81, 11, 52, 52, 81, 20, 81, 81, 81, 81, 81, 81, 81, 81, 81, 81, 81, 81, 81, 81, 81, 22, 81, 14, 55, 17, 81, 81, 8, 81, 81, 81, 9, 50, 81, 81, 22, -100], [-100, 81, 81, 81, 81, 2, 43, 43, 43, 43, 32, 81, 81, 81, 81, 81, 12, 12, 53, 81, 81, 81, 81, 81, 81, 81, 81, 81, 81, 81, 81, 12, 81, 12, 12, 12, 12, 81, 81, 81, 81, 81, 34, 81, 81, 12, 81, 81, 81, 81, 81, 81, 81, 81, 12, 81, 81, 81, 81, 11, 11, 52, 81, 11, 11, 52, 52, 52, 81, 81, 81, 81, 81, 81, 81, 81, 81, 81, 81, 81, 81, 81, 22, 81, 81, 15, 56, 56, 12, 53, 10, 81, 81, 81, 81, 81, 81, 12, 12, 53, 81, 12, 81, 34, 81, 81, 15, 56, 81, 81, 81, 81, 81, 12, 12, 12, 12, 81, 81, 81, 81, 81, 81, 81, 81, 81, 81, 81, 22, 81, 81, 81, 81, 81, 81, 12, 10, 81, 81, 81, 81, 81, 22, 1, 81, 81, 81, 81, 81, 81, 81, 22, 63, 81, 81, 81, 81, 81, 81, 81, 81, 81, 81, 81, 22, 81, 81, 81, 14, 55, 55, 55, 81, 81, 81, 81, 81, 81, 81, 14, 55, 55, 55, 55, 81, 81, 81, 81, 81, 81, 81, 81, 81, 81, 81, 81, 81, 9, 50, 50, 50, 50, 50, 50, 12, 31, 81, 81, 81, 81, 81, 81, 22, 81, 10, 81, 81, 81, 22, 22, 81, 14, 55, 55, 55, 55, 55, 55, 55, 81, 81, 81, 81, 81, 81, 81, 81, 22, 81, 14, 55, 55, 55, 55, 55, 55, 81, 81, 20, 81, 81, 81, 81, 81, 12, 53, 81, 10, 81, 81, 81, 22, 22, 22, 63, 81, 14, 55, 55, 55, 55, 81, 81, 81, 22, 22, 22, 81, 14, 55, 55, 55, 55, 55, 1, 81, 81, 81, 81, 81, 81, 81, 81, 81, 81, 81, 81, 81, 81, 81, 81, 81, 81, 81, 81, 81, 12, 81, 81, 81, 12, 81, 81, 81, 81, 81, 81, 81, 81, 81, 81, 81, 81, 81, 81, 81, 81, 81, 81, 81, 81, 81, 81, 22, 63, 63, 81, 81, 81, 81, 81, 81, 81, 81, 81, 81, 81, 14, 55, 55, 55, 55, 81, 15, 56, 56, 81, 81, 81, 81, 81, 81, 81, 81, 81, 81, 81, 81, 81, 81, 81, 81, 81, 81, 81, 81, 81, 81, 81, 81, 81, 81, 81, 81, 81, 81, 81, 81, 81, 22, 22, 22, 81, 81, 81, 81, 81, 81, 81, 81, 81, 81, 81, 81, 12, 53, 81, 81, 81, 22, 63, 63, 81, 81, 81, 81, 81, 81, 81, 81, 81, 81, 22, 81, 81, 81, 81, 22, 81, 14, 14, 14, 55, 55, 55, 55, 55, 81, 81, 81, 81, 81, 81, 81, 81, 81, 11, 11, 11, 81, 81, 81, 81, 81, 81, 81, 81, 81, 81, 81, 81, 81, 81, 10, 51, 51, 51, 51, 51, 81, 81, 81, 81, 11, 52, 81, 81, 17, 81, 81, 10, 81, -100]]}"
            ]
          },
          "execution_count": 23,
          "metadata": {},
          "output_type": "execute_result"
        }
      ],
      "source": [
        "tokenize_and_align_labels(datasets['train'][:5])"
      ]
    },
    {
      "cell_type": "code",
      "execution_count": null,
      "metadata": {
        "colab": {
          "base_uri": "https://localhost:8080/",
          "height": 17,
          "referenced_widgets": [
            "6fde6f36f663439da881624707853ec0",
            "20933173c5604c199c7178384778ba10",
            "5bad122378404cbb81901f1c94098e47",
            "935aa604b4fc408f8fda7052559236a4",
            "9094e1da5d4443c185d196bae48ee68e",
            "229a27b7ecf44792a09fa13a25a2a1eb",
            "8a8c499756444a5fa91f92b2b9043dfd",
            "4c7194a4b0d042fc9f6f76fd73ba879d",
            "e01072bcc8b74c6f9413fa5aa5d0a100",
            "29a833e7e0b244f487d996137c22e48d",
            "54bbdd6c08f04c05be04543983528fad",
            "44bde774a018484fac35ab05b394bf83",
            "ea9a7d60794b40b2bbb704bc17335ab8",
            "51c7cc858c304d9aa2d40ccc4f8bd3aa",
            "290e2a2ca14a4252874b88c5cabae50c",
            "dfc48087fa344f15a3fe18a6ab869e01",
            "56c0430f090d4203b5f27dd2f309abc0",
            "b0bd70b4815f43c8924e5dc8f968d7d7",
            "9a1ce9c509e842bc88cc643995228d23",
            "e7c62f3532254142962495880f1d4730",
            "84872eb3763945df81bbec216f840606",
            "535f552a307c4f20a368b2366ed7811a"
          ]
        },
        "id": "DDtsaJeVIrJT",
        "outputId": "f0483011-91b2-4f00-a968-8626354c95eb"
      },
      "outputs": [
        {
          "data": {
            "application/vnd.jupyter.widget-view+json": {
              "model_id": "6fde6f36f663439da881624707853ec0",
              "version_major": 2,
              "version_minor": 0
            },
            "text/plain": [
              "Map:   0%|          | 0/360 [00:00<?, ? examples/s]"
            ]
          },
          "metadata": {},
          "output_type": "display_data"
        },
        {
          "data": {
            "application/vnd.jupyter.widget-view+json": {
              "model_id": "44bde774a018484fac35ab05b394bf83",
              "version_major": 2,
              "version_minor": 0
            },
            "text/plain": [
              "Map:   0%|          | 0/40 [00:00<?, ? examples/s]"
            ]
          },
          "metadata": {},
          "output_type": "display_data"
        }
      ],
      "source": [
        "tokenized_datasets = datasets.map(tokenize_and_align_labels, batched=True)"
      ]
    },
    {
      "cell_type": "code",
      "execution_count": null,
      "metadata": {
        "colab": {
          "base_uri": "https://localhost:8080/"
        },
        "id": "TlqNaB8jIrJW",
        "outputId": "f4b69f7c-a562-4e22-84c7-3b68be5ad2d8"
      },
      "outputs": [
        {
          "name": "stderr",
          "output_type": "stream",
          "text": [
            "Some weights of the model checkpoint at /content/RoBERTa-large-PM-M3-Voc/RoBERTa-large-PM-M3-Voc-hf were not used when initializing RobertaForTokenClassification: ['lm_head.layer_norm.bias', 'lm_head.decoder.bias', 'lm_head.dense.bias', 'lm_head.dense.weight', 'lm_head.layer_norm.weight', 'lm_head.bias', 'lm_head.decoder.weight']\n",
            "- This IS expected if you are initializing RobertaForTokenClassification from the checkpoint of a model trained on another task or with another architecture (e.g. initializing a BertForSequenceClassification model from a BertForPreTraining model).\n",
            "- This IS NOT expected if you are initializing RobertaForTokenClassification from the checkpoint of a model that you expect to be exactly identical (initializing a BertForSequenceClassification model from a BertForSequenceClassification model).\n",
            "Some weights of RobertaForTokenClassification were not initialized from the model checkpoint at /content/RoBERTa-large-PM-M3-Voc/RoBERTa-large-PM-M3-Voc-hf and are newly initialized: ['classifier.bias', 'classifier.weight']\n",
            "You should probably TRAIN this model on a down-stream task to be able to use it for predictions and inference.\n"
          ]
        }
      ],
      "source": [
        "from transformers import AutoModelForTokenClassification, TrainingArguments, Trainer\n",
        "\n",
        "model = AutoModelForTokenClassification.from_pretrained(model_checkpoint, num_labels=len(label_list))\n",
        "\n"
      ]
    },
    {
      "cell_type": "code",
      "execution_count": null,
      "metadata": {
        "colab": {
          "base_uri": "https://localhost:8080/"
        },
        "id": "AMYdA8EVJQMr",
        "outputId": "2a30c360-d51e-43b1-bd4e-36df4e7ad1a4"
      },
      "outputs": [
        {
          "data": {
            "text/plain": [
              "(360, 3)"
            ]
          },
          "execution_count": 26,
          "metadata": {},
          "output_type": "execute_result"
        }
      ],
      "source": [
        "datasets['train'].shape"
      ]
    },
    {
      "cell_type": "code",
      "execution_count": null,
      "metadata": {
        "id": "Bliy8zgjIrJY"
      },
      "outputs": [],
      "source": [
        "model_name = model_checkpoint.split(\"/\")[-1]\n",
        "args = TrainingArguments(\n",
        "    f\"{model_name}-finetuned-{task}\",\n",
        "    evaluation_strategy = \"epoch\",\n",
        "    learning_rate=2e-5,\n",
        "    per_device_train_batch_size=batch_size,\n",
        "    per_device_eval_batch_size=batch_size,\n",
        "    num_train_epochs=20,\n",
        "    weight_decay=0.01,\n",
        "    lr_scheduler_type='cosine',\n",
        "\n",
        ")"
      ]
    },
    {
      "cell_type": "code",
      "execution_count": null,
      "metadata": {
        "id": "RiodyTIjzHfx"
      },
      "outputs": [],
      "source": [
        "from transformers import DataCollatorForTokenClassification\n",
        "\n",
        "data_collator = DataCollatorForTokenClassification(tokenizer)"
      ]
    },
    {
      "cell_type": "code",
      "execution_count": null,
      "metadata": {
        "colab": {
          "base_uri": "https://localhost:8080/"
        },
        "id": "SIvRVMm9zHfx",
        "outputId": "b3fda988-b4c4-4a78-f3a9-36a1b31d09d3"
      },
      "outputs": [
        {
          "name": "stderr",
          "output_type": "stream",
          "text": [
            "<ipython-input-29-e20ba34f8cc7>:1: FutureWarning: load_metric is deprecated and will be removed in the next major version of datasets. Use 'evaluate.load' instead, from the new library 🤗 Evaluate: https://huggingface.co/docs/evaluate\n",
            "  metric = load_metric(\"seqeval\")\n"
          ]
        }
      ],
      "source": [
        "metric = load_metric(\"seqeval\")"
      ]
    },
    {
      "cell_type": "code",
      "execution_count": null,
      "metadata": {
        "colab": {
          "base_uri": "https://localhost:8080/"
        },
        "id": "5uVgrHBJzHfy",
        "outputId": "ed4a6194-6e64-45b5-d1de-1ad3ff4d8588"
      },
      "outputs": [
        {
          "data": {
            "text/plain": [
              "{'Administration': {'precision': 1.0, 'recall': 1.0, 'f1': 1.0, 'number': 2},\n",
              " 'Age': {'precision': 1.0, 'recall': 1.0, 'f1': 1.0, 'number': 1},\n",
              " 'Date': {'precision': 1.0, 'recall': 1.0, 'f1': 1.0, 'number': 1},\n",
              " 'Detailed_description': {'precision': 1.0,\n",
              "  'recall': 1.0,\n",
              "  'f1': 1.0,\n",
              "  'number': 6},\n",
              " 'Diagnostic_procedure': {'precision': 1.0,\n",
              "  'recall': 1.0,\n",
              "  'f1': 1.0,\n",
              "  'number': 4},\n",
              " 'Disease_disorder': {'precision': 1.0,\n",
              "  'recall': 1.0,\n",
              "  'f1': 1.0,\n",
              "  'number': 15},\n",
              " 'Dosage': {'precision': 1.0, 'recall': 1.0, 'f1': 1.0, 'number': 8},\n",
              " 'Duration': {'precision': 1.0, 'recall': 1.0, 'f1': 1.0, 'number': 3},\n",
              " 'Frequency': {'precision': 1.0, 'recall': 1.0, 'f1': 1.0, 'number': 1},\n",
              " 'Lab_value': {'precision': 1.0, 'recall': 1.0, 'f1': 1.0, 'number': 1},\n",
              " 'Medication': {'precision': 1.0, 'recall': 1.0, 'f1': 1.0, 'number': 15},\n",
              " 'Severity': {'precision': 1.0, 'recall': 1.0, 'f1': 1.0, 'number': 1},\n",
              " 'Sex': {'precision': 1.0, 'recall': 1.0, 'f1': 1.0, 'number': 1},\n",
              " 'Sign_symptom': {'precision': 1.0, 'recall': 1.0, 'f1': 1.0, 'number': 2},\n",
              " 'overall_precision': 1.0,\n",
              " 'overall_recall': 1.0,\n",
              " 'overall_f1': 1.0,\n",
              " 'overall_accuracy': 1.0}"
            ]
          },
          "execution_count": 30,
          "metadata": {},
          "output_type": "execute_result"
        }
      ],
      "source": [
        "labels = [label_list[i] for i in example[f\"numeric_tags\"]]\n",
        "metric.compute(predictions=[labels], references=[labels])"
      ]
    },
    {
      "cell_type": "code",
      "execution_count": null,
      "metadata": {
        "id": "UmvbnJ9JIrJd"
      },
      "outputs": [],
      "source": [
        "import numpy as np\n",
        "\n",
        "def compute_metrics(p):\n",
        "    predictions, labels = p\n",
        "    predictions = np.argmax(predictions, axis=2)\n",
        "\n",
        "    # Remove ignored index (special tokens)\n",
        "    true_predictions = [\n",
        "        [label_list[p] for (p, l) in zip(prediction, label) if l != -100]\n",
        "        for prediction, label in zip(predictions, labels)\n",
        "    ]\n",
        "    true_labels = [\n",
        "        [label_list[l] for (p, l) in zip(prediction, label) if l != -100]\n",
        "        for prediction, label in zip(predictions, labels)\n",
        "    ]\n",
        "\n",
        "    results = metric.compute(predictions=true_predictions, references=true_labels)\n",
        "    return {\n",
        "        \"precision\": results[\"overall_precision\"],\n",
        "        \"recall\": results[\"overall_recall\"],\n",
        "        \"f1\": results[\"overall_f1\"],\n",
        "        \"accuracy\": results[\"overall_accuracy\"],\n",
        "    }"
      ]
    },
    {
      "cell_type": "code",
      "execution_count": null,
      "metadata": {
        "colab": {
          "base_uri": "https://localhost:8080/"
        },
        "id": "imY1oC3SIrJf",
        "outputId": "7c8eb1ef-4970-4d80-a34e-86812843ef14"
      },
      "outputs": [
        {
          "name": "stderr",
          "output_type": "stream",
          "text": [
            "Cloning https://huggingface.co/ktgiahieu/RoBERTa-large-PM-M3-Voc-hf-finetuned-ner into local empty directory.\n",
            "WARNING:huggingface_hub.repository:Cloning https://huggingface.co/ktgiahieu/RoBERTa-large-PM-M3-Voc-hf-finetuned-ner into local empty directory.\n"
          ]
        }
      ],
      "source": [
        "trainer = Trainer(\n",
        "    model,\n",
        "    args,\n",
        "    train_dataset=tokenized_datasets[\"train\"],\n",
        "    eval_dataset=tokenized_datasets[\"test\"],\n",
        "    data_collator=data_collator,\n",
        "    tokenizer=tokenizer,\n",
        "    compute_metrics=compute_metrics\n",
        ")"
      ]
    },
    {
      "cell_type": "code",
      "execution_count": null,
      "metadata": {
        "colab": {
          "base_uri": "https://localhost:8080/",
          "height": 900
        },
        "id": "3KeYwDbxrXAm",
        "outputId": "afa11afc-c609-45f5-e2ec-6acc2fd6901d"
      },
      "outputs": [
        {
          "name": "stderr",
          "output_type": "stream",
          "text": [
            "/usr/local/lib/python3.9/dist-packages/transformers/optimization.py:391: FutureWarning: This implementation of AdamW is deprecated and will be removed in a future version. Use the PyTorch implementation torch.optim.AdamW instead, or set `no_deprecation_warning=True` to disable this warning\n",
            "  warnings.warn(\n",
            "You're using a RobertaTokenizerFast tokenizer. Please note that with a fast tokenizer, using the `__call__` method is faster than using a method to encode the text followed by a call to the `pad` method to get a padded encoding.\n"
          ]
        },
        {
          "data": {
            "text/html": [
              "\n",
              "    <div>\n",
              "      \n",
              "      <progress value='460' max='460' style='width:300px; height:20px; vertical-align: middle;'></progress>\n",
              "      [460/460 08:56, Epoch 20/20]\n",
              "    </div>\n",
              "    <table border=\"1\" class=\"dataframe\">\n",
              "  <thead>\n",
              " <tr style=\"text-align: left;\">\n",
              "      <th>Epoch</th>\n",
              "      <th>Training Loss</th>\n",
              "      <th>Validation Loss</th>\n",
              "      <th>Precision</th>\n",
              "      <th>Recall</th>\n",
              "      <th>F1</th>\n",
              "      <th>Accuracy</th>\n",
              "    </tr>\n",
              "  </thead>\n",
              "  <tbody>\n",
              "    <tr>\n",
              "      <td>1</td>\n",
              "      <td>No log</td>\n",
              "      <td>1.276480</td>\n",
              "      <td>1.000000</td>\n",
              "      <td>0.002057</td>\n",
              "      <td>0.004105</td>\n",
              "      <td>0.709037</td>\n",
              "    </tr>\n",
              "    <tr>\n",
              "      <td>2</td>\n",
              "      <td>No log</td>\n",
              "      <td>0.823640</td>\n",
              "      <td>0.454307</td>\n",
              "      <td>0.356188</td>\n",
              "      <td>0.399308</td>\n",
              "      <td>0.775029</td>\n",
              "    </tr>\n",
              "    <tr>\n",
              "      <td>3</td>\n",
              "      <td>No log</td>\n",
              "      <td>0.619954</td>\n",
              "      <td>0.509612</td>\n",
              "      <td>0.536167</td>\n",
              "      <td>0.522553</td>\n",
              "      <td>0.804592</td>\n",
              "    </tr>\n",
              "    <tr>\n",
              "      <td>4</td>\n",
              "      <td>No log</td>\n",
              "      <td>0.574816</td>\n",
              "      <td>0.519608</td>\n",
              "      <td>0.635927</td>\n",
              "      <td>0.571913</td>\n",
              "      <td>0.812821</td>\n",
              "    </tr>\n",
              "    <tr>\n",
              "      <td>5</td>\n",
              "      <td>No log</td>\n",
              "      <td>0.568968</td>\n",
              "      <td>0.504833</td>\n",
              "      <td>0.698320</td>\n",
              "      <td>0.586018</td>\n",
              "      <td>0.815075</td>\n",
              "    </tr>\n",
              "    <tr>\n",
              "      <td>6</td>\n",
              "      <td>No log</td>\n",
              "      <td>0.461697</td>\n",
              "      <td>0.585149</td>\n",
              "      <td>0.699691</td>\n",
              "      <td>0.637315</td>\n",
              "      <td>0.855698</td>\n",
              "    </tr>\n",
              "    <tr>\n",
              "      <td>7</td>\n",
              "      <td>No log</td>\n",
              "      <td>0.455794</td>\n",
              "      <td>0.585240</td>\n",
              "      <td>0.736716</td>\n",
              "      <td>0.652299</td>\n",
              "      <td>0.858528</td>\n",
              "    </tr>\n",
              "    <tr>\n",
              "      <td>8</td>\n",
              "      <td>No log</td>\n",
              "      <td>0.399510</td>\n",
              "      <td>0.624077</td>\n",
              "      <td>0.753514</td>\n",
              "      <td>0.682715</td>\n",
              "      <td>0.883216</td>\n",
              "    </tr>\n",
              "    <tr>\n",
              "      <td>9</td>\n",
              "      <td>No log</td>\n",
              "      <td>0.367894</td>\n",
              "      <td>0.644614</td>\n",
              "      <td>0.754885</td>\n",
              "      <td>0.695405</td>\n",
              "      <td>0.892599</td>\n",
              "    </tr>\n",
              "    <tr>\n",
              "      <td>10</td>\n",
              "      <td>No log</td>\n",
              "      <td>0.333234</td>\n",
              "      <td>0.686681</td>\n",
              "      <td>0.772369</td>\n",
              "      <td>0.727009</td>\n",
              "      <td>0.905913</td>\n",
              "    </tr>\n",
              "    <tr>\n",
              "      <td>11</td>\n",
              "      <td>No log</td>\n",
              "      <td>0.334599</td>\n",
              "      <td>0.680543</td>\n",
              "      <td>0.790195</td>\n",
              "      <td>0.731282</td>\n",
              "      <td>0.906804</td>\n",
              "    </tr>\n",
              "    <tr>\n",
              "      <td>12</td>\n",
              "      <td>No log</td>\n",
              "      <td>0.330314</td>\n",
              "      <td>0.689991</td>\n",
              "      <td>0.801166</td>\n",
              "      <td>0.741434</td>\n",
              "      <td>0.910001</td>\n",
              "    </tr>\n",
              "    <tr>\n",
              "      <td>13</td>\n",
              "      <td>No log</td>\n",
              "      <td>0.310409</td>\n",
              "      <td>0.704149</td>\n",
              "      <td>0.802880</td>\n",
              "      <td>0.750280</td>\n",
              "      <td>0.917077</td>\n",
              "    </tr>\n",
              "    <tr>\n",
              "      <td>14</td>\n",
              "      <td>No log</td>\n",
              "      <td>0.319393</td>\n",
              "      <td>0.703671</td>\n",
              "      <td>0.814878</td>\n",
              "      <td>0.755203</td>\n",
              "      <td>0.915767</td>\n",
              "    </tr>\n",
              "    <tr>\n",
              "      <td>15</td>\n",
              "      <td>No log</td>\n",
              "      <td>0.297828</td>\n",
              "      <td>0.734201</td>\n",
              "      <td>0.812479</td>\n",
              "      <td>0.771359</td>\n",
              "      <td>0.925464</td>\n",
              "    </tr>\n",
              "    <tr>\n",
              "      <td>16</td>\n",
              "      <td>No log</td>\n",
              "      <td>0.299250</td>\n",
              "      <td>0.734681</td>\n",
              "      <td>0.822077</td>\n",
              "      <td>0.775926</td>\n",
              "      <td>0.926565</td>\n",
              "    </tr>\n",
              "    <tr>\n",
              "      <td>17</td>\n",
              "      <td>No log</td>\n",
              "      <td>0.300874</td>\n",
              "      <td>0.734594</td>\n",
              "      <td>0.825506</td>\n",
              "      <td>0.777401</td>\n",
              "      <td>0.925831</td>\n",
              "    </tr>\n",
              "    <tr>\n",
              "      <td>18</td>\n",
              "      <td>No log</td>\n",
              "      <td>0.300558</td>\n",
              "      <td>0.734146</td>\n",
              "      <td>0.825506</td>\n",
              "      <td>0.777150</td>\n",
              "      <td>0.925883</td>\n",
              "    </tr>\n",
              "    <tr>\n",
              "      <td>19</td>\n",
              "      <td>No log</td>\n",
              "      <td>0.298835</td>\n",
              "      <td>0.737920</td>\n",
              "      <td>0.827220</td>\n",
              "      <td>0.780023</td>\n",
              "      <td>0.926722</td>\n",
              "    </tr>\n",
              "    <tr>\n",
              "      <td>20</td>\n",
              "      <td>No log</td>\n",
              "      <td>0.299666</td>\n",
              "      <td>0.737035</td>\n",
              "      <td>0.828248</td>\n",
              "      <td>0.779984</td>\n",
              "      <td>0.926565</td>\n",
              "    </tr>\n",
              "  </tbody>\n",
              "</table><p>"
            ],
            "text/plain": [
              "<IPython.core.display.HTML object>"
            ]
          },
          "metadata": {},
          "output_type": "display_data"
        },
        {
          "name": "stderr",
          "output_type": "stream",
          "text": [
            "/usr/local/lib/python3.9/dist-packages/seqeval/metrics/v1.py:57: UndefinedMetricWarning: Precision and F-score are ill-defined and being set to 0.0 in labels with no predicted samples. Use `zero_division` parameter to control this behavior.\n",
            "  _warn_prf(average, modifier, msg_start, len(result))\n",
            "/usr/local/lib/python3.9/dist-packages/seqeval/metrics/v1.py:57: UndefinedMetricWarning: Recall and F-score are ill-defined and being set to 0.0 in labels with no true samples. Use `zero_division` parameter to control this behavior.\n",
            "  _warn_prf(average, modifier, msg_start, len(result))\n"
          ]
        },
        {
          "data": {
            "text/plain": [
              "TrainOutput(global_step=460, training_loss=0.4281462627908458, metrics={'train_runtime': 538.3623, 'train_samples_per_second': 13.374, 'train_steps_per_second': 0.854, 'total_flos': 6688504052121600.0, 'train_loss': 0.4281462627908458, 'epoch': 20.0})"
            ]
          },
          "execution_count": 33,
          "metadata": {},
          "output_type": "execute_result"
        }
      ],
      "source": [
        "trainer.train()"
      ]
    },
    {
      "cell_type": "markdown",
      "metadata": {
        "id": "CKASz-2vIrJi"
      },
      "source": [
        "The `evaluate` method allows you to evaluate again on the evaluation dataset or on another dataset:"
      ]
    },
    {
      "cell_type": "code",
      "execution_count": null,
      "metadata": {
        "colab": {
          "base_uri": "https://localhost:8080/",
          "height": 197
        },
        "id": "UOUcBkX8IrJi",
        "outputId": "130ef6e2-2547-4196-c1ce-292ef0fd85a9"
      },
      "outputs": [
        {
          "data": {
            "text/html": [
              "\n",
              "    <div>\n",
              "      \n",
              "      <progress value='3' max='3' style='width:300px; height:20px; vertical-align: middle;'></progress>\n",
              "      [3/3 00:00]\n",
              "    </div>\n",
              "    "
            ],
            "text/plain": [
              "<IPython.core.display.HTML object>"
            ]
          },
          "metadata": {},
          "output_type": "display_data"
        },
        {
          "data": {
            "text/plain": [
              "{'eval_loss': 0.299665629863739,\n",
              " 'eval_precision': 0.7370347773032336,\n",
              " 'eval_recall': 0.8282482002056908,\n",
              " 'eval_f1': 0.7799838579499596,\n",
              " 'eval_accuracy': 0.9265646294160813,\n",
              " 'eval_runtime': 1.356,\n",
              " 'eval_samples_per_second': 29.5,\n",
              " 'eval_steps_per_second': 2.212,\n",
              " 'epoch': 20.0}"
            ]
          },
          "execution_count": 34,
          "metadata": {},
          "output_type": "execute_result"
        }
      ],
      "source": [
        "trainer.evaluate()"
      ]
    },
    {
      "cell_type": "code",
      "execution_count": null,
      "metadata": {
        "colab": {
          "base_uri": "https://localhost:8080/",
          "height": 1000
        },
        "id": "yoV0xKktzHfy",
        "outputId": "af17fff5-6881-4db4-b8e3-774b6ddd20d5"
      },
      "outputs": [
        {
          "data": {
            "text/html": [],
            "text/plain": [
              "<IPython.core.display.HTML object>"
            ]
          },
          "metadata": {},
          "output_type": "display_data"
        },
        {
          "data": {
            "text/plain": [
              "{'Activity': {'precision': 0.0, 'recall': 0.0, 'f1': 0.0, 'number': 5},\n",
              " 'Administration': {'precision': 1.0,\n",
              "  'recall': 0.4444444444444444,\n",
              "  'f1': 0.6153846153846153,\n",
              "  'number': 9},\n",
              " 'Age': {'precision': 0.9285714285714286,\n",
              "  'recall': 0.9069767441860465,\n",
              "  'f1': 0.9176470588235294,\n",
              "  'number': 43},\n",
              " 'Area': {'precision': 0.625,\n",
              "  'recall': 0.8333333333333334,\n",
              "  'f1': 0.7142857142857143,\n",
              "  'number': 12},\n",
              " 'Biological_structure': {'precision': 0.6328671328671329,\n",
              "  'recall': 0.7973568281938326,\n",
              "  'f1': 0.7056530214424951,\n",
              "  'number': 227},\n",
              " 'Clinical_event': {'precision': 0.5294117647058824,\n",
              "  'recall': 0.9,\n",
              "  'f1': 0.6666666666666667,\n",
              "  'number': 50},\n",
              " 'Color': {'precision': 0.0, 'recall': 0.0, 'f1': 0.0, 'number': 1},\n",
              " 'Coreference': {'precision': 0.38095238095238093,\n",
              "  'recall': 0.21052631578947367,\n",
              "  'f1': 0.2711864406779661,\n",
              "  'number': 38},\n",
              " 'Date': {'precision': 0.6179775280898876,\n",
              "  'recall': 0.873015873015873,\n",
              "  'f1': 0.7236842105263157,\n",
              "  'number': 63},\n",
              " 'Detailed_description': {'precision': 0.5068493150684932,\n",
              "  'recall': 0.5606060606060606,\n",
              "  'f1': 0.5323741007194245,\n",
              "  'number': 132},\n",
              " 'Diagnostic_procedure': {'precision': 0.8352788586251622,\n",
              "  'recall': 0.8969359331476323,\n",
              "  'f1': 0.865010073875084,\n",
              "  'number': 718},\n",
              " 'Disease_disorder': {'precision': 0.7609756097560976,\n",
              "  'recall': 0.7289719626168224,\n",
              "  'f1': 0.7446300715990453,\n",
              "  'number': 214},\n",
              " 'Distance': {'precision': 0.4642857142857143,\n",
              "  'recall': 0.6190476190476191,\n",
              "  'f1': 0.5306122448979592,\n",
              "  'number': 21},\n",
              " 'Dosage': {'precision': 0.6585365853658537,\n",
              "  'recall': 0.9310344827586207,\n",
              "  'f1': 0.7714285714285715,\n",
              "  'number': 29},\n",
              " 'Duration': {'precision': 0.5909090909090909,\n",
              "  'recall': 0.65,\n",
              "  'f1': 0.6190476190476191,\n",
              "  'number': 40},\n",
              " 'Family_history': {'precision': 0.5,\n",
              "  'recall': 1.0,\n",
              "  'f1': 0.6666666666666666,\n",
              "  'number': 4},\n",
              " 'Frequency': {'precision': 0.6,\n",
              "  'recall': 0.375,\n",
              "  'f1': 0.4615384615384615,\n",
              "  'number': 8},\n",
              " 'History': {'precision': 0.5081967213114754,\n",
              "  'recall': 0.7045454545454546,\n",
              "  'f1': 0.5904761904761906,\n",
              "  'number': 44},\n",
              " 'Lab_value': {'precision': 0.8839050131926122,\n",
              "  'recall': 0.8746736292428199,\n",
              "  'f1': 0.8792650918635172,\n",
              "  'number': 383},\n",
              " 'Medication': {'precision': 0.8089887640449438,\n",
              "  'recall': 0.9473684210526315,\n",
              "  'f1': 0.8727272727272727,\n",
              "  'number': 152},\n",
              " 'Nonbiological_location': {'precision': 0.66,\n",
              "  'recall': 0.9166666666666666,\n",
              "  'f1': 0.7674418604651163,\n",
              "  'number': 36},\n",
              " 'Occupation': {'precision': 0.0, 'recall': 0.0, 'f1': 0.0, 'number': 1},\n",
              " 'Other_event': {'precision': 0.0, 'recall': 0.0, 'f1': 0.0, 'number': 1},\n",
              " 'Outcome': {'precision': 1.0,\n",
              "  'recall': 0.8,\n",
              "  'f1': 0.888888888888889,\n",
              "  'number': 5},\n",
              " 'Personal_background': {'precision': 1.0,\n",
              "  'recall': 1.0,\n",
              "  'f1': 1.0,\n",
              "  'number': 5},\n",
              " 'Quantitative_concept': {'precision': 0.0,\n",
              "  'recall': 0.0,\n",
              "  'f1': 0.0,\n",
              "  'number': 5},\n",
              " 'Severity': {'precision': 0.0, 'recall': 0.0, 'f1': 0.0, 'number': 3},\n",
              " 'Sex': {'precision': 1.0, 'recall': 1.0, 'f1': 1.0, 'number': 41},\n",
              " 'Shape': {'precision': 0.0, 'recall': 0.0, 'f1': 0.0, 'number': 1},\n",
              " 'Sign_symptom': {'precision': 0.7338003502626971,\n",
              "  'recall': 0.8839662447257384,\n",
              "  'f1': 0.8019138755980861,\n",
              "  'number': 474},\n",
              " 'Texture': {'precision': 0.0, 'recall': 0.0, 'f1': 0.0, 'number': 6},\n",
              " 'Therapeutic_procedure': {'precision': 0.601063829787234,\n",
              "  'recall': 0.8129496402877698,\n",
              "  'f1': 0.691131498470948,\n",
              "  'number': 139},\n",
              " 'Time': {'precision': 0.0, 'recall': 0.0, 'f1': 0.0, 'number': 1},\n",
              " 'Volume': {'precision': 0.2857142857142857,\n",
              "  'recall': 0.3333333333333333,\n",
              "  'f1': 0.30769230769230765,\n",
              "  'number': 6},\n",
              " 'overall_precision': 0.7370347773032336,\n",
              " 'overall_recall': 0.8282482002056908,\n",
              " 'overall_f1': 0.7799838579499596,\n",
              " 'overall_accuracy': 0.9265646294160813}"
            ]
          },
          "execution_count": 35,
          "metadata": {},
          "output_type": "execute_result"
        }
      ],
      "source": [
        "predictions, labels, _ = trainer.predict(tokenized_datasets[\"test\"])\n",
        "predictions = np.argmax(predictions, axis=2)\n",
        "\n",
        "# Remove ignored index (special tokens)\n",
        "true_predictions = [\n",
        "    [label_list[p] for (p, l) in zip(prediction, label) if l != -100]\n",
        "    for prediction, label in zip(predictions, labels)\n",
        "]\n",
        "true_labels = [\n",
        "    [label_list[l] for (p, l) in zip(prediction, label) if l != -100]\n",
        "    for prediction, label in zip(predictions, labels)\n",
        "]\n",
        "\n",
        "results = metric.compute(predictions=true_predictions, references=true_labels)\n",
        "results"
      ]
    },
    {
      "cell_type": "code",
      "execution_count": null,
      "metadata": {
        "colab": {
          "base_uri": "https://localhost:8080/"
        },
        "id": "C8RvZu-q2QBh",
        "outputId": "cc49f823-9dc5-4f30-d36f-a6984fe382a5"
      },
      "outputs": [
        {
          "output_type": "stream",
          "name": "stdout",
          "text": [
            "Requirement already satisfied: transformers in /usr/local/lib/python3.10/dist-packages (4.40.2)\n",
            "Requirement already satisfied: filelock in /usr/local/lib/python3.10/dist-packages (from transformers) (3.14.0)\n",
            "Requirement already satisfied: huggingface-hub<1.0,>=0.19.3 in /usr/local/lib/python3.10/dist-packages (from transformers) (0.20.3)\n",
            "Requirement already satisfied: numpy>=1.17 in /usr/local/lib/python3.10/dist-packages (from transformers) (1.25.2)\n",
            "Requirement already satisfied: packaging>=20.0 in /usr/local/lib/python3.10/dist-packages (from transformers) (24.0)\n",
            "Requirement already satisfied: pyyaml>=5.1 in /usr/local/lib/python3.10/dist-packages (from transformers) (6.0.1)\n",
            "Requirement already satisfied: regex!=2019.12.17 in /usr/local/lib/python3.10/dist-packages (from transformers) (2023.12.25)\n",
            "Requirement already satisfied: requests in /usr/local/lib/python3.10/dist-packages (from transformers) (2.31.0)\n",
            "Requirement already satisfied: tokenizers<0.20,>=0.19 in /usr/local/lib/python3.10/dist-packages (from transformers) (0.19.1)\n",
            "Requirement already satisfied: safetensors>=0.4.1 in /usr/local/lib/python3.10/dist-packages (from transformers) (0.4.3)\n",
            "Requirement already satisfied: tqdm>=4.27 in /usr/local/lib/python3.10/dist-packages (from transformers) (4.66.4)\n",
            "Requirement already satisfied: fsspec>=2023.5.0 in /usr/local/lib/python3.10/dist-packages (from huggingface-hub<1.0,>=0.19.3->transformers) (2023.6.0)\n",
            "Requirement already satisfied: typing-extensions>=3.7.4.3 in /usr/local/lib/python3.10/dist-packages (from huggingface-hub<1.0,>=0.19.3->transformers) (4.11.0)\n",
            "Requirement already satisfied: charset-normalizer<4,>=2 in /usr/local/lib/python3.10/dist-packages (from requests->transformers) (3.3.2)\n",
            "Requirement already satisfied: idna<4,>=2.5 in /usr/local/lib/python3.10/dist-packages (from requests->transformers) (3.7)\n",
            "Requirement already satisfied: urllib3<3,>=1.21.1 in /usr/local/lib/python3.10/dist-packages (from requests->transformers) (2.0.7)\n",
            "Requirement already satisfied: certifi>=2017.4.17 in /usr/local/lib/python3.10/dist-packages (from requests->transformers) (2024.2.2)\n"
          ]
        }
      ],
      "source": [
        "!pip install transformers\n"
      ]
    },
    {
      "cell_type": "code",
      "execution_count": null,
      "metadata": {
        "id": "PKupgFLRGFQl"
      },
      "outputs": [],
      "source": [
        "import transformers"
      ]
    },
    {
      "cell_type": "code",
      "execution_count": null,
      "metadata": {
        "colab": {
          "base_uri": "https://localhost:8080/"
        },
        "id": "fMHRVt9L1jcj",
        "outputId": "cfab4ca3-473d-4060-956f-97c2479f2b2e"
      },
      "outputs": [
        {
          "output_type": "stream",
          "name": "stdout",
          "text": [
            "Requirement already satisfied: tensorflow==2.15 in /usr/local/lib/python3.10/dist-packages (2.15.0)\n",
            "Requirement already satisfied: absl-py>=1.0.0 in /usr/local/lib/python3.10/dist-packages (from tensorflow==2.15) (1.4.0)\n",
            "Requirement already satisfied: astunparse>=1.6.0 in /usr/local/lib/python3.10/dist-packages (from tensorflow==2.15) (1.6.3)\n",
            "Requirement already satisfied: flatbuffers>=23.5.26 in /usr/local/lib/python3.10/dist-packages (from tensorflow==2.15) (24.3.25)\n",
            "Requirement already satisfied: gast!=0.5.0,!=0.5.1,!=0.5.2,>=0.2.1 in /usr/local/lib/python3.10/dist-packages (from tensorflow==2.15) (0.5.4)\n",
            "Requirement already satisfied: google-pasta>=0.1.1 in /usr/local/lib/python3.10/dist-packages (from tensorflow==2.15) (0.2.0)\n",
            "Requirement already satisfied: h5py>=2.9.0 in /usr/local/lib/python3.10/dist-packages (from tensorflow==2.15) (3.9.0)\n",
            "Requirement already satisfied: libclang>=13.0.0 in /usr/local/lib/python3.10/dist-packages (from tensorflow==2.15) (18.1.1)\n",
            "Requirement already satisfied: ml-dtypes~=0.2.0 in /usr/local/lib/python3.10/dist-packages (from tensorflow==2.15) (0.2.0)\n",
            "Requirement already satisfied: numpy<2.0.0,>=1.23.5 in /usr/local/lib/python3.10/dist-packages (from tensorflow==2.15) (1.25.2)\n",
            "Requirement already satisfied: opt-einsum>=2.3.2 in /usr/local/lib/python3.10/dist-packages (from tensorflow==2.15) (3.3.0)\n",
            "Requirement already satisfied: packaging in /usr/local/lib/python3.10/dist-packages (from tensorflow==2.15) (24.0)\n",
            "Requirement already satisfied: protobuf!=4.21.0,!=4.21.1,!=4.21.2,!=4.21.3,!=4.21.4,!=4.21.5,<5.0.0dev,>=3.20.3 in /usr/local/lib/python3.10/dist-packages (from tensorflow==2.15) (3.20.3)\n",
            "Requirement already satisfied: setuptools in /usr/local/lib/python3.10/dist-packages (from tensorflow==2.15) (67.7.2)\n",
            "Requirement already satisfied: six>=1.12.0 in /usr/local/lib/python3.10/dist-packages (from tensorflow==2.15) (1.16.0)\n",
            "Requirement already satisfied: termcolor>=1.1.0 in /usr/local/lib/python3.10/dist-packages (from tensorflow==2.15) (2.4.0)\n",
            "Requirement already satisfied: typing-extensions>=3.6.6 in /usr/local/lib/python3.10/dist-packages (from tensorflow==2.15) (4.11.0)\n",
            "Requirement already satisfied: wrapt<1.15,>=1.11.0 in /usr/local/lib/python3.10/dist-packages (from tensorflow==2.15) (1.14.1)\n",
            "Requirement already satisfied: tensorflow-io-gcs-filesystem>=0.23.1 in /usr/local/lib/python3.10/dist-packages (from tensorflow==2.15) (0.37.0)\n",
            "Requirement already satisfied: grpcio<2.0,>=1.24.3 in /usr/local/lib/python3.10/dist-packages (from tensorflow==2.15) (1.63.0)\n",
            "Requirement already satisfied: tensorboard<2.16,>=2.15 in /usr/local/lib/python3.10/dist-packages (from tensorflow==2.15) (2.15.2)\n",
            "Requirement already satisfied: tensorflow-estimator<2.16,>=2.15.0 in /usr/local/lib/python3.10/dist-packages (from tensorflow==2.15) (2.15.0)\n",
            "Requirement already satisfied: keras<2.16,>=2.15.0 in /usr/local/lib/python3.10/dist-packages (from tensorflow==2.15) (2.15.0)\n",
            "Requirement already satisfied: wheel<1.0,>=0.23.0 in /usr/local/lib/python3.10/dist-packages (from astunparse>=1.6.0->tensorflow==2.15) (0.43.0)\n",
            "Requirement already satisfied: google-auth<3,>=1.6.3 in /usr/local/lib/python3.10/dist-packages (from tensorboard<2.16,>=2.15->tensorflow==2.15) (2.27.0)\n",
            "Requirement already satisfied: google-auth-oauthlib<2,>=0.5 in /usr/local/lib/python3.10/dist-packages (from tensorboard<2.16,>=2.15->tensorflow==2.15) (1.2.0)\n",
            "Requirement already satisfied: markdown>=2.6.8 in /usr/local/lib/python3.10/dist-packages (from tensorboard<2.16,>=2.15->tensorflow==2.15) (3.6)\n",
            "Requirement already satisfied: requests<3,>=2.21.0 in /usr/local/lib/python3.10/dist-packages (from tensorboard<2.16,>=2.15->tensorflow==2.15) (2.31.0)\n",
            "Requirement already satisfied: tensorboard-data-server<0.8.0,>=0.7.0 in /usr/local/lib/python3.10/dist-packages (from tensorboard<2.16,>=2.15->tensorflow==2.15) (0.7.2)\n",
            "Requirement already satisfied: werkzeug>=1.0.1 in /usr/local/lib/python3.10/dist-packages (from tensorboard<2.16,>=2.15->tensorflow==2.15) (3.0.3)\n",
            "Requirement already satisfied: cachetools<6.0,>=2.0.0 in /usr/local/lib/python3.10/dist-packages (from google-auth<3,>=1.6.3->tensorboard<2.16,>=2.15->tensorflow==2.15) (5.3.3)\n",
            "Requirement already satisfied: pyasn1-modules>=0.2.1 in /usr/local/lib/python3.10/dist-packages (from google-auth<3,>=1.6.3->tensorboard<2.16,>=2.15->tensorflow==2.15) (0.4.0)\n",
            "Requirement already satisfied: rsa<5,>=3.1.4 in /usr/local/lib/python3.10/dist-packages (from google-auth<3,>=1.6.3->tensorboard<2.16,>=2.15->tensorflow==2.15) (4.9)\n",
            "Requirement already satisfied: requests-oauthlib>=0.7.0 in /usr/local/lib/python3.10/dist-packages (from google-auth-oauthlib<2,>=0.5->tensorboard<2.16,>=2.15->tensorflow==2.15) (1.3.1)\n",
            "Requirement already satisfied: charset-normalizer<4,>=2 in /usr/local/lib/python3.10/dist-packages (from requests<3,>=2.21.0->tensorboard<2.16,>=2.15->tensorflow==2.15) (3.3.2)\n",
            "Requirement already satisfied: idna<4,>=2.5 in /usr/local/lib/python3.10/dist-packages (from requests<3,>=2.21.0->tensorboard<2.16,>=2.15->tensorflow==2.15) (3.7)\n",
            "Requirement already satisfied: urllib3<3,>=1.21.1 in /usr/local/lib/python3.10/dist-packages (from requests<3,>=2.21.0->tensorboard<2.16,>=2.15->tensorflow==2.15) (2.0.7)\n",
            "Requirement already satisfied: certifi>=2017.4.17 in /usr/local/lib/python3.10/dist-packages (from requests<3,>=2.21.0->tensorboard<2.16,>=2.15->tensorflow==2.15) (2024.2.2)\n",
            "Requirement already satisfied: MarkupSafe>=2.1.1 in /usr/local/lib/python3.10/dist-packages (from werkzeug>=1.0.1->tensorboard<2.16,>=2.15->tensorflow==2.15) (2.1.5)\n",
            "Requirement already satisfied: pyasn1<0.7.0,>=0.4.6 in /usr/local/lib/python3.10/dist-packages (from pyasn1-modules>=0.2.1->google-auth<3,>=1.6.3->tensorboard<2.16,>=2.15->tensorflow==2.15) (0.6.0)\n",
            "Requirement already satisfied: oauthlib>=3.0.0 in /usr/local/lib/python3.10/dist-packages (from requests-oauthlib>=0.7.0->google-auth-oauthlib<2,>=0.5->tensorboard<2.16,>=2.15->tensorflow==2.15) (3.2.2)\n"
          ]
        }
      ],
      "source": [
        "!pip install tensorflow==2.15"
      ]
    },
    {
      "cell_type": "code",
      "execution_count": null,
      "metadata": {
        "colab": {
          "base_uri": "https://localhost:8080/"
        },
        "id": "Ng1sbN7h0Mlr",
        "outputId": "fb752acf-75ea-4f29-9756-53b6d2bbc260"
      },
      "outputs": [
        {
          "output_type": "execute_result",
          "data": {
            "text/plain": [
              "[{'entity_group': 'Diagnostic_procedure',\n",
              "  'score': 0.99622244,\n",
              "  'word': 'blood pressure',\n",
              "  'start': 78,\n",
              "  'end': 92},\n",
              " {'entity_group': 'Lab_value',\n",
              "  'score': 0.99992347,\n",
              "  'word': '120',\n",
              "  'start': 94,\n",
              "  'end': 97},\n",
              " {'entity_group': 'Lab_value',\n",
              "  'score': 0.718937,\n",
              "  'word': '80',\n",
              "  'start': 98,\n",
              "  'end': 100},\n",
              " {'entity_group': 'Diagnostic_procedure',\n",
              "  'score': 0.96984684,\n",
              "  'word': 'heart rate',\n",
              "  'start': 107,\n",
              "  'end': 117},\n",
              " {'entity_group': 'Lab_value',\n",
              "  'score': 0.99993455,\n",
              "  'word': '72',\n",
              "  'start': 119,\n",
              "  'end': 121},\n",
              " {'entity_group': 'Diagnostic_procedure',\n",
              "  'score': 0.96307063,\n",
              "  'word': 'temperature',\n",
              "  'start': 127,\n",
              "  'end': 138},\n",
              " {'entity_group': 'Lab_value',\n",
              "  'score': 0.9998766,\n",
              "  'word': '98',\n",
              "  'start': 140,\n",
              "  'end': 142},\n",
              " {'entity_group': 'Lab_value',\n",
              "  'score': 0.99049497,\n",
              "  'word': '6°',\n",
              "  'start': 143,\n",
              "  'end': 145},\n",
              " {'entity_group': 'Diagnostic_procedure',\n",
              "  'score': 0.9916157,\n",
              "  'word': 'respiratory rate',\n",
              "  'start': 148,\n",
              "  'end': 164},\n",
              " {'entity_group': 'Lab_value',\n",
              "  'score': 0.8822706,\n",
              "  'word': '16 breaths',\n",
              "  'start': 166,\n",
              "  'end': 176},\n",
              " {'entity_group': 'Detailed_description',\n",
              "  'score': 0.9155897,\n",
              "  'word': 'over',\n",
              "  'start': 387,\n",
              "  'end': 391},\n",
              " {'entity_group': 'Detailed_description',\n",
              "  'score': 0.8379877,\n",
              "  'word': 'the',\n",
              "  'start': 392,\n",
              "  'end': 395},\n",
              " {'entity_group': 'Clinical_event',\n",
              "  'score': 0.9826226,\n",
              "  'word': 'follow',\n",
              "  'start': 422,\n",
              "  'end': 428},\n",
              " {'entity_group': 'Clinical_event',\n",
              "  'score': 0.6061244,\n",
              "  'word': 'appointment',\n",
              "  'start': 432,\n",
              "  'end': 443},\n",
              " {'entity_group': 'Date',\n",
              "  'score': 0.9614451,\n",
              "  'word': '3 days',\n",
              "  'start': 457,\n",
              "  'end': 463}]"
            ]
          },
          "metadata": {},
          "execution_count": 17
        }
      ],
      "source": [
        "from transformers import pipeline\n",
        "from transformers import AutoTokenizer, AutoModelForTokenClassification\n",
        "\n",
        "tokenizer = AutoTokenizer.from_pretrained(\"d4data/biomedical-ner-all\")\n",
        "model = AutoModelForTokenClassification.from_pretrained(\"d4data/biomedical-ner-all\")\n",
        "\n",
        "pipe = pipeline(\"ner\", model=model, tokenizer=tokenizer, aggregation_strategy=\"simple\")\n",
        "pipe(\"\"\"Sure, here are two lines of a medical report:Patient Name: John Doe, Age: 45, Blood Pressure: 120/80 mmHg, Heart Rate: 72 bpm, Temperature: 98.6°F, Respiratory Rate: 16 breaths/min. Diagnosis: The patient presents with symptoms of upper respiratory infection, including cough, nasal congestion, and low-grade fever. Suspected viral etiology. Treatment plan includes rest, hydration, and over-the-counter cold medications. Follow-up appointment scheduled in 3 days for reassessment.\"\"\")\n"
      ]
    },
    {
      "cell_type": "code",
      "execution_count": null,
      "metadata": {
        "id": "vuGMaVeuGa9K"
      },
      "outputs": [],
      "source": []
    },
    {
      "cell_type": "code",
      "execution_count": null,
      "metadata": {
        "colab": {
          "base_uri": "https://localhost:8080/"
        },
        "id": "G6c3tuyE-VnO",
        "outputId": "743ceca1-9808-4f22-a319-223b488976a8"
      },
      "outputs": [
        {
          "output_type": "stream",
          "name": "stdout",
          "text": [
            "blood pressure [Diagnostic_procedure]\n",
            "120 [Lab_value]\n",
            "80 [Lab_value]\n",
            "heart rate [Diagnostic_procedure]\n",
            "72 [Lab_value]\n",
            "temperature [Diagnostic_procedure]\n",
            "98 [Lab_value]\n",
            "6° [Lab_value]\n",
            "respiratory rate [Diagnostic_procedure]\n",
            "16 breaths [Lab_value]\n",
            "over [Detailed_description]\n",
            "the [Detailed_description]\n",
            "follow [Clinical_event]\n",
            "appointment [Clinical_event]\n",
            "in [Date]\n",
            "3 days [Date]\n"
          ]
        }
      ],
      "source": [
        "input_text = \"Sure, here are two lines of a medical report:Patient Name: John Doe, Age: 45, Blood Pressure: 120/80 mmHg, Heart Rate: 72 bpm, Temperature: 98.6°F, Respiratory Rate: 16 breaths/min. Diagnosis: The patient presents with symptoms of upper respiratory infection, including cough, nasal congestion, and low-grade fever. Suspected viral etiology. Treatment plan includes rest, hydration, and over-the-counter cold medications. Follow-up appointment scheduled in 3 days for reassessment..\"\n",
        "entities = pipe(input_text)\n",
        "\n",
        "# Create a list to store the tokens with highlighted entities\n",
        "highlighted_tokens = []\n",
        "\n",
        "# Loop through each token and mark the entity tokens with highlighting\n",
        "for token in entities:\n",
        "    word = token[\"word\"]\n",
        "    entity_group = token[\"entity_group\"]\n",
        "    start_idx = token[\"start\"]\n",
        "    end_idx = token[\"end\"]\n",
        "\n",
        "    # Create a highlighted version of the token\n",
        "    highlighted_token = f\"{word} [{entity_group}]\"\n",
        "\n",
        "    # Add the highlighted token to the list\n",
        "    highlighted_tokens.append(highlighted_token)\n",
        "\n",
        "# Join the tokens to form the modified input text\n",
        "highlighted_text = \"\\n\".join(highlighted_tokens)\n",
        "\n",
        "print(highlighted_text)\n"
      ]
    },
    {
      "cell_type": "code",
      "execution_count": null,
      "metadata": {
        "id": "_eH_xVUmGlAm"
      },
      "outputs": [],
      "source": []
    },
    {
      "cell_type": "code",
      "execution_count": null,
      "metadata": {
        "colab": {
          "base_uri": "https://localhost:8080/"
        },
        "id": "SP1MEfMiFyxi",
        "outputId": "65fea114-e823-44e6-e9c0-0a1921b1738d"
      },
      "outputs": [
        {
          "output_type": "stream",
          "name": "stdout",
          "text": [
            "\u001b[0mblood pressure \u001b[95m[Diagnostic_procedure]\u001b[0m\n",
            "\u001b[0m120 / 80 mm \u001b[96m[Lab_value]\u001b[0m\n",
            "\u001b[0mheart rate \u001b[95m[Diagnostic_procedure]\u001b[0m\n",
            "\u001b[0m72 bp \u001b[96m[Lab_value]\u001b[0m\n",
            "\u001b[0mtemperature \u001b[95m[Diagnostic_procedure]\u001b[0m\n",
            "\u001b[0m98. 6° \u001b[96m[Lab_value]\u001b[0m\n",
            "\u001b[0mrespiratory rate \u001b[95m[Diagnostic_procedure]\u001b[0m\n",
            "\u001b[0m16 breaths \u001b[96m[Lab_value]\u001b[0m\n",
            "\u001b[0mrespiratory \u001b[0m[Biological_structure]\u001b[0m\n",
            "\u001b[0mfollow \u001b[94m[Clinical_event]\u001b[0m\n",
            "\u001b[0mappointment \u001b[94m[Clinical_event]\u001b[0m\n",
            "\u001b[0min 3 days \u001b[0m[Duration]\u001b[0m\n"
          ]
        }
      ],
      "source": [
        "input_text = \" Name: John Doe, Age: 45, Blood Pressure: 120/80 mmHg, Heart Rate: 72 bpm, Temperature: 98.6°F, Respiratory Rate: 16 breaths/min. Diagnosis: The patient presents with symptoms of upper respiratory infection, including cough, nasal congestion, and low-grade fever. Suspected viral etiology. Treatment plan includes rest, hydration, and over-the-counter cold medications. Follow-up appointment scheduled in 3 days for reassessment..\"\n",
        "entities = pipe(input_text)\n",
        "\n",
        "# Define color codes for each entity group\n",
        "color_codes = {\n",
        "    \"Sign_symptom\": \"\\033[91m\",  # Red\n",
        "    \"Clinical_event\": \"\\033[94m\",  # Blue\n",
        "    \"Date\": \"\\033[92m\",  # Green\n",
        "    \"Diagnostic_procedure\": \"\\033[95m\",\n",
        "    \"Lab_value\": \"\\033[96m\"\n",
        "}\n",
        "\n",
        "# Create a list to store the tokens with highlighted entities\n",
        "highlighted_tokens = []\n",
        "\n",
        "# Loop through each token and mark the entity tokens with highlighting\n",
        "for token in entities:\n",
        "    word = token[\"word\"]\n",
        "    entity_group = token[\"entity_group\"]\n",
        "\n",
        "    # Determine the color code for the entity group\n",
        "    color_code = color_codes.get(entity_group, \"\\033[0m\")  # Default to reset color if entity group not found\n",
        "\n",
        "    # Create a highlighted version of the entity group with color and entity group, while keeping word in default white\n",
        "    highlighted_token = f\"\\033[0m{word} {color_code}[{entity_group}]\\033[0m\"\n",
        "\n",
        "    # Add the highlighted token to the list\n",
        "    highlighted_tokens.append(highlighted_token)\n",
        "\n",
        "# Join the tokens to form the modified input text\n",
        "highlighted_text = \"\\n\".join(highlighted_tokens)\n",
        "\n",
        "print(highlighted_text)\n"
      ]
    },
    {
      "cell_type": "code",
      "execution_count": null,
      "metadata": {
        "id": "5oX2CucxHhQT"
      },
      "outputs": [],
      "source": []
    },
    {
      "cell_type": "code",
      "execution_count": null,
      "metadata": {
        "colab": {
          "base_uri": "https://localhost:8080/"
        },
        "id": "yS2Q2-bZIoK4",
        "outputId": "50d6fdcf-f47e-4e8f-ee6c-728ca997a049"
      },
      "outputs": [
        {
          "output_type": "stream",
          "name": "stdout",
          "text": [
            "\n"
          ]
        }
      ],
      "source": [
        "input_text = \"\"\n",
        "entities = pipe(input_text)\n",
        "\n",
        "# Define color codes for each entity group\n",
        "color_codes = {\n",
        "    \"Sign_symptom\": \"\\033[91m\",  # Red\n",
        "    \"Clinical_event\": \"\\033[94m\",  # Blue\n",
        "    \"Date\": \"\\033[92m\",  # Green\n",
        "    \"Diagnostic_procedure\": \"\\033[95m\",\n",
        "    \"Lab_value\": \"\\033[96m\"\n",
        "}\n",
        "\n",
        "# Create a list to store the tokens with highlighted entities\n",
        "highlighted_tokens = []\n",
        "\n",
        "# Loop through each token and mark the entity tokens with highlighting\n",
        "for token in entities:\n",
        "    word = token[\"word\"]\n",
        "    entity_group = token[\"entity_group\"]\n",
        "\n",
        "    # Determine the color code for the entity group\n",
        "    color_code = color_codes.get(entity_group, \"\\033[0m\")  # Default to reset color if entity group not found\n",
        "\n",
        "    # Create a highlighted version of the entity group with color and entity group, while keeping word in default white\n",
        "    highlighted_token = f\"\\033[0m{word} {color_code}[{entity_group}]\\033[0m\"\n",
        "\n",
        "    # Add the highlighted token to the list\n",
        "    highlighted_tokens.append(highlighted_token)\n",
        "\n",
        "# Join the tokens to form the modified input text\n",
        "highlighted_text = \"\\n\".join(highlighted_tokens)\n",
        "\n",
        "print(highlighted_text)\n"
      ]
    },
    {
      "cell_type": "code",
      "execution_count": null,
      "metadata": {
        "colab": {
          "base_uri": "https://localhost:8080/"
        },
        "id": "uIi99-GhIqe6",
        "outputId": "9acb7e69-c1f9-471b-ee3c-d4f02902d9ec"
      },
      "outputs": [
        {
          "output_type": "stream",
          "name": "stdout",
          "text": [
            "\u001b[0mfever \u001b[91m[Sign_symptom]\u001b[0m\n",
            "\u001b[0mshortness of breath \u001b[91m[Sign_symptom]\u001b[0m\n",
            "\u001b[0mbacterial \u001b[0m[Detailed_description]\u001b[0m\n",
            "\u001b[0mpneumonia \u001b[0m[Disease_disorder]\u001b[0m\n",
            "\u001b[0mantibiotics \u001b[0m[Medication]\u001b[0m\n",
            "\u001b[0msymptom \u001b[91m[Sign_symptom]\u001b[0m\n"
          ]
        }
      ],
      "source": [
        "input_text = \"Patient presented with symptoms of fever, cough, and shortness of breath, indicative of pneumonia. Upon examination, diagnosed with bacterial pneumonia and prescribed a course of antibiotics  resulting in symptom resolution within a week.\"\n",
        "entities = pipe(input_text)\n",
        "\n",
        "# Define color codes for each entity group\n",
        "color_codes = {\n",
        "    \"Sign_symptom\": \"\\033[91m\",  # Red\n",
        "    \"Clinical_event\": \"\\033[94m\",  # Blue\n",
        "    \"Date\": \"\\033[92m\",  # Green\n",
        "    \"Diagnostic_procedure\": \"\\033[95m\",\n",
        "    \"Lab_value\": \"\\033[96m\"\n",
        "}\n",
        "\n",
        "# Create a list to store the tokens with highlighted entities\n",
        "highlighted_tokens = []\n",
        "\n",
        "# Loop through each token and mark the entity tokens with highlighting\n",
        "for token in entities:\n",
        "    word = token[\"word\"]\n",
        "    entity_group = token[\"entity_group\"]\n",
        "\n",
        "    # Determine the color code for the entity group\n",
        "    color_code = color_codes.get(entity_group, \"\\033[0m\")  # Default to reset color if entity group not found\n",
        "\n",
        "    # Create a highlighted version of the entity group with color and entity group, while keeping word in default white\n",
        "    highlighted_token = f\"\\033[0m{word} {color_code}[{entity_group}]\\033[0m\"\n",
        "\n",
        "    # Add the highlighted token to the list\n",
        "    highlighted_tokens.append(highlighted_token)\n",
        "\n",
        "# Join the tokens to form the modified input text\n",
        "highlighted_text = \"\\n\".join(highlighted_tokens)\n",
        "\n",
        "print(highlighted_text)\n"
      ]
    },
    {
      "cell_type": "code",
      "execution_count": null,
      "metadata": {
        "colab": {
          "base_uri": "https://localhost:8080/"
        },
        "id": "1GSj2iJlHwSQ",
        "outputId": "7f04f202-3fc0-4ac4-9b73-0f936b74dac4"
      },
      "outputs": [
        {
          "output_type": "stream",
          "name": "stdout",
          "text": [
            "\u001b[0mfever \u001b[91m[Sign_symptom]\u001b[0m\n",
            "\u001b[0mshortness of breath \u001b[91m[Sign_symptom]\u001b[0m\n",
            "\u001b[0mbacterial \u001b[0m[Detailed_description]\u001b[0m\n",
            "\u001b[0mpneumonia \u001b[0m[Disease_disorder]\u001b[0m\n",
            "\u001b[0mantibiotics \u001b[0m[Medication]\u001b[0m\n",
            "\u001b[0msymptom \u001b[91m[Sign_symptom]\u001b[0m\n"
          ]
        }
      ],
      "source": [
        "input_text = \"The patient presented with fever, cough, and shortness of breath, suggestive of a respiratory infection. Further evaluation revealed bilateral lung infiltrates on chest X-ray consistent with pneumonia.\"\n",
        "\n",
        "# Define color codes for each entity group\n",
        "color_codes = {\n",
        "    \"Sign_symptom\": \"\\033[91m\",  # Red\n",
        "    \"Clinical_event\": \"\\033[94m\",  # Blue\n",
        "    \"Date\": \"\\033[92m\",  # Green\n",
        "    \"Diagnostic_procedure\": \"\\033[95m\",\n",
        "    \"Lab_value\": \"\\033[96m\"\n",
        "}\n",
        "\n",
        "# Create a list to store the tokens with highlighted entities\n",
        "highlighted_tokens = []\n",
        "\n",
        "# Loop through each token and mark the entity tokens with highlighting\n",
        "for token in entities:\n",
        "    word = token[\"word\"]\n",
        "    entity_group = token[\"entity_group\"]\n",
        "\n",
        "    # Determine the color code for the entity group\n",
        "    color_code = color_codes.get(entity_group, \"\\033[0m\")  # Default to reset color if entity group not found\n",
        "\n",
        "    # Create a highlighted version of the entity group with color and entity group, while keeping word in default white\n",
        "    highlighted_token = f\"\\033[0m{word} {color_code}[{entity_group}]\\033[0m\"\n",
        "\n",
        "    # Add the highlighted token to the list\n",
        "    highlighted_tokens.append(highlighted_token)\n",
        "\n",
        "# Join the tokens to form the modified input text\n",
        "highlighted_text = \"\\n\".join(highlighted_tokens)\n",
        "\n",
        "print(highlighted_text)\n"
      ]
    },
    {
      "cell_type": "code",
      "execution_count": null,
      "metadata": {
        "colab": {
          "base_uri": "https://localhost:8080/"
        },
        "id": "cR7R_YFVH0aW",
        "outputId": "05e87a5b-2c59-4b7b-a866-e6e9c674dea7"
      },
      "outputs": [
        {
          "output_type": "stream",
          "name": "stdout",
          "text": [
            "\u001b[0mblood pressure \u001b[95m[Diagnostic_procedure]\u001b[0m\n",
            "\u001b[0m120 / 80 mm \u001b[96m[Lab_value]\u001b[0m\n",
            "\u001b[0mheart rate \u001b[95m[Diagnostic_procedure]\u001b[0m\n",
            "\u001b[0m72 bp \u001b[96m[Lab_value]\u001b[0m\n",
            "\u001b[0mtemperature \u001b[95m[Diagnostic_procedure]\u001b[0m\n",
            "\u001b[0m98. 6° \u001b[96m[Lab_value]\u001b[0m\n",
            "\u001b[0mrespiratory rate \u001b[95m[Diagnostic_procedure]\u001b[0m\n",
            "\u001b[0m16 breaths \u001b[96m[Lab_value]\u001b[0m\n",
            "\u001b[0mrespiratory \u001b[0m[Biological_structure]\u001b[0m\n",
            "\u001b[0mfollow \u001b[94m[Clinical_event]\u001b[0m\n",
            "\u001b[0mappointment \u001b[94m[Clinical_event]\u001b[0m\n",
            "\u001b[0min 3 days \u001b[0m[Duration]\u001b[0m\n"
          ]
        }
      ],
      "source": [
        "input_text = \" Name: John Doe, Age: 45, Blood Pressure: 120/80 mmHg, Heart Rate: 72 bpm, Temperature: 98.6°F, Respiratory Rate: 16 breaths/min. Diagnosis: The patient presents with symptoms of upper respiratory infection, including cough, nasal congestion, and low-grade fever. Suspected viral etiology. Treatment plan includes rest, hydration, and over-the-counter cold medications. Follow-up appointment scheduled in 3 days for reassessment..\"\n",
        "entities = pipe(input_text)\n",
        "\n",
        "# Define color codes for each entity group\n",
        "color_codes = {\n",
        "    \"Sign_symptom\": \"\\033[91m\",  # Red\n",
        "    \"Clinical_event\": \"\\033[94m\",  # Blue\n",
        "    \"Date\": \"\\033[92m\",  # Green\n",
        "    \"Diagnostic_procedure\": \"\\033[95m\",\n",
        "    \"Lab_value\": \"\\033[96m\"\n",
        "}\n",
        "\n",
        "# Create a list to store the tokens with highlighted entities\n",
        "highlighted_tokens = []\n",
        "\n",
        "# Loop through each token and mark the entity tokens with highlighting\n",
        "for token in entities:\n",
        "    word = token[\"word\"]\n",
        "    entity_group = token[\"entity_group\"]\n",
        "\n",
        "    # Determine the color code for the entity group\n",
        "    color_code = color_codes.get(entity_group, \"\\033[0m\")  # Default to reset color if entity group not found\n",
        "\n",
        "    # Create a highlighted version of the entity group with color and entity group, while keeping word in default white\n",
        "    highlighted_token = f\"\\033[0m{word} {color_code}[{entity_group}]\\033[0m\"\n",
        "\n",
        "    # Add the highlighted token to the list\n",
        "    highlighted_tokens.append(highlighted_token)\n",
        "\n",
        "# Join the tokens to form the modified input text\n",
        "highlighted_text = \"\\n\".join(highlighted_tokens)\n",
        "\n",
        "print(highlighted_text)\n"
      ]
    },
    {
      "cell_type": "code",
      "execution_count": null,
      "metadata": {
        "colab": {
          "base_uri": "https://localhost:8080/"
        },
        "id": "iIY8daD_KR1R",
        "outputId": "2ba8e0b8-dcc5-4914-9a88-e6aaad1f44dc"
      },
      "outputs": [
        {
          "output_type": "stream",
          "name": "stdout",
          "text": [
            "\u001b[0m48 year - old \u001b[0m[Age]\u001b[0m\n",
            "\u001b[0mfemale \u001b[0m[Sex]\u001b[0m\n",
            "\u001b[0mpresented \u001b[94m[Clinical_event]\u001b[0m\n",
            "\u001b[0mvaginal \u001b[0m[Biological_structure]\u001b[0m\n",
            "\u001b[0mbleeding \u001b[91m[Sign_symptom]\u001b[0m\n",
            "\u001b[0mabnormal \u001b[96m[Lab_value]\u001b[0m\n",
            "\u001b[0mpap \u001b[95m[Diagnostic_procedure]\u001b[0m\n",
            "\u001b[0minvasive \u001b[0m[Detailed_description]\u001b[0m\n",
            "\u001b[0mnon \u001b[0m[Detailed_description]\u001b[0m\n",
            "\u001b[0mkeratini \u001b[0m[Detailed_description]\u001b[0m\n",
            "\u001b[0msc \u001b[0m[Disease_disorder]\u001b[0m\n",
            "\u001b[0mradical \u001b[0m[Detailed_description]\u001b[0m\n",
            "\u001b[0mh \u001b[0m[Therapeutic_procedure]\u001b[0m\n",
            "\u001b[0m##ysterectomy \u001b[0m[Therapeutic_procedure]\u001b[0m\n",
            "\u001b[0msal \u001b[0m[Therapeutic_procedure]\u001b[0m\n",
            "\u001b[0m##pingo - oophorectomy \u001b[0m[Therapeutic_procedure]\u001b[0m\n",
            "\u001b[0mpositive \u001b[96m[Lab_value]\u001b[0m\n",
            "\u001b[0mpelvic lymph nodes \u001b[0m[Biological_structure]\u001b[0m\n",
            "\u001b[0mpara \u001b[0m[Biological_structure]\u001b[0m\n",
            "\u001b[0mpath \u001b[95m[Diagnostic_procedure]\u001b[0m\n",
            "\u001b[0mexamination \u001b[95m[Diagnostic_procedure]\u001b[0m\n",
            "\u001b[0mtumor \u001b[0m[Coreference]\u001b[0m\n",
            "\u001b[0mlower uterine \u001b[0m[Biological_structure]\u001b[0m\n"
          ]
        }
      ],
      "source": [
        "input_text = \"A 48 year-old female presented with vaginal bleeding and abnormal Pap smears. Upon diagnosis of invasive non-keratinizing SCC of the cervix, she underwent a radical hysterectomy with salpingo-oophorectomy which demonstrated positive spread to the pelvic lymph nodes and the parametrium. Pathological examination revealed that the tumor also extensively involved the lower uterine segment.\"\n",
        "entities = pipe(input_text)\n",
        "\n",
        "# Define color codes for each entity group\n",
        "color_codes = {\n",
        "    \"Sign_symptom\": \"\\033[91m\",  # Red\n",
        "    \"Clinical_event\": \"\\033[94m\",  # Blue\n",
        "    \"Date\": \"\\033[92m\",  # Green\n",
        "    \"Diagnostic_procedure\": \"\\033[95m\",\n",
        "    \"Lab_value\": \"\\033[96m\"\n",
        "}\n",
        "\n",
        "# Create a list to store the tokens with highlighted entities\n",
        "highlighted_tokens = []\n",
        "\n",
        "# Loop through each token and mark the entity tokens with highlighting\n",
        "for token in entities:\n",
        "    word = token[\"word\"]\n",
        "    entity_group = token[\"entity_group\"]\n",
        "\n",
        "    # Determine the color code for the entity group\n",
        "    color_code = color_codes.get(entity_group, \"\\033[0m\")  # Default to reset color if entity group not found\n",
        "\n",
        "    # Create a highlighted version of the entity group with color and entity group, while keeping word in default white\n",
        "    highlighted_token = f\"\\033[0m{word} {color_code}[{entity_group}]\\033[0m\"\n",
        "\n",
        "    # Add the highlighted token to the list\n",
        "    highlighted_tokens.append(highlighted_token)\n",
        "\n",
        "# Join the tokens to form the modified input text\n",
        "highlighted_text = \"\\n\".join(highlighted_tokens)\n",
        "\n",
        "print(highlighted_text)\n"
      ]
    },
    {
      "cell_type": "code",
      "execution_count": null,
      "metadata": {
        "colab": {
          "base_uri": "https://localhost:8080/"
        },
        "id": "Etl9h7xXbXst",
        "outputId": "eeead8ed-f834-469f-c1fd-ffecd7c1512a"
      },
      "outputs": [
        {
          "output_type": "stream",
          "name": "stdout",
          "text": [
            "\n"
          ]
        }
      ],
      "source": [
        "input_text = \"\"\n",
        "entities = pipe(input_text)\n",
        "\n",
        "# Define color codes for each entity group\n",
        "color_codes = {\n",
        "    \"Sign_symptom\": \"\\033[91m\",  # Red\n",
        "    \"Clinical_event\": \"\\033[94m\",  # Blue\n",
        "    \"Date\": \"\\033[92m\",  # Green\n",
        "    \"Diagnostic_procedure\": \"\\033[95m\",\n",
        "    \"Lab_value\": \"\\033[96m\"\n",
        "}\n",
        "\n",
        "# Create a list to store the tokens with highlighted entities\n",
        "highlighted_tokens = []\n",
        "\n",
        "# Loop through each token and mark the entity tokens with highlighting\n",
        "for token in entities:\n",
        "    word = token[\"word\"]\n",
        "    entity_group = token[\"entity_group\"]\n",
        "\n",
        "    # Determine the color code for the entity group\n",
        "    color_code = color_codes.get(entity_group, \"\\033[0m\")  # Default to reset color if entity group not found\n",
        "\n",
        "    # Create a highlighted version of the entity group with color and entity group, while keeping word in default white\n",
        "    highlighted_token = f\"\\033[0m{word} {color_code}[{entity_group}]\\033[0m\"\n",
        "\n",
        "    # Add the highlighted token to the list\n",
        "    highlighted_tokens.append(highlighted_token)\n",
        "\n",
        "# Join the tokens to form the modified input text\n",
        "highlighted_text = \"\\n\".join(highlighted_tokens)\n",
        "\n",
        "print(highlighted_text)\n"
      ]
    },
    {
      "cell_type": "code",
      "execution_count": null,
      "metadata": {
        "id": "JTzglNOHbrax"
      },
      "outputs": [],
      "source": []
    },
    {
      "cell_type": "code",
      "execution_count": null,
      "metadata": {
        "id": "Ojhpqdgra9XV"
      },
      "outputs": [],
      "source": []
    }
  ],
  "metadata": {
    "accelerator": "GPU",
    "colab": {
      "provenance": [],
      "gpuClass": "premium"
    },
    "gpuClass": "premium",
    "kernelspec": {
      "display_name": "Python 3 (ipykernel)",
      "language": "python",
      "name": "python3"
    },
    "language_info": {
      "codemirror_mode": {
        "name": "ipython",
        "version": 3
      },
      "file_extension": ".py",
      "mimetype": "text/x-python",
      "name": "python",
      "nbconvert_exporter": "python",
      "pygments_lexer": "ipython3",
      "version": "3.10.8"
    },
    "widgets": {
      "application/vnd.jupyter.widget-state+json": {
        "09551e1cd47d423ca053ddda582c040d": {
          "model_module": "@jupyter-widgets/controls",
          "model_module_version": "1.5.0",
          "model_name": "DescriptionStyleModel",
          "state": {
            "_model_module": "@jupyter-widgets/controls",
            "_model_module_version": "1.5.0",
            "_model_name": "DescriptionStyleModel",
            "_view_count": null,
            "_view_module": "@jupyter-widgets/base",
            "_view_module_version": "1.2.0",
            "_view_name": "StyleView",
            "description_width": ""
          }
        },
        "1c1477e0cecf4d58865e7dfd3248f304": {
          "model_module": "@jupyter-widgets/controls",
          "model_module_version": "1.5.0",
          "model_name": "HBoxModel",
          "state": {
            "_dom_classes": [],
            "_model_module": "@jupyter-widgets/controls",
            "_model_module_version": "1.5.0",
            "_model_name": "HBoxModel",
            "_view_count": null,
            "_view_module": "@jupyter-widgets/controls",
            "_view_module_version": "1.5.0",
            "_view_name": "HBoxView",
            "box_style": "",
            "children": [
              "IPY_MODEL_5fc7e15733254ba390fd050ae3616b4f",
              "IPY_MODEL_73a506f9fc414c1bb79d838ed16f650f",
              "IPY_MODEL_f52a7931d8c54ebe8d1cf3881cb84dc7"
            ],
            "layout": "IPY_MODEL_d2bc578a1e154ec184240b487c436731"
          }
        },
        "1d355fda79754b019df130b4ae779b03": {
          "model_module": "@jupyter-widgets/base",
          "model_module_version": "1.2.0",
          "model_name": "LayoutModel",
          "state": {
            "_model_module": "@jupyter-widgets/base",
            "_model_module_version": "1.2.0",
            "_model_name": "LayoutModel",
            "_view_count": null,
            "_view_module": "@jupyter-widgets/base",
            "_view_module_version": "1.2.0",
            "_view_name": "LayoutView",
            "align_content": null,
            "align_items": null,
            "align_self": null,
            "border": null,
            "bottom": null,
            "display": null,
            "flex": null,
            "flex_flow": null,
            "grid_area": null,
            "grid_auto_columns": null,
            "grid_auto_flow": null,
            "grid_auto_rows": null,
            "grid_column": null,
            "grid_gap": null,
            "grid_row": null,
            "grid_template_areas": null,
            "grid_template_columns": null,
            "grid_template_rows": null,
            "height": null,
            "justify_content": null,
            "justify_items": null,
            "left": null,
            "margin": null,
            "max_height": null,
            "max_width": null,
            "min_height": null,
            "min_width": null,
            "object_fit": null,
            "object_position": null,
            "order": null,
            "overflow": null,
            "overflow_x": null,
            "overflow_y": null,
            "padding": null,
            "right": null,
            "top": null,
            "visibility": null,
            "width": null
          }
        },
        "20933173c5604c199c7178384778ba10": {
          "model_module": "@jupyter-widgets/controls",
          "model_module_version": "1.5.0",
          "model_name": "HTMLModel",
          "state": {
            "_dom_classes": [],
            "_model_module": "@jupyter-widgets/controls",
            "_model_module_version": "1.5.0",
            "_model_name": "HTMLModel",
            "_view_count": null,
            "_view_module": "@jupyter-widgets/controls",
            "_view_module_version": "1.5.0",
            "_view_name": "HTMLView",
            "description": "",
            "description_tooltip": null,
            "layout": "IPY_MODEL_229a27b7ecf44792a09fa13a25a2a1eb",
            "placeholder": "​",
            "style": "IPY_MODEL_8a8c499756444a5fa91f92b2b9043dfd",
            "value": "Map: 100%"
          }
        },
        "21f538a04928432784cd8643d5bafae6": {
          "model_module": "@jupyter-widgets/base",
          "model_module_version": "1.2.0",
          "model_name": "LayoutModel",
          "state": {
            "_model_module": "@jupyter-widgets/base",
            "_model_module_version": "1.2.0",
            "_model_name": "LayoutModel",
            "_view_count": null,
            "_view_module": "@jupyter-widgets/base",
            "_view_module_version": "1.2.0",
            "_view_name": "LayoutView",
            "align_content": null,
            "align_items": null,
            "align_self": null,
            "border": null,
            "bottom": null,
            "display": null,
            "flex": null,
            "flex_flow": null,
            "grid_area": null,
            "grid_auto_columns": null,
            "grid_auto_flow": null,
            "grid_auto_rows": null,
            "grid_column": null,
            "grid_gap": null,
            "grid_row": null,
            "grid_template_areas": null,
            "grid_template_columns": null,
            "grid_template_rows": null,
            "height": null,
            "justify_content": null,
            "justify_items": null,
            "left": null,
            "margin": null,
            "max_height": null,
            "max_width": null,
            "min_height": null,
            "min_width": null,
            "object_fit": null,
            "object_position": null,
            "order": null,
            "overflow": null,
            "overflow_x": null,
            "overflow_y": null,
            "padding": null,
            "right": null,
            "top": null,
            "visibility": null,
            "width": null
          }
        },
        "229a27b7ecf44792a09fa13a25a2a1eb": {
          "model_module": "@jupyter-widgets/base",
          "model_module_version": "1.2.0",
          "model_name": "LayoutModel",
          "state": {
            "_model_module": "@jupyter-widgets/base",
            "_model_module_version": "1.2.0",
            "_model_name": "LayoutModel",
            "_view_count": null,
            "_view_module": "@jupyter-widgets/base",
            "_view_module_version": "1.2.0",
            "_view_name": "LayoutView",
            "align_content": null,
            "align_items": null,
            "align_self": null,
            "border": null,
            "bottom": null,
            "display": null,
            "flex": null,
            "flex_flow": null,
            "grid_area": null,
            "grid_auto_columns": null,
            "grid_auto_flow": null,
            "grid_auto_rows": null,
            "grid_column": null,
            "grid_gap": null,
            "grid_row": null,
            "grid_template_areas": null,
            "grid_template_columns": null,
            "grid_template_rows": null,
            "height": null,
            "justify_content": null,
            "justify_items": null,
            "left": null,
            "margin": null,
            "max_height": null,
            "max_width": null,
            "min_height": null,
            "min_width": null,
            "object_fit": null,
            "object_position": null,
            "order": null,
            "overflow": null,
            "overflow_x": null,
            "overflow_y": null,
            "padding": null,
            "right": null,
            "top": null,
            "visibility": null,
            "width": null
          }
        },
        "270ba3f775484f90b690262f867330b9": {
          "model_module": "@jupyter-widgets/controls",
          "model_module_version": "1.5.0",
          "model_name": "DescriptionStyleModel",
          "state": {
            "_model_module": "@jupyter-widgets/controls",
            "_model_module_version": "1.5.0",
            "_model_name": "DescriptionStyleModel",
            "_view_count": null,
            "_view_module": "@jupyter-widgets/base",
            "_view_module_version": "1.2.0",
            "_view_name": "StyleView",
            "description_width": ""
          }
        },
        "290e2a2ca14a4252874b88c5cabae50c": {
          "model_module": "@jupyter-widgets/controls",
          "model_module_version": "1.5.0",
          "model_name": "HTMLModel",
          "state": {
            "_dom_classes": [],
            "_model_module": "@jupyter-widgets/controls",
            "_model_module_version": "1.5.0",
            "_model_name": "HTMLModel",
            "_view_count": null,
            "_view_module": "@jupyter-widgets/controls",
            "_view_module_version": "1.5.0",
            "_view_name": "HTMLView",
            "description": "",
            "description_tooltip": null,
            "layout": "IPY_MODEL_84872eb3763945df81bbec216f840606",
            "placeholder": "​",
            "style": "IPY_MODEL_535f552a307c4f20a368b2366ed7811a",
            "value": " 0/40 [00:00&lt;?, ? examples/s]"
          }
        },
        "29a833e7e0b244f487d996137c22e48d": {
          "model_module": "@jupyter-widgets/base",
          "model_module_version": "1.2.0",
          "model_name": "LayoutModel",
          "state": {
            "_model_module": "@jupyter-widgets/base",
            "_model_module_version": "1.2.0",
            "_model_name": "LayoutModel",
            "_view_count": null,
            "_view_module": "@jupyter-widgets/base",
            "_view_module_version": "1.2.0",
            "_view_name": "LayoutView",
            "align_content": null,
            "align_items": null,
            "align_self": null,
            "border": null,
            "bottom": null,
            "display": null,
            "flex": null,
            "flex_flow": null,
            "grid_area": null,
            "grid_auto_columns": null,
            "grid_auto_flow": null,
            "grid_auto_rows": null,
            "grid_column": null,
            "grid_gap": null,
            "grid_row": null,
            "grid_template_areas": null,
            "grid_template_columns": null,
            "grid_template_rows": null,
            "height": null,
            "justify_content": null,
            "justify_items": null,
            "left": null,
            "margin": null,
            "max_height": null,
            "max_width": null,
            "min_height": null,
            "min_width": null,
            "object_fit": null,
            "object_position": null,
            "order": null,
            "overflow": null,
            "overflow_x": null,
            "overflow_y": null,
            "padding": null,
            "right": null,
            "top": null,
            "visibility": null,
            "width": null
          }
        },
        "2f6efc5d9dbd4d3db80be249eb33bf0c": {
          "model_module": "@jupyter-widgets/controls",
          "model_module_version": "1.5.0",
          "model_name": "HTMLModel",
          "state": {
            "_dom_classes": [],
            "_model_module": "@jupyter-widgets/controls",
            "_model_module_version": "1.5.0",
            "_model_name": "HTMLModel",
            "_view_count": null,
            "_view_module": "@jupyter-widgets/controls",
            "_view_module_version": "1.5.0",
            "_view_name": "HTMLView",
            "description": "",
            "description_tooltip": null,
            "layout": "IPY_MODEL_ab38b3f3ece64b54bb74c691ab5c39c2",
            "placeholder": "​",
            "style": "IPY_MODEL_f3b83a67c8dc406a99bee689712fd709",
            "value": " 1/1 [00:00&lt;00:00, 52.81it/s]"
          }
        },
        "3089dcebd7524527b885b87e9f8661b1": {
          "model_module": "@jupyter-widgets/controls",
          "model_module_version": "1.5.0",
          "model_name": "HTMLModel",
          "state": {
            "_dom_classes": [],
            "_model_module": "@jupyter-widgets/controls",
            "_model_module_version": "1.5.0",
            "_model_name": "HTMLModel",
            "_view_count": null,
            "_view_module": "@jupyter-widgets/controls",
            "_view_module_version": "1.5.0",
            "_view_name": "HTMLView",
            "description": "",
            "description_tooltip": null,
            "layout": "IPY_MODEL_21f538a04928432784cd8643d5bafae6",
            "placeholder": "​",
            "style": "IPY_MODEL_270ba3f775484f90b690262f867330b9",
            "value": " 0/40 [00:00&lt;?, ? examples/s]"
          }
        },
        "3352e59f3b974d339b997a5a3b81c02e": {
          "model_module": "@jupyter-widgets/controls",
          "model_module_version": "1.5.0",
          "model_name": "DescriptionStyleModel",
          "state": {
            "_model_module": "@jupyter-widgets/controls",
            "_model_module_version": "1.5.0",
            "_model_name": "DescriptionStyleModel",
            "_view_count": null,
            "_view_module": "@jupyter-widgets/base",
            "_view_module_version": "1.2.0",
            "_view_name": "StyleView",
            "description_width": ""
          }
        },
        "352986a5a8ea4f35a80b81cce037c4dd": {
          "model_module": "@jupyter-widgets/controls",
          "model_module_version": "1.5.0",
          "model_name": "FloatProgressModel",
          "state": {
            "_dom_classes": [],
            "_model_module": "@jupyter-widgets/controls",
            "_model_module_version": "1.5.0",
            "_model_name": "FloatProgressModel",
            "_view_count": null,
            "_view_module": "@jupyter-widgets/controls",
            "_view_module_version": "1.5.0",
            "_view_name": "ProgressView",
            "bar_style": "success",
            "description": "",
            "description_tooltip": null,
            "layout": "IPY_MODEL_f453f7f8175249cf8426abb78e920528",
            "max": 1,
            "min": 0,
            "orientation": "horizontal",
            "style": "IPY_MODEL_e69827a8b4bc42e6a6f73555d7a6f72c",
            "value": 1
          }
        },
        "3599ccf9946146108519513e2f3cef2a": {
          "model_module": "@jupyter-widgets/controls",
          "model_module_version": "1.5.0",
          "model_name": "HTMLModel",
          "state": {
            "_dom_classes": [],
            "_model_module": "@jupyter-widgets/controls",
            "_model_module_version": "1.5.0",
            "_model_name": "HTMLModel",
            "_view_count": null,
            "_view_module": "@jupyter-widgets/controls",
            "_view_module_version": "1.5.0",
            "_view_name": "HTMLView",
            "description": "",
            "description_tooltip": null,
            "layout": "IPY_MODEL_c5aacec387d240fc91185a83f53965ce",
            "placeholder": "​",
            "style": "IPY_MODEL_09551e1cd47d423ca053ddda582c040d",
            "value": "Map:   0%"
          }
        },
        "3ebe4ae4e5b942578db0db333f92c576": {
          "model_module": "@jupyter-widgets/controls",
          "model_module_version": "1.5.0",
          "model_name": "HBoxModel",
          "state": {
            "_dom_classes": [],
            "_model_module": "@jupyter-widgets/controls",
            "_model_module_version": "1.5.0",
            "_model_name": "HBoxModel",
            "_view_count": null,
            "_view_module": "@jupyter-widgets/controls",
            "_view_module_version": "1.5.0",
            "_view_name": "HBoxView",
            "box_style": "",
            "children": [
              "IPY_MODEL_3599ccf9946146108519513e2f3cef2a",
              "IPY_MODEL_d153a775c0bf49939b438f9534c883cc",
              "IPY_MODEL_3089dcebd7524527b885b87e9f8661b1"
            ],
            "layout": "IPY_MODEL_e85e918c0d1c482e8861a0696df188c1"
          }
        },
        "44bde774a018484fac35ab05b394bf83": {
          "model_module": "@jupyter-widgets/controls",
          "model_module_version": "1.5.0",
          "model_name": "HBoxModel",
          "state": {
            "_dom_classes": [],
            "_model_module": "@jupyter-widgets/controls",
            "_model_module_version": "1.5.0",
            "_model_name": "HBoxModel",
            "_view_count": null,
            "_view_module": "@jupyter-widgets/controls",
            "_view_module_version": "1.5.0",
            "_view_name": "HBoxView",
            "box_style": "",
            "children": [
              "IPY_MODEL_ea9a7d60794b40b2bbb704bc17335ab8",
              "IPY_MODEL_51c7cc858c304d9aa2d40ccc4f8bd3aa",
              "IPY_MODEL_290e2a2ca14a4252874b88c5cabae50c"
            ],
            "layout": "IPY_MODEL_dfc48087fa344f15a3fe18a6ab869e01"
          }
        },
        "4c7194a4b0d042fc9f6f76fd73ba879d": {
          "model_module": "@jupyter-widgets/base",
          "model_module_version": "1.2.0",
          "model_name": "LayoutModel",
          "state": {
            "_model_module": "@jupyter-widgets/base",
            "_model_module_version": "1.2.0",
            "_model_name": "LayoutModel",
            "_view_count": null,
            "_view_module": "@jupyter-widgets/base",
            "_view_module_version": "1.2.0",
            "_view_name": "LayoutView",
            "align_content": null,
            "align_items": null,
            "align_self": null,
            "border": null,
            "bottom": null,
            "display": null,
            "flex": null,
            "flex_flow": null,
            "grid_area": null,
            "grid_auto_columns": null,
            "grid_auto_flow": null,
            "grid_auto_rows": null,
            "grid_column": null,
            "grid_gap": null,
            "grid_row": null,
            "grid_template_areas": null,
            "grid_template_columns": null,
            "grid_template_rows": null,
            "height": null,
            "justify_content": null,
            "justify_items": null,
            "left": null,
            "margin": null,
            "max_height": null,
            "max_width": null,
            "min_height": null,
            "min_width": null,
            "object_fit": null,
            "object_position": null,
            "order": null,
            "overflow": null,
            "overflow_x": null,
            "overflow_y": null,
            "padding": null,
            "right": null,
            "top": null,
            "visibility": null,
            "width": null
          }
        },
        "51c7cc858c304d9aa2d40ccc4f8bd3aa": {
          "model_module": "@jupyter-widgets/controls",
          "model_module_version": "1.5.0",
          "model_name": "FloatProgressModel",
          "state": {
            "_dom_classes": [],
            "_model_module": "@jupyter-widgets/controls",
            "_model_module_version": "1.5.0",
            "_model_name": "FloatProgressModel",
            "_view_count": null,
            "_view_module": "@jupyter-widgets/controls",
            "_view_module_version": "1.5.0",
            "_view_name": "ProgressView",
            "bar_style": "",
            "description": "",
            "description_tooltip": null,
            "layout": "IPY_MODEL_9a1ce9c509e842bc88cc643995228d23",
            "max": 40,
            "min": 0,
            "orientation": "horizontal",
            "style": "IPY_MODEL_e7c62f3532254142962495880f1d4730",
            "value": 40
          }
        },
        "535f02ade1054337b83e8cd425542d87": {
          "model_module": "@jupyter-widgets/controls",
          "model_module_version": "1.5.0",
          "model_name": "HTMLModel",
          "state": {
            "_dom_classes": [],
            "_model_module": "@jupyter-widgets/controls",
            "_model_module_version": "1.5.0",
            "_model_name": "HTMLModel",
            "_view_count": null,
            "_view_module": "@jupyter-widgets/controls",
            "_view_module_version": "1.5.0",
            "_view_name": "HTMLView",
            "description": "",
            "description_tooltip": null,
            "layout": "IPY_MODEL_f5094c36112644e68a0d4538a3acfb00",
            "placeholder": "​",
            "style": "IPY_MODEL_cc4f19b368e247a181fc1f371ef5366a",
            "value": "100%"
          }
        },
        "535f552a307c4f20a368b2366ed7811a": {
          "model_module": "@jupyter-widgets/controls",
          "model_module_version": "1.5.0",
          "model_name": "DescriptionStyleModel",
          "state": {
            "_model_module": "@jupyter-widgets/controls",
            "_model_module_version": "1.5.0",
            "_model_name": "DescriptionStyleModel",
            "_view_count": null,
            "_view_module": "@jupyter-widgets/base",
            "_view_module_version": "1.2.0",
            "_view_name": "StyleView",
            "description_width": ""
          }
        },
        "54bbdd6c08f04c05be04543983528fad": {
          "model_module": "@jupyter-widgets/controls",
          "model_module_version": "1.5.0",
          "model_name": "DescriptionStyleModel",
          "state": {
            "_model_module": "@jupyter-widgets/controls",
            "_model_module_version": "1.5.0",
            "_model_name": "DescriptionStyleModel",
            "_view_count": null,
            "_view_module": "@jupyter-widgets/base",
            "_view_module_version": "1.2.0",
            "_view_name": "StyleView",
            "description_width": ""
          }
        },
        "56c0430f090d4203b5f27dd2f309abc0": {
          "model_module": "@jupyter-widgets/base",
          "model_module_version": "1.2.0",
          "model_name": "LayoutModel",
          "state": {
            "_model_module": "@jupyter-widgets/base",
            "_model_module_version": "1.2.0",
            "_model_name": "LayoutModel",
            "_view_count": null,
            "_view_module": "@jupyter-widgets/base",
            "_view_module_version": "1.2.0",
            "_view_name": "LayoutView",
            "align_content": null,
            "align_items": null,
            "align_self": null,
            "border": null,
            "bottom": null,
            "display": null,
            "flex": null,
            "flex_flow": null,
            "grid_area": null,
            "grid_auto_columns": null,
            "grid_auto_flow": null,
            "grid_auto_rows": null,
            "grid_column": null,
            "grid_gap": null,
            "grid_row": null,
            "grid_template_areas": null,
            "grid_template_columns": null,
            "grid_template_rows": null,
            "height": null,
            "justify_content": null,
            "justify_items": null,
            "left": null,
            "margin": null,
            "max_height": null,
            "max_width": null,
            "min_height": null,
            "min_width": null,
            "object_fit": null,
            "object_position": null,
            "order": null,
            "overflow": null,
            "overflow_x": null,
            "overflow_y": null,
            "padding": null,
            "right": null,
            "top": null,
            "visibility": null,
            "width": null
          }
        },
        "5bad122378404cbb81901f1c94098e47": {
          "model_module": "@jupyter-widgets/controls",
          "model_module_version": "1.5.0",
          "model_name": "FloatProgressModel",
          "state": {
            "_dom_classes": [],
            "_model_module": "@jupyter-widgets/controls",
            "_model_module_version": "1.5.0",
            "_model_name": "FloatProgressModel",
            "_view_count": null,
            "_view_module": "@jupyter-widgets/controls",
            "_view_module_version": "1.5.0",
            "_view_name": "ProgressView",
            "bar_style": "",
            "description": "",
            "description_tooltip": null,
            "layout": "IPY_MODEL_4c7194a4b0d042fc9f6f76fd73ba879d",
            "max": 360,
            "min": 0,
            "orientation": "horizontal",
            "style": "IPY_MODEL_e01072bcc8b74c6f9413fa5aa5d0a100",
            "value": 360
          }
        },
        "5fc7e15733254ba390fd050ae3616b4f": {
          "model_module": "@jupyter-widgets/controls",
          "model_module_version": "1.5.0",
          "model_name": "HTMLModel",
          "state": {
            "_dom_classes": [],
            "_model_module": "@jupyter-widgets/controls",
            "_model_module_version": "1.5.0",
            "_model_name": "HTMLModel",
            "_view_count": null,
            "_view_module": "@jupyter-widgets/controls",
            "_view_module_version": "1.5.0",
            "_view_name": "HTMLView",
            "description": "",
            "description_tooltip": null,
            "layout": "IPY_MODEL_82e93704bae14ab188b939054c103c51",
            "placeholder": "​",
            "style": "IPY_MODEL_ade05592e9824b8f82c39eef81891a1c",
            "value": "Map:  92%"
          }
        },
        "6fde6f36f663439da881624707853ec0": {
          "model_module": "@jupyter-widgets/controls",
          "model_module_version": "1.5.0",
          "model_name": "HBoxModel",
          "state": {
            "_dom_classes": [],
            "_model_module": "@jupyter-widgets/controls",
            "_model_module_version": "1.5.0",
            "_model_name": "HBoxModel",
            "_view_count": null,
            "_view_module": "@jupyter-widgets/controls",
            "_view_module_version": "1.5.0",
            "_view_name": "HBoxView",
            "box_style": "",
            "children": [
              "IPY_MODEL_20933173c5604c199c7178384778ba10",
              "IPY_MODEL_5bad122378404cbb81901f1c94098e47",
              "IPY_MODEL_935aa604b4fc408f8fda7052559236a4"
            ],
            "layout": "IPY_MODEL_9094e1da5d4443c185d196bae48ee68e"
          }
        },
        "711392aac3a94e3da786a92cc033fff9": {
          "model_module": "@jupyter-widgets/controls",
          "model_module_version": "1.5.0",
          "model_name": "HBoxModel",
          "state": {
            "_dom_classes": [],
            "_model_module": "@jupyter-widgets/controls",
            "_model_module_version": "1.5.0",
            "_model_name": "HBoxModel",
            "_view_count": null,
            "_view_module": "@jupyter-widgets/controls",
            "_view_module_version": "1.5.0",
            "_view_name": "HBoxView",
            "box_style": "",
            "children": [
              "IPY_MODEL_535f02ade1054337b83e8cd425542d87",
              "IPY_MODEL_352986a5a8ea4f35a80b81cce037c4dd",
              "IPY_MODEL_2f6efc5d9dbd4d3db80be249eb33bf0c"
            ],
            "layout": "IPY_MODEL_1d355fda79754b019df130b4ae779b03"
          }
        },
        "73a506f9fc414c1bb79d838ed16f650f": {
          "model_module": "@jupyter-widgets/controls",
          "model_module_version": "1.5.0",
          "model_name": "FloatProgressModel",
          "state": {
            "_dom_classes": [],
            "_model_module": "@jupyter-widgets/controls",
            "_model_module_version": "1.5.0",
            "_model_name": "FloatProgressModel",
            "_view_count": null,
            "_view_module": "@jupyter-widgets/controls",
            "_view_module_version": "1.5.0",
            "_view_name": "ProgressView",
            "bar_style": "",
            "description": "",
            "description_tooltip": null,
            "layout": "IPY_MODEL_cdba08001255495fbefdd55841bb0662",
            "max": 360,
            "min": 0,
            "orientation": "horizontal",
            "style": "IPY_MODEL_94bb42f6204546b799d4b395a5a01aa8",
            "value": 360
          }
        },
        "82e93704bae14ab188b939054c103c51": {
          "model_module": "@jupyter-widgets/base",
          "model_module_version": "1.2.0",
          "model_name": "LayoutModel",
          "state": {
            "_model_module": "@jupyter-widgets/base",
            "_model_module_version": "1.2.0",
            "_model_name": "LayoutModel",
            "_view_count": null,
            "_view_module": "@jupyter-widgets/base",
            "_view_module_version": "1.2.0",
            "_view_name": "LayoutView",
            "align_content": null,
            "align_items": null,
            "align_self": null,
            "border": null,
            "bottom": null,
            "display": null,
            "flex": null,
            "flex_flow": null,
            "grid_area": null,
            "grid_auto_columns": null,
            "grid_auto_flow": null,
            "grid_auto_rows": null,
            "grid_column": null,
            "grid_gap": null,
            "grid_row": null,
            "grid_template_areas": null,
            "grid_template_columns": null,
            "grid_template_rows": null,
            "height": null,
            "justify_content": null,
            "justify_items": null,
            "left": null,
            "margin": null,
            "max_height": null,
            "max_width": null,
            "min_height": null,
            "min_width": null,
            "object_fit": null,
            "object_position": null,
            "order": null,
            "overflow": null,
            "overflow_x": null,
            "overflow_y": null,
            "padding": null,
            "right": null,
            "top": null,
            "visibility": null,
            "width": null
          }
        },
        "84872eb3763945df81bbec216f840606": {
          "model_module": "@jupyter-widgets/base",
          "model_module_version": "1.2.0",
          "model_name": "LayoutModel",
          "state": {
            "_model_module": "@jupyter-widgets/base",
            "_model_module_version": "1.2.0",
            "_model_name": "LayoutModel",
            "_view_count": null,
            "_view_module": "@jupyter-widgets/base",
            "_view_module_version": "1.2.0",
            "_view_name": "LayoutView",
            "align_content": null,
            "align_items": null,
            "align_self": null,
            "border": null,
            "bottom": null,
            "display": null,
            "flex": null,
            "flex_flow": null,
            "grid_area": null,
            "grid_auto_columns": null,
            "grid_auto_flow": null,
            "grid_auto_rows": null,
            "grid_column": null,
            "grid_gap": null,
            "grid_row": null,
            "grid_template_areas": null,
            "grid_template_columns": null,
            "grid_template_rows": null,
            "height": null,
            "justify_content": null,
            "justify_items": null,
            "left": null,
            "margin": null,
            "max_height": null,
            "max_width": null,
            "min_height": null,
            "min_width": null,
            "object_fit": null,
            "object_position": null,
            "order": null,
            "overflow": null,
            "overflow_x": null,
            "overflow_y": null,
            "padding": null,
            "right": null,
            "top": null,
            "visibility": null,
            "width": null
          }
        },
        "8a8c499756444a5fa91f92b2b9043dfd": {
          "model_module": "@jupyter-widgets/controls",
          "model_module_version": "1.5.0",
          "model_name": "DescriptionStyleModel",
          "state": {
            "_model_module": "@jupyter-widgets/controls",
            "_model_module_version": "1.5.0",
            "_model_name": "DescriptionStyleModel",
            "_view_count": null,
            "_view_module": "@jupyter-widgets/base",
            "_view_module_version": "1.2.0",
            "_view_name": "StyleView",
            "description_width": ""
          }
        },
        "9094e1da5d4443c185d196bae48ee68e": {
          "model_module": "@jupyter-widgets/base",
          "model_module_version": "1.2.0",
          "model_name": "LayoutModel",
          "state": {
            "_model_module": "@jupyter-widgets/base",
            "_model_module_version": "1.2.0",
            "_model_name": "LayoutModel",
            "_view_count": null,
            "_view_module": "@jupyter-widgets/base",
            "_view_module_version": "1.2.0",
            "_view_name": "LayoutView",
            "align_content": null,
            "align_items": null,
            "align_self": null,
            "border": null,
            "bottom": null,
            "display": null,
            "flex": null,
            "flex_flow": null,
            "grid_area": null,
            "grid_auto_columns": null,
            "grid_auto_flow": null,
            "grid_auto_rows": null,
            "grid_column": null,
            "grid_gap": null,
            "grid_row": null,
            "grid_template_areas": null,
            "grid_template_columns": null,
            "grid_template_rows": null,
            "height": null,
            "justify_content": null,
            "justify_items": null,
            "left": null,
            "margin": null,
            "max_height": null,
            "max_width": null,
            "min_height": null,
            "min_width": null,
            "object_fit": null,
            "object_position": null,
            "order": null,
            "overflow": null,
            "overflow_x": null,
            "overflow_y": null,
            "padding": null,
            "right": null,
            "top": null,
            "visibility": "hidden",
            "width": null
          }
        },
        "935aa604b4fc408f8fda7052559236a4": {
          "model_module": "@jupyter-widgets/controls",
          "model_module_version": "1.5.0",
          "model_name": "HTMLModel",
          "state": {
            "_dom_classes": [],
            "_model_module": "@jupyter-widgets/controls",
            "_model_module_version": "1.5.0",
            "_model_name": "HTMLModel",
            "_view_count": null,
            "_view_module": "@jupyter-widgets/controls",
            "_view_module_version": "1.5.0",
            "_view_name": "HTMLView",
            "description": "",
            "description_tooltip": null,
            "layout": "IPY_MODEL_29a833e7e0b244f487d996137c22e48d",
            "placeholder": "​",
            "style": "IPY_MODEL_54bbdd6c08f04c05be04543983528fad",
            "value": " 360/360 [00:00&lt;00:00, 609.04 examples/s]"
          }
        },
        "94bb42f6204546b799d4b395a5a01aa8": {
          "model_module": "@jupyter-widgets/controls",
          "model_module_version": "1.5.0",
          "model_name": "ProgressStyleModel",
          "state": {
            "_model_module": "@jupyter-widgets/controls",
            "_model_module_version": "1.5.0",
            "_model_name": "ProgressStyleModel",
            "_view_count": null,
            "_view_module": "@jupyter-widgets/base",
            "_view_module_version": "1.2.0",
            "_view_name": "StyleView",
            "bar_color": null,
            "description_width": ""
          }
        },
        "9a1ce9c509e842bc88cc643995228d23": {
          "model_module": "@jupyter-widgets/base",
          "model_module_version": "1.2.0",
          "model_name": "LayoutModel",
          "state": {
            "_model_module": "@jupyter-widgets/base",
            "_model_module_version": "1.2.0",
            "_model_name": "LayoutModel",
            "_view_count": null,
            "_view_module": "@jupyter-widgets/base",
            "_view_module_version": "1.2.0",
            "_view_name": "LayoutView",
            "align_content": null,
            "align_items": null,
            "align_self": null,
            "border": null,
            "bottom": null,
            "display": null,
            "flex": null,
            "flex_flow": null,
            "grid_area": null,
            "grid_auto_columns": null,
            "grid_auto_flow": null,
            "grid_auto_rows": null,
            "grid_column": null,
            "grid_gap": null,
            "grid_row": null,
            "grid_template_areas": null,
            "grid_template_columns": null,
            "grid_template_rows": null,
            "height": null,
            "justify_content": null,
            "justify_items": null,
            "left": null,
            "margin": null,
            "max_height": null,
            "max_width": null,
            "min_height": null,
            "min_width": null,
            "object_fit": null,
            "object_position": null,
            "order": null,
            "overflow": null,
            "overflow_x": null,
            "overflow_y": null,
            "padding": null,
            "right": null,
            "top": null,
            "visibility": null,
            "width": null
          }
        },
        "a4f12cee07d84feb896cafc14894bb6b": {
          "model_module": "@jupyter-widgets/base",
          "model_module_version": "1.2.0",
          "model_name": "LayoutModel",
          "state": {
            "_model_module": "@jupyter-widgets/base",
            "_model_module_version": "1.2.0",
            "_model_name": "LayoutModel",
            "_view_count": null,
            "_view_module": "@jupyter-widgets/base",
            "_view_module_version": "1.2.0",
            "_view_name": "LayoutView",
            "align_content": null,
            "align_items": null,
            "align_self": null,
            "border": null,
            "bottom": null,
            "display": null,
            "flex": null,
            "flex_flow": null,
            "grid_area": null,
            "grid_auto_columns": null,
            "grid_auto_flow": null,
            "grid_auto_rows": null,
            "grid_column": null,
            "grid_gap": null,
            "grid_row": null,
            "grid_template_areas": null,
            "grid_template_columns": null,
            "grid_template_rows": null,
            "height": null,
            "justify_content": null,
            "justify_items": null,
            "left": null,
            "margin": null,
            "max_height": null,
            "max_width": null,
            "min_height": null,
            "min_width": null,
            "object_fit": null,
            "object_position": null,
            "order": null,
            "overflow": null,
            "overflow_x": null,
            "overflow_y": null,
            "padding": null,
            "right": null,
            "top": null,
            "visibility": null,
            "width": null
          }
        },
        "ab38b3f3ece64b54bb74c691ab5c39c2": {
          "model_module": "@jupyter-widgets/base",
          "model_module_version": "1.2.0",
          "model_name": "LayoutModel",
          "state": {
            "_model_module": "@jupyter-widgets/base",
            "_model_module_version": "1.2.0",
            "_model_name": "LayoutModel",
            "_view_count": null,
            "_view_module": "@jupyter-widgets/base",
            "_view_module_version": "1.2.0",
            "_view_name": "LayoutView",
            "align_content": null,
            "align_items": null,
            "align_self": null,
            "border": null,
            "bottom": null,
            "display": null,
            "flex": null,
            "flex_flow": null,
            "grid_area": null,
            "grid_auto_columns": null,
            "grid_auto_flow": null,
            "grid_auto_rows": null,
            "grid_column": null,
            "grid_gap": null,
            "grid_row": null,
            "grid_template_areas": null,
            "grid_template_columns": null,
            "grid_template_rows": null,
            "height": null,
            "justify_content": null,
            "justify_items": null,
            "left": null,
            "margin": null,
            "max_height": null,
            "max_width": null,
            "min_height": null,
            "min_width": null,
            "object_fit": null,
            "object_position": null,
            "order": null,
            "overflow": null,
            "overflow_x": null,
            "overflow_y": null,
            "padding": null,
            "right": null,
            "top": null,
            "visibility": null,
            "width": null
          }
        },
        "ade05592e9824b8f82c39eef81891a1c": {
          "model_module": "@jupyter-widgets/controls",
          "model_module_version": "1.5.0",
          "model_name": "DescriptionStyleModel",
          "state": {
            "_model_module": "@jupyter-widgets/controls",
            "_model_module_version": "1.5.0",
            "_model_name": "DescriptionStyleModel",
            "_view_count": null,
            "_view_module": "@jupyter-widgets/base",
            "_view_module_version": "1.2.0",
            "_view_name": "StyleView",
            "description_width": ""
          }
        },
        "b0bd70b4815f43c8924e5dc8f968d7d7": {
          "model_module": "@jupyter-widgets/controls",
          "model_module_version": "1.5.0",
          "model_name": "DescriptionStyleModel",
          "state": {
            "_model_module": "@jupyter-widgets/controls",
            "_model_module_version": "1.5.0",
            "_model_name": "DescriptionStyleModel",
            "_view_count": null,
            "_view_module": "@jupyter-widgets/base",
            "_view_module_version": "1.2.0",
            "_view_name": "StyleView",
            "description_width": ""
          }
        },
        "c5aacec387d240fc91185a83f53965ce": {
          "model_module": "@jupyter-widgets/base",
          "model_module_version": "1.2.0",
          "model_name": "LayoutModel",
          "state": {
            "_model_module": "@jupyter-widgets/base",
            "_model_module_version": "1.2.0",
            "_model_name": "LayoutModel",
            "_view_count": null,
            "_view_module": "@jupyter-widgets/base",
            "_view_module_version": "1.2.0",
            "_view_name": "LayoutView",
            "align_content": null,
            "align_items": null,
            "align_self": null,
            "border": null,
            "bottom": null,
            "display": null,
            "flex": null,
            "flex_flow": null,
            "grid_area": null,
            "grid_auto_columns": null,
            "grid_auto_flow": null,
            "grid_auto_rows": null,
            "grid_column": null,
            "grid_gap": null,
            "grid_row": null,
            "grid_template_areas": null,
            "grid_template_columns": null,
            "grid_template_rows": null,
            "height": null,
            "justify_content": null,
            "justify_items": null,
            "left": null,
            "margin": null,
            "max_height": null,
            "max_width": null,
            "min_height": null,
            "min_width": null,
            "object_fit": null,
            "object_position": null,
            "order": null,
            "overflow": null,
            "overflow_x": null,
            "overflow_y": null,
            "padding": null,
            "right": null,
            "top": null,
            "visibility": null,
            "width": null
          }
        },
        "cc4f19b368e247a181fc1f371ef5366a": {
          "model_module": "@jupyter-widgets/controls",
          "model_module_version": "1.5.0",
          "model_name": "DescriptionStyleModel",
          "state": {
            "_model_module": "@jupyter-widgets/controls",
            "_model_module_version": "1.5.0",
            "_model_name": "DescriptionStyleModel",
            "_view_count": null,
            "_view_module": "@jupyter-widgets/base",
            "_view_module_version": "1.2.0",
            "_view_name": "StyleView",
            "description_width": ""
          }
        },
        "cdba08001255495fbefdd55841bb0662": {
          "model_module": "@jupyter-widgets/base",
          "model_module_version": "1.2.0",
          "model_name": "LayoutModel",
          "state": {
            "_model_module": "@jupyter-widgets/base",
            "_model_module_version": "1.2.0",
            "_model_name": "LayoutModel",
            "_view_count": null,
            "_view_module": "@jupyter-widgets/base",
            "_view_module_version": "1.2.0",
            "_view_name": "LayoutView",
            "align_content": null,
            "align_items": null,
            "align_self": null,
            "border": null,
            "bottom": null,
            "display": null,
            "flex": null,
            "flex_flow": null,
            "grid_area": null,
            "grid_auto_columns": null,
            "grid_auto_flow": null,
            "grid_auto_rows": null,
            "grid_column": null,
            "grid_gap": null,
            "grid_row": null,
            "grid_template_areas": null,
            "grid_template_columns": null,
            "grid_template_rows": null,
            "height": null,
            "justify_content": null,
            "justify_items": null,
            "left": null,
            "margin": null,
            "max_height": null,
            "max_width": null,
            "min_height": null,
            "min_width": null,
            "object_fit": null,
            "object_position": null,
            "order": null,
            "overflow": null,
            "overflow_x": null,
            "overflow_y": null,
            "padding": null,
            "right": null,
            "top": null,
            "visibility": null,
            "width": null
          }
        },
        "d153a775c0bf49939b438f9534c883cc": {
          "model_module": "@jupyter-widgets/controls",
          "model_module_version": "1.5.0",
          "model_name": "FloatProgressModel",
          "state": {
            "_dom_classes": [],
            "_model_module": "@jupyter-widgets/controls",
            "_model_module_version": "1.5.0",
            "_model_name": "FloatProgressModel",
            "_view_count": null,
            "_view_module": "@jupyter-widgets/controls",
            "_view_module_version": "1.5.0",
            "_view_name": "ProgressView",
            "bar_style": "",
            "description": "",
            "description_tooltip": null,
            "layout": "IPY_MODEL_eb64877861ad40df9e49d7663468eb6a",
            "max": 40,
            "min": 0,
            "orientation": "horizontal",
            "style": "IPY_MODEL_e81b8b9c5de64c18824754b11e87f730",
            "value": 40
          }
        },
        "d2bc578a1e154ec184240b487c436731": {
          "model_module": "@jupyter-widgets/base",
          "model_module_version": "1.2.0",
          "model_name": "LayoutModel",
          "state": {
            "_model_module": "@jupyter-widgets/base",
            "_model_module_version": "1.2.0",
            "_model_name": "LayoutModel",
            "_view_count": null,
            "_view_module": "@jupyter-widgets/base",
            "_view_module_version": "1.2.0",
            "_view_name": "LayoutView",
            "align_content": null,
            "align_items": null,
            "align_self": null,
            "border": null,
            "bottom": null,
            "display": null,
            "flex": null,
            "flex_flow": null,
            "grid_area": null,
            "grid_auto_columns": null,
            "grid_auto_flow": null,
            "grid_auto_rows": null,
            "grid_column": null,
            "grid_gap": null,
            "grid_row": null,
            "grid_template_areas": null,
            "grid_template_columns": null,
            "grid_template_rows": null,
            "height": null,
            "justify_content": null,
            "justify_items": null,
            "left": null,
            "margin": null,
            "max_height": null,
            "max_width": null,
            "min_height": null,
            "min_width": null,
            "object_fit": null,
            "object_position": null,
            "order": null,
            "overflow": null,
            "overflow_x": null,
            "overflow_y": null,
            "padding": null,
            "right": null,
            "top": null,
            "visibility": "hidden",
            "width": null
          }
        },
        "dfc48087fa344f15a3fe18a6ab869e01": {
          "model_module": "@jupyter-widgets/base",
          "model_module_version": "1.2.0",
          "model_name": "LayoutModel",
          "state": {
            "_model_module": "@jupyter-widgets/base",
            "_model_module_version": "1.2.0",
            "_model_name": "LayoutModel",
            "_view_count": null,
            "_view_module": "@jupyter-widgets/base",
            "_view_module_version": "1.2.0",
            "_view_name": "LayoutView",
            "align_content": null,
            "align_items": null,
            "align_self": null,
            "border": null,
            "bottom": null,
            "display": null,
            "flex": null,
            "flex_flow": null,
            "grid_area": null,
            "grid_auto_columns": null,
            "grid_auto_flow": null,
            "grid_auto_rows": null,
            "grid_column": null,
            "grid_gap": null,
            "grid_row": null,
            "grid_template_areas": null,
            "grid_template_columns": null,
            "grid_template_rows": null,
            "height": null,
            "justify_content": null,
            "justify_items": null,
            "left": null,
            "margin": null,
            "max_height": null,
            "max_width": null,
            "min_height": null,
            "min_width": null,
            "object_fit": null,
            "object_position": null,
            "order": null,
            "overflow": null,
            "overflow_x": null,
            "overflow_y": null,
            "padding": null,
            "right": null,
            "top": null,
            "visibility": "hidden",
            "width": null
          }
        },
        "e01072bcc8b74c6f9413fa5aa5d0a100": {
          "model_module": "@jupyter-widgets/controls",
          "model_module_version": "1.5.0",
          "model_name": "ProgressStyleModel",
          "state": {
            "_model_module": "@jupyter-widgets/controls",
            "_model_module_version": "1.5.0",
            "_model_name": "ProgressStyleModel",
            "_view_count": null,
            "_view_module": "@jupyter-widgets/base",
            "_view_module_version": "1.2.0",
            "_view_name": "StyleView",
            "bar_color": null,
            "description_width": ""
          }
        },
        "e69827a8b4bc42e6a6f73555d7a6f72c": {
          "model_module": "@jupyter-widgets/controls",
          "model_module_version": "1.5.0",
          "model_name": "ProgressStyleModel",
          "state": {
            "_model_module": "@jupyter-widgets/controls",
            "_model_module_version": "1.5.0",
            "_model_name": "ProgressStyleModel",
            "_view_count": null,
            "_view_module": "@jupyter-widgets/base",
            "_view_module_version": "1.2.0",
            "_view_name": "StyleView",
            "bar_color": null,
            "description_width": ""
          }
        },
        "e7c62f3532254142962495880f1d4730": {
          "model_module": "@jupyter-widgets/controls",
          "model_module_version": "1.5.0",
          "model_name": "ProgressStyleModel",
          "state": {
            "_model_module": "@jupyter-widgets/controls",
            "_model_module_version": "1.5.0",
            "_model_name": "ProgressStyleModel",
            "_view_count": null,
            "_view_module": "@jupyter-widgets/base",
            "_view_module_version": "1.2.0",
            "_view_name": "StyleView",
            "bar_color": null,
            "description_width": ""
          }
        },
        "e81b8b9c5de64c18824754b11e87f730": {
          "model_module": "@jupyter-widgets/controls",
          "model_module_version": "1.5.0",
          "model_name": "ProgressStyleModel",
          "state": {
            "_model_module": "@jupyter-widgets/controls",
            "_model_module_version": "1.5.0",
            "_model_name": "ProgressStyleModel",
            "_view_count": null,
            "_view_module": "@jupyter-widgets/base",
            "_view_module_version": "1.2.0",
            "_view_name": "StyleView",
            "bar_color": null,
            "description_width": ""
          }
        },
        "e85e918c0d1c482e8861a0696df188c1": {
          "model_module": "@jupyter-widgets/base",
          "model_module_version": "1.2.0",
          "model_name": "LayoutModel",
          "state": {
            "_model_module": "@jupyter-widgets/base",
            "_model_module_version": "1.2.0",
            "_model_name": "LayoutModel",
            "_view_count": null,
            "_view_module": "@jupyter-widgets/base",
            "_view_module_version": "1.2.0",
            "_view_name": "LayoutView",
            "align_content": null,
            "align_items": null,
            "align_self": null,
            "border": null,
            "bottom": null,
            "display": null,
            "flex": null,
            "flex_flow": null,
            "grid_area": null,
            "grid_auto_columns": null,
            "grid_auto_flow": null,
            "grid_auto_rows": null,
            "grid_column": null,
            "grid_gap": null,
            "grid_row": null,
            "grid_template_areas": null,
            "grid_template_columns": null,
            "grid_template_rows": null,
            "height": null,
            "justify_content": null,
            "justify_items": null,
            "left": null,
            "margin": null,
            "max_height": null,
            "max_width": null,
            "min_height": null,
            "min_width": null,
            "object_fit": null,
            "object_position": null,
            "order": null,
            "overflow": null,
            "overflow_x": null,
            "overflow_y": null,
            "padding": null,
            "right": null,
            "top": null,
            "visibility": "hidden",
            "width": null
          }
        },
        "ea9a7d60794b40b2bbb704bc17335ab8": {
          "model_module": "@jupyter-widgets/controls",
          "model_module_version": "1.5.0",
          "model_name": "HTMLModel",
          "state": {
            "_dom_classes": [],
            "_model_module": "@jupyter-widgets/controls",
            "_model_module_version": "1.5.0",
            "_model_name": "HTMLModel",
            "_view_count": null,
            "_view_module": "@jupyter-widgets/controls",
            "_view_module_version": "1.5.0",
            "_view_name": "HTMLView",
            "description": "",
            "description_tooltip": null,
            "layout": "IPY_MODEL_56c0430f090d4203b5f27dd2f309abc0",
            "placeholder": "​",
            "style": "IPY_MODEL_b0bd70b4815f43c8924e5dc8f968d7d7",
            "value": "Map:   0%"
          }
        },
        "eb64877861ad40df9e49d7663468eb6a": {
          "model_module": "@jupyter-widgets/base",
          "model_module_version": "1.2.0",
          "model_name": "LayoutModel",
          "state": {
            "_model_module": "@jupyter-widgets/base",
            "_model_module_version": "1.2.0",
            "_model_name": "LayoutModel",
            "_view_count": null,
            "_view_module": "@jupyter-widgets/base",
            "_view_module_version": "1.2.0",
            "_view_name": "LayoutView",
            "align_content": null,
            "align_items": null,
            "align_self": null,
            "border": null,
            "bottom": null,
            "display": null,
            "flex": null,
            "flex_flow": null,
            "grid_area": null,
            "grid_auto_columns": null,
            "grid_auto_flow": null,
            "grid_auto_rows": null,
            "grid_column": null,
            "grid_gap": null,
            "grid_row": null,
            "grid_template_areas": null,
            "grid_template_columns": null,
            "grid_template_rows": null,
            "height": null,
            "justify_content": null,
            "justify_items": null,
            "left": null,
            "margin": null,
            "max_height": null,
            "max_width": null,
            "min_height": null,
            "min_width": null,
            "object_fit": null,
            "object_position": null,
            "order": null,
            "overflow": null,
            "overflow_x": null,
            "overflow_y": null,
            "padding": null,
            "right": null,
            "top": null,
            "visibility": null,
            "width": null
          }
        },
        "f3b83a67c8dc406a99bee689712fd709": {
          "model_module": "@jupyter-widgets/controls",
          "model_module_version": "1.5.0",
          "model_name": "DescriptionStyleModel",
          "state": {
            "_model_module": "@jupyter-widgets/controls",
            "_model_module_version": "1.5.0",
            "_model_name": "DescriptionStyleModel",
            "_view_count": null,
            "_view_module": "@jupyter-widgets/base",
            "_view_module_version": "1.2.0",
            "_view_name": "StyleView",
            "description_width": ""
          }
        },
        "f453f7f8175249cf8426abb78e920528": {
          "model_module": "@jupyter-widgets/base",
          "model_module_version": "1.2.0",
          "model_name": "LayoutModel",
          "state": {
            "_model_module": "@jupyter-widgets/base",
            "_model_module_version": "1.2.0",
            "_model_name": "LayoutModel",
            "_view_count": null,
            "_view_module": "@jupyter-widgets/base",
            "_view_module_version": "1.2.0",
            "_view_name": "LayoutView",
            "align_content": null,
            "align_items": null,
            "align_self": null,
            "border": null,
            "bottom": null,
            "display": null,
            "flex": null,
            "flex_flow": null,
            "grid_area": null,
            "grid_auto_columns": null,
            "grid_auto_flow": null,
            "grid_auto_rows": null,
            "grid_column": null,
            "grid_gap": null,
            "grid_row": null,
            "grid_template_areas": null,
            "grid_template_columns": null,
            "grid_template_rows": null,
            "height": null,
            "justify_content": null,
            "justify_items": null,
            "left": null,
            "margin": null,
            "max_height": null,
            "max_width": null,
            "min_height": null,
            "min_width": null,
            "object_fit": null,
            "object_position": null,
            "order": null,
            "overflow": null,
            "overflow_x": null,
            "overflow_y": null,
            "padding": null,
            "right": null,
            "top": null,
            "visibility": null,
            "width": null
          }
        },
        "f5094c36112644e68a0d4538a3acfb00": {
          "model_module": "@jupyter-widgets/base",
          "model_module_version": "1.2.0",
          "model_name": "LayoutModel",
          "state": {
            "_model_module": "@jupyter-widgets/base",
            "_model_module_version": "1.2.0",
            "_model_name": "LayoutModel",
            "_view_count": null,
            "_view_module": "@jupyter-widgets/base",
            "_view_module_version": "1.2.0",
            "_view_name": "LayoutView",
            "align_content": null,
            "align_items": null,
            "align_self": null,
            "border": null,
            "bottom": null,
            "display": null,
            "flex": null,
            "flex_flow": null,
            "grid_area": null,
            "grid_auto_columns": null,
            "grid_auto_flow": null,
            "grid_auto_rows": null,
            "grid_column": null,
            "grid_gap": null,
            "grid_row": null,
            "grid_template_areas": null,
            "grid_template_columns": null,
            "grid_template_rows": null,
            "height": null,
            "justify_content": null,
            "justify_items": null,
            "left": null,
            "margin": null,
            "max_height": null,
            "max_width": null,
            "min_height": null,
            "min_width": null,
            "object_fit": null,
            "object_position": null,
            "order": null,
            "overflow": null,
            "overflow_x": null,
            "overflow_y": null,
            "padding": null,
            "right": null,
            "top": null,
            "visibility": null,
            "width": null
          }
        },
        "f52a7931d8c54ebe8d1cf3881cb84dc7": {
          "model_module": "@jupyter-widgets/controls",
          "model_module_version": "1.5.0",
          "model_name": "HTMLModel",
          "state": {
            "_dom_classes": [],
            "_model_module": "@jupyter-widgets/controls",
            "_model_module_version": "1.5.0",
            "_model_name": "HTMLModel",
            "_view_count": null,
            "_view_module": "@jupyter-widgets/controls",
            "_view_module_version": "1.5.0",
            "_view_name": "HTMLView",
            "description": "",
            "description_tooltip": null,
            "layout": "IPY_MODEL_a4f12cee07d84feb896cafc14894bb6b",
            "placeholder": "​",
            "style": "IPY_MODEL_3352e59f3b974d339b997a5a3b81c02e",
            "value": " 331/360 [00:00&lt;00:00, 593.67 examples/s]"
          }
        }
      }
    }
  },
  "nbformat": 4,
  "nbformat_minor": 0
}